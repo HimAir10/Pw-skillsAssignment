{
  "nbformat": 4,
  "nbformat_minor": 0,
  "metadata": {
    "colab": {
      "provenance": []
    },
    "kernelspec": {
      "name": "python3",
      "display_name": "Python 3"
    },
    "language_info": {
      "name": "python"
    }
  },
  "cells": [
    {
      "cell_type": "markdown",
      "source": [
        "# Python Basics Questions"
      ],
      "metadata": {
        "id": "qgxezQVFgA3R"
      }
    },
    {
      "cell_type": "markdown",
      "source": [
        "1. What is Python, and why is it popular?\n",
        "  - Python is a high-level, interpreted programming language known for its readability and versatility. It's popular due to its simple syntax, extensive libraries, cross-platform compatibility, and strong community support. It's widely used in web development, data science, AI, automation, and more."
      ],
      "metadata": {
        "id": "hZc_qz3ddXIY"
      }
    },
    {
      "cell_type": "markdown",
      "source": [
        "2. What is an interpreter in Python?\n",
        "  - An interpreter executes Python code line-by-line, converting it to machine code on the fly (unlike compilers, which translate the entire program at once)."
      ],
      "metadata": {
        "id": "X0zx9_6idhKT"
      }
    },
    {
      "cell_type": "markdown",
      "source": [
        "3. What are pre-defined keywords in Python?\n",
        "  - Keywords are reserved words with special meanings (e.g., if, else, for, while, def, class). They cannot be redefined.\n",
        "\n"
      ],
      "metadata": {
        "id": "YTFc0vb2dt-k"
      }
    },
    {
      "cell_type": "markdown",
      "source": [
        "4. Can keywords be used as variable names?\n",
        "  - No, using keywords as variables (e.g., if = 5) causes a SyntaxError."
      ],
      "metadata": {
        "id": "pZa6tsKad2Yn"
      }
    },
    {
      "cell_type": "markdown",
      "source": [
        "5. What is mutability in Python?\n",
        "  - Mutability refers to whether an object’s value can be changed after creation. Mutable objects (e.g., lists, dictionaries) can be modified; immutable ones (e.g., tuples, strings) cannot."
      ],
      "metadata": {
        "id": "UICT6Ycdd_mu"
      }
    },
    {
      "cell_type": "markdown",
      "source": [
        "6. Why are lists mutable, but tuples are immutable?\n",
        "  - Lists are mutable for flexibility (e.g., adding/removing items), while tuples are immutable for safety (e.g., use as dictionary keys or to ensure data integrity)."
      ],
      "metadata": {
        "id": "SbCm1huveFUV"
      }
    },
    {
      "cell_type": "markdown",
      "source": [
        "7. Difference between == and is operators\n",
        "  - == checks value equality.\n",
        "\n",
        "  - is checks identity (whether two variables reference the same object in memory).\n"
      ],
      "metadata": {
        "id": "5x4H64YQeKIq"
      }
    },
    {
      "cell_type": "markdown",
      "source": [
        "8. Logical operators in Python\n",
        "  - and: True if both operands are true.\n",
        "  - or: True if at least one operand is true.\n",
        "  - not: Inverts the boolean value.\n"
      ],
      "metadata": {
        "id": "Y1iECkEheXOr"
      }
    },
    {
      "cell_type": "markdown",
      "source": [
        "9. What is type casting?\n",
        "  - Converting one data type to another (e.g., int(\"5\") converts a string to an integer)."
      ],
      "metadata": {
        "id": "OxiGPzpXerwL"
      }
    },
    {
      "cell_type": "markdown",
      "source": [
        "10. Implicit vs. Explicit Type Casting\n",
        "  - Implicit: Automatic conversion by Python (e.g., 3 + 2.0 becomes float).\n",
        "  - Explicit: Manual conversion (e.g., str(100))."
      ],
      "metadata": {
        "id": "bMKiofzSeysv"
      }
    },
    {
      "cell_type": "markdown",
      "source": [
        "11. Purpose of conditional statements\n",
        "  - To execute code blocks based on conditions (e.g., if-elif-else for decision-making)."
      ],
      "metadata": {
        "id": "OOobe9bZfdCl"
      }
    },
    {
      "cell_type": "markdown",
      "source": [
        "12. How elif works\n",
        "  - Short for \"else if,\" it checks another condition if the previous if/elif was false. Only the first true block executes."
      ],
      "metadata": {
        "id": "Luaiul4efipK"
      }
    },
    {
      "cell_type": "markdown",
      "source": [
        "13. Difference between for and while loops\n",
        "  - for: Iterates over a sequence (e.g., list, string) for a known number of iterations.\n",
        "  - while: Runs while a condition is true, useful for unknown iterations."
      ],
      "metadata": {
        "id": "O4lWjnaUfpW3"
      }
    },
    {
      "cell_type": "markdown",
      "source": [
        "14. Scenario for while over for\n",
        "  - Use while when the number of iterations is uncertain, e.g., reading user input until a valid response."
      ],
      "metadata": {
        "id": "JQ-6mKpXfxRp"
      }
    },
    {
      "cell_type": "markdown",
      "source": [
        "# Practical Questions"
      ],
      "metadata": {
        "id": "n3bWsHfPgLpq"
      }
    },
    {
      "cell_type": "markdown",
      "source": [
        "1. Write a Python program to print \"Hello, World!\""
      ],
      "metadata": {
        "id": "wDhxxiGxgR8Q"
      }
    },
    {
      "cell_type": "code",
      "source": [
        "print(\"Hello, World!\")"
      ],
      "metadata": {
        "colab": {
          "base_uri": "https://localhost:8080/"
        },
        "id": "lYzeYk0Ad7XI",
        "outputId": "be20c69a-1d49-4aae-e538-62db6dac86f1"
      },
      "execution_count": 1,
      "outputs": [
        {
          "output_type": "stream",
          "name": "stdout",
          "text": [
            "Hello, World!\n"
          ]
        }
      ]
    },
    {
      "cell_type": "markdown",
      "source": [
        "2. Write a Python program that displays your name and age."
      ],
      "metadata": {
        "id": "Ss10gl8-gvOI"
      }
    },
    {
      "cell_type": "code",
      "source": [
        "name = input(\"Your Name is:\")\n",
        "age  = int(input(\"Your age is:\"))"
      ],
      "metadata": {
        "colab": {
          "base_uri": "https://localhost:8080/"
        },
        "id": "BHCLPGMZdtlW",
        "outputId": "9aebcd8a-7618-4250-c0cb-1c00ce80ea32"
      },
      "execution_count": 2,
      "outputs": [
        {
          "name": "stdout",
          "output_type": "stream",
          "text": [
            "Your Name is:Himanshu Jha\n",
            "Your age is:21\n"
          ]
        }
      ]
    },
    {
      "cell_type": "markdown",
      "source": [
        "3. Write code to print all the pre-defined keywords in Python using the keyword library."
      ],
      "metadata": {
        "id": "7dKLDx_Yg6bm"
      }
    },
    {
      "cell_type": "code",
      "source": [
        "import keyword\n",
        "print(\"python keywords are:\")\n",
        "print(keyword.kwlist)"
      ],
      "metadata": {
        "colab": {
          "base_uri": "https://localhost:8080/"
        },
        "id": "SZgGWysede60",
        "outputId": "c6d1af70-437f-4a7a-a4fd-0668c9b6e8b4"
      },
      "execution_count": 3,
      "outputs": [
        {
          "output_type": "stream",
          "name": "stdout",
          "text": [
            "python keywords are:\n",
            "['False', 'None', 'True', 'and', 'as', 'assert', 'async', 'await', 'break', 'class', 'continue', 'def', 'del', 'elif', 'else', 'except', 'finally', 'for', 'from', 'global', 'if', 'import', 'in', 'is', 'lambda', 'nonlocal', 'not', 'or', 'pass', 'raise', 'return', 'try', 'while', 'with', 'yield']\n"
          ]
        }
      ]
    },
    {
      "cell_type": "markdown",
      "source": [
        "4. Write a program that checks if a given word is a Python keyword."
      ],
      "metadata": {
        "id": "cavhnNh_hAZ5"
      }
    },
    {
      "cell_type": "code",
      "source": [
        "import keyword\n",
        "word = input(\"Write word:\")\n",
        "if keyword.iskeyword(word):\n",
        "    print('it is a python keyword')\n",
        "else:\n",
        "    print('it is not a python keyword')\n"
      ],
      "metadata": {
        "colab": {
          "base_uri": "https://localhost:8080/"
        },
        "id": "9WceUqqsg-XW",
        "outputId": "4d18d1e8-b877-48e3-bb1a-d1e73e176b60"
      },
      "execution_count": 4,
      "outputs": [
        {
          "output_type": "stream",
          "name": "stdout",
          "text": [
            "Write word:def\n",
            "it is a python keyword\n"
          ]
        }
      ]
    },
    {
      "cell_type": "markdown",
      "source": [
        "5. Create a list and tuple in Python, and demonstrate how attempting to change an element works differently for each."
      ],
      "metadata": {
        "id": "KItiH3XnhKB_"
      }
    },
    {
      "cell_type": "code",
      "source": [
        "list = [1,2,3,4,5]\n",
        "tuple = (3,5,6,7,8)\n",
        "list[0] = 4\n",
        "print(list)\n"
      ],
      "metadata": {
        "colab": {
          "base_uri": "https://localhost:8080/"
        },
        "id": "GvQSNLXghF5Z",
        "outputId": "7475a063-8b88-4420-faf7-4519b7a53d7a"
      },
      "execution_count": 5,
      "outputs": [
        {
          "output_type": "stream",
          "name": "stdout",
          "text": [
            "[4, 2, 3, 4, 5]\n"
          ]
        }
      ]
    },
    {
      "cell_type": "code",
      "source": [
        "tuple[0] = 1\n"
      ],
      "metadata": {
        "colab": {
          "base_uri": "https://localhost:8080/",
          "height": 173
        },
        "id": "A3SwURRfhQGX",
        "outputId": "7136061c-d523-409d-e049-b5afecb50cc5"
      },
      "execution_count": 6,
      "outputs": [
        {
          "output_type": "error",
          "ename": "TypeError",
          "evalue": "'tuple' object does not support item assignment",
          "traceback": [
            "\u001b[0;31m---------------------------------------------------------------------------\u001b[0m",
            "\u001b[0;31mTypeError\u001b[0m                                 Traceback (most recent call last)",
            "\u001b[0;32m<ipython-input-6-2e861b9fbe18>\u001b[0m in \u001b[0;36m<cell line: 0>\u001b[0;34m()\u001b[0m\n\u001b[0;32m----> 1\u001b[0;31m \u001b[0mtuple\u001b[0m\u001b[0;34m[\u001b[0m\u001b[0;36m0\u001b[0m\u001b[0;34m]\u001b[0m \u001b[0;34m=\u001b[0m \u001b[0;36m1\u001b[0m\u001b[0;34m\u001b[0m\u001b[0;34m\u001b[0m\u001b[0m\n\u001b[0m",
            "\u001b[0;31mTypeError\u001b[0m: 'tuple' object does not support item assignment"
          ]
        }
      ]
    },
    {
      "cell_type": "markdown",
      "source": [
        "6. Write a function to demonstrate the behavior of mutable and immutable arguments."
      ],
      "metadata": {
        "id": "Ps6pK5EJhTio"
      }
    },
    {
      "cell_type": "code",
      "source": [
        "def modifylist(list):\n",
        "    list.append(100)\n",
        "    print('list inside function', list)\n",
        "\n",
        "def modify_number(num):\n",
        "    num =  num+10\n",
        "    print(\"number inside function:\", num)\n",
        "\n",
        "list = [1,2,3,4]\n",
        "modifylist(list)\n",
        "print(\"list outside the function:\",list)\n",
        "\n",
        "num =100\n",
        "modify_number(num)\n",
        "print(\"nuumber outside the function:\",num)"
      ],
      "metadata": {
        "colab": {
          "base_uri": "https://localhost:8080/"
        },
        "id": "lssUwh0mhSXb",
        "outputId": "402a7f22-bc20-4338-a37e-b30a781a7f32"
      },
      "execution_count": 7,
      "outputs": [
        {
          "output_type": "stream",
          "name": "stdout",
          "text": [
            "list inside function [1, 2, 3, 4, 100]\n",
            "list outside the function: [1, 2, 3, 4, 100]\n",
            "number inside function: 110\n",
            "nuumber outside the function: 100\n"
          ]
        }
      ]
    },
    {
      "cell_type": "markdown",
      "source": [
        "7. Write a program that performs basic arithmetic operations on two user-input numbers."
      ],
      "metadata": {
        "id": "IfO3u9KBhagM"
      }
    },
    {
      "cell_type": "code",
      "source": [
        "a = int(input('Write 1st number:'))\n",
        "b = int(input('Write 2nd number:'))\n",
        "\n",
        "print(\"addition of two numbers is:\",a+b)\n",
        "print(\"substraction of two numbers is:\",a-b)\n",
        "print(\"multiplication of two numbers is:\",a*b)\n",
        "print(\"division of two numbers is:\",a/b)"
      ],
      "metadata": {
        "colab": {
          "base_uri": "https://localhost:8080/"
        },
        "id": "vj9fkmrJhYQp",
        "outputId": "65bc9e40-9311-4309-e636-3923c2caae77"
      },
      "execution_count": 8,
      "outputs": [
        {
          "output_type": "stream",
          "name": "stdout",
          "text": [
            "Write 1st number:10\n",
            "Write 2nd number:5\n",
            "addition of two numbers is: 15\n",
            "substraction of two numbers is: 5\n",
            "multiplication of two numbers is: 50\n",
            "division of two numbers is: 2.0\n"
          ]
        }
      ]
    },
    {
      "cell_type": "markdown",
      "source": [
        "8. Write a program to demonstrate the use of logical operators."
      ],
      "metadata": {
        "id": "fBjRxKC9heOe"
      }
    },
    {
      "cell_type": "code",
      "source": [
        "a = int(input(\"Enter first number: \"))\n",
        "b = int(input(\"Enter second number: \"))\n",
        "\n",
        "print(\"Both numbers are positive:\", a > 0 and b > 0)\n",
        "print(\"At least one number is positive:\", a > 0 or b > 0)\n",
        "print(\"First number is not positive:\", not (a > 0))\n"
      ],
      "metadata": {
        "colab": {
          "base_uri": "https://localhost:8080/"
        },
        "id": "g9i235GShYOk",
        "outputId": "f5bbaa91-dbfe-4327-85bb-c0337211b0ab"
      },
      "execution_count": 9,
      "outputs": [
        {
          "output_type": "stream",
          "name": "stdout",
          "text": [
            "Enter first number: 10\n",
            "Enter second number: 5\n",
            "Both numbers are positive: True\n",
            "At least one number is positive: True\n",
            "First number is not positive: False\n"
          ]
        }
      ]
    },
    {
      "cell_type": "markdown",
      "source": [
        "9. Write a Python program to convert user input from string to integer, float, and boolean types."
      ],
      "metadata": {
        "id": "2NKn8qD3hg62"
      }
    },
    {
      "cell_type": "code",
      "source": [
        "value = input(\"Enter something: \")\n",
        "\n",
        "int_value = int(value)\n",
        "float_value = float(value)\n",
        "bool_value = bool(int(value))\n",
        "\n",
        "print(\"Integer:\", int_value)\n",
        "print(\"Float:\", float_value)\n",
        "print(\"Boolean:\", bool_value)\n"
      ],
      "metadata": {
        "colab": {
          "base_uri": "https://localhost:8080/"
        },
        "id": "ydYM9A74hYL9",
        "outputId": "624b5937-3010-407e-dfd7-38cf3ae6fe95"
      },
      "execution_count": 10,
      "outputs": [
        {
          "output_type": "stream",
          "name": "stdout",
          "text": [
            "Enter something: 10\n",
            "Integer: 10\n",
            "Float: 10.0\n",
            "Boolean: True\n"
          ]
        }
      ]
    },
    {
      "cell_type": "markdown",
      "source": [
        "10. Write code to demonstrate type casting with list elements."
      ],
      "metadata": {
        "id": "luO4qWNqhkD5"
      }
    },
    {
      "cell_type": "code",
      "source": [
        "str_list = [\"1\", \"2\", \"3\"]\n",
        "int_list = [int(x) for x in str_list]\n",
        "\n",
        "print(\"Original list:\", str_list)\n",
        "print(\"List after type casting to int:\", int_list)\n"
      ],
      "metadata": {
        "colab": {
          "base_uri": "https://localhost:8080/"
        },
        "id": "rSklYxWrhYJZ",
        "outputId": "9c5bb516-9592-4748-d749-d288edba4c11"
      },
      "execution_count": 11,
      "outputs": [
        {
          "output_type": "stream",
          "name": "stdout",
          "text": [
            "Original list: ['1', '2', '3']\n",
            "List after type casting to int: [1, 2, 3]\n"
          ]
        }
      ]
    },
    {
      "cell_type": "markdown",
      "source": [
        "11. Write a program that checks if a number is positive, negative, or zero."
      ],
      "metadata": {
        "id": "BVV0q66Zhn3F"
      }
    },
    {
      "cell_type": "code",
      "source": [
        "num = float(input(\"Enter a number: \"))\n",
        "\n",
        "if num > 0:\n",
        "    print(\"Positive number\")\n",
        "elif num < 0:\n",
        "    print(\"Negative number\")\n",
        "else:\n",
        "    print(\"Zero\")\n"
      ],
      "metadata": {
        "colab": {
          "base_uri": "https://localhost:8080/"
        },
        "id": "KzplTmgvhX_M",
        "outputId": "1ea34573-e110-4665-8f66-6f9a8c405d65"
      },
      "execution_count": 13,
      "outputs": [
        {
          "output_type": "stream",
          "name": "stdout",
          "text": [
            "Enter a number: -1\n",
            "Negative number\n"
          ]
        }
      ]
    },
    {
      "cell_type": "markdown",
      "source": [
        "12. Write a for loop to print numbers from 1 to 10."
      ],
      "metadata": {
        "id": "Q04LAoABhqzK"
      }
    },
    {
      "cell_type": "code",
      "source": [
        "for i in range(1, 11):\n",
        "    print(i)\n"
      ],
      "metadata": {
        "colab": {
          "base_uri": "https://localhost:8080/"
        },
        "id": "cggFWvwPhX8m",
        "outputId": "bc70041c-fd24-43cb-c152-8670eecc7ba8"
      },
      "execution_count": 14,
      "outputs": [
        {
          "output_type": "stream",
          "name": "stdout",
          "text": [
            "1\n",
            "2\n",
            "3\n",
            "4\n",
            "5\n",
            "6\n",
            "7\n",
            "8\n",
            "9\n",
            "10\n"
          ]
        }
      ]
    },
    {
      "cell_type": "markdown",
      "source": [
        "13. Write a Python program to find the sum of all even numbers between 1 and 50."
      ],
      "metadata": {
        "id": "ddAzqzskhuBJ"
      }
    },
    {
      "cell_type": "code",
      "source": [
        "sum = 0\n",
        "for i in range(1,51):\n",
        "    if(i%2==0):\n",
        "        sum = sum+i\n",
        "print(\"the sum of even numbers between 1 to 50 is:\", sum)\n",
        ""
      ],
      "metadata": {
        "colab": {
          "base_uri": "https://localhost:8080/"
        },
        "id": "G-gsGoKJhw4c",
        "outputId": "2822c68d-079d-4cc0-c669-fc76da424f8f"
      },
      "execution_count": 15,
      "outputs": [
        {
          "output_type": "stream",
          "name": "stdout",
          "text": [
            "the sum of even numbers between 1 to 50 is: 650\n"
          ]
        }
      ]
    },
    {
      "cell_type": "markdown",
      "source": [
        "14. Write a program to reverse a string using a while loop."
      ],
      "metadata": {
        "id": "8o3TgbTQhyb8"
      }
    },
    {
      "cell_type": "code",
      "source": [
        "a = input('Enter a string:')\n",
        "rev = \"\"\n",
        "i = len(a)-1\n",
        "while(i>=0):\n",
        "    rev = rev+a[i]\n",
        "    i = i-1\n",
        "print(rev)"
      ],
      "metadata": {
        "colab": {
          "base_uri": "https://localhost:8080/"
        },
        "id": "m-hNHQP3hX4N",
        "outputId": "90cdd459-e8a3-4cd5-fd79-d0da55e06fcc"
      },
      "execution_count": 16,
      "outputs": [
        {
          "output_type": "stream",
          "name": "stdout",
          "text": [
            "Enter a string:PWskills\n",
            "slliksWP\n"
          ]
        }
      ]
    },
    {
      "cell_type": "markdown",
      "source": [
        "15. Write a Python program to calculate the factorial of a number provided by the user using a while loop."
      ],
      "metadata": {
        "id": "FbPQdO2Rh0ss"
      }
    },
    {
      "cell_type": "code",
      "source": [
        "num = int(input(\"Enter a number: \"))\n",
        "factorial = 1\n",
        "i = 1\n",
        "\n",
        "while i <= num:\n",
        "    factorial *= i\n",
        "    i += 1\n",
        "\n",
        "print(f\"Factorial of {num} is {factorial}\")\n"
      ],
      "metadata": {
        "colab": {
          "base_uri": "https://localhost:8080/"
        },
        "id": "vSUt3RNdhXxL",
        "outputId": "b0dd65a2-bdce-45e3-d9f5-18f754e72585"
      },
      "execution_count": 17,
      "outputs": [
        {
          "output_type": "stream",
          "name": "stdout",
          "text": [
            "Enter a number: 10\n",
            "Factorial of 10 is 3628800\n"
          ]
        }
      ]
    },
    {
      "cell_type": "code",
      "source": [],
      "metadata": {
        "id": "jbgfoc0jhXoU"
      },
      "execution_count": null,
      "outputs": []
    }
  ]
}