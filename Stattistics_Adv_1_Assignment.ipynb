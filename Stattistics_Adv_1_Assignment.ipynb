{
  "nbformat": 4,
  "nbformat_minor": 0,
  "metadata": {
    "colab": {
      "provenance": [],
      "authorship_tag": "ABX9TyPYusHWZopMFKTiE2bnq2Jp",
      "include_colab_link": true
    },
    "kernelspec": {
      "name": "python3",
      "display_name": "Python 3"
    },
    "language_info": {
      "name": "python"
    }
  },
  "cells": [
    {
      "cell_type": "markdown",
      "metadata": {
        "id": "view-in-github",
        "colab_type": "text"
      },
      "source": [
        "<a href=\"https://colab.research.google.com/github/HimAir10/Pw-skillsAssignment/blob/main/Stattistics_Adv_1_Assignment.ipynb\" target=\"_parent\"><img src=\"https://colab.research.google.com/assets/colab-badge.svg\" alt=\"Open In Colab\"/></a>"
      ]
    },
    {
      "cell_type": "markdown",
      "source": [
        "# Q1. What is a random variable in probability theory"
      ],
      "metadata": {
        "id": "rugBQyJxin_F"
      }
    },
    {
      "cell_type": "markdown",
      "source": [
        "Ans. A random variable is a variable whose value depends on the outcome of a random process.\n",
        "\n",
        "Example:\n",
        "Suppose you roll a fair die.\n",
        "\n",
        "The sample space is:\n",
        "𝑆\n",
        "=\n",
        "{\n",
        "1\n",
        ",\n",
        "2\n",
        ",\n",
        "3\n",
        ",\n",
        "4\n",
        ",\n",
        "5\n",
        ",\n",
        "6\n",
        "}\n",
        "S={1,2,3,4,5,6}\n",
        "\n",
        "Define a random variable\n",
        "𝑋\n",
        "X as:\n",
        "\"the number that shows up on the die\"\n",
        "\n",
        "Then\n",
        "𝑋\n",
        "X is a random variable, and it can take values:\n",
        "𝑋\n",
        "∈\n",
        "{\n",
        "1\n",
        ",\n",
        "2\n",
        ",\n",
        "3\n",
        ",\n",
        "4\n",
        ",\n",
        "5\n",
        ",\n",
        "6\n",
        "}\n",
        "X∈{1,2,3,4,5,6}\n",
        "\n"
      ],
      "metadata": {
        "id": "PWr9rbsYin9A"
      }
    },
    {
      "cell_type": "markdown",
      "source": [
        "# Q2. What are the types of random variables?"
      ],
      "metadata": {
        "id": "hgMwFPdNin6a"
      }
    },
    {
      "cell_type": "markdown",
      "source": [
        "In probability theory, random variables are classified mainly into two types, based on the kind of values they can take\n",
        "\n",
        "1. Discrete Random Variable\n",
        "A discrete random variable takes on countable (finite or countably infinite) number of values.\n",
        "\n",
        "Characteristics:\n",
        "\n",
        "- Values are distinct and separate (like 0, 1, 2, …)\n",
        "\n",
        "- Often used in scenarios involving counting\n",
        "\n",
        "Examples:\n",
        "\n",
        "- Number of heads in 3 coin tosses →\n",
        "𝑋\n",
        "∈\n",
        "{\n",
        "0\n",
        ",\n",
        "1\n",
        ",\n",
        "2\n",
        ",\n",
        "3\n",
        "}\n",
        "X∈{0,1,2,3}\n",
        "\n",
        "- Number of students in a classroom\n",
        "\n",
        "- Number of goals scored in a football match\n",
        "\n",
        "2. Continuous Random Variable -\n",
        "\n",
        "  A continuous random variable can take on any value in a continuum, typically within an interval (e.g., all real numbers between 0 and 1).\n",
        "\n",
        "  Characteristics:\n",
        "  \n",
        "  - Values are uncountable (infinite possibilities)\n",
        "\n",
        "  - Often used in scenarios involving measurement\n",
        "\n",
        "  Examples:\n",
        "  - Time taken to finish a race →\n",
        "𝑋\n",
        "∈\n",
        "[\n",
        "0\n",
        ",\n",
        "∞\n",
        ")\n",
        "X∈[0,∞)\n",
        "\n",
        "  - Height of students in a school\n",
        "\n",
        "  - Temperature at noon\n",
        "\n"
      ],
      "metadata": {
        "id": "V9I1Ofycin2S"
      }
    },
    {
      "cell_type": "markdown",
      "source": [
        "# Q3. What is the difference between discrete and continuous distributions?"
      ],
      "metadata": {
        "id": "FZcvw-FLinu8"
      }
    },
    {
      "cell_type": "markdown",
      "source": [
        "| Feature                                    | **Discrete Distribution**                | **Continuous Distribution**               |\n",
        "| ------------------------------------------ | ---------------------------------------- | ----------------------------------------- |\n",
        "| **Values**                                 | Countable (finite or countably infinite) | Uncountable (infinite within an interval) |\n",
        "| **Random Variable Type**                   | Discrete Random Variable                 | Continuous Random Variable                |\n",
        "| **Probability of exact value**             | $P(X = x) > 0$ is possible               | $P(X = x) = 0$ always                     |\n",
        "| **Described By**                           | **PMF** (Probability Mass Function)      | **PDF** (Probability Density Function)    |\n",
        "| **Visualization**                          | Bar plot (individual spikes for values)  | Smooth curve (area under curve)           |\n",
        "| **Example**                                | Number of heads in 10 coin tosses        | Time to complete a task                   |\n",
        "| **Cumulative Distribution Function (CDF)** | Step function                            | Continuous curve                          |\n"
      ],
      "metadata": {
        "id": "ckWWoagUinr2"
      }
    },
    {
      "cell_type": "markdown",
      "source": [
        "# Q4. What are probability distribution functions?"
      ],
      "metadata": {
        "id": "3SoGMzPFokYm"
      }
    },
    {
      "cell_type": "markdown",
      "source": [
        "A function that assigns value to each experiment outcomes."
      ],
      "metadata": {
        "id": "3AK9wXU8okWA"
      }
    },
    {
      "cell_type": "markdown",
      "source": [
        "# Q5. How do cumulative distribution functions (CDF) differ from probability distribution functions (PDF)?"
      ],
      "metadata": {
        "id": "sPi31MwdokTZ"
      }
    },
    {
      "cell_type": "markdown",
      "source": [
        "| Feature           | **PDF (Probability Density Function)**                                                           | **CDF (Cumulative Distribution Function)**                               |\n",
        "| ----------------- | ------------------------------------------------------------------------------------------------ | ------------------------------------------------------------------------ |\n",
        "| Applies to        | Continuous random variables                                                                      | Both discrete and continuous random variables                            |\n",
        "| Represents        | Probability **density** at a point                                                               | **Cumulative probability** up to a point                                 |\n",
        "| Denoted by        | $f(x)$                                                                                           | $F(x)$                                                                   |\n",
        "| Definition        | Not a probability itself, but a function whose area under curve gives probability over intervals | $F(x) = P(X \\leq x)$                                                     |\n",
        "| Mathematical Form | $f(x) = \\frac{d}{dx}F(x)$                                                                        | $F(x) = \\int_{-\\infty}^{x} f(t)\\,dt$                                     |\n",
        "| Graph Shape       | Curve (like a bell for normal)                                                                   | Non-decreasing step (discrete) or smooth curve (continuous), from 0 to 1 |\n",
        "| Range             | Can be >1 in density (but total area = 1)                                                        | Always between 0 and 1                                                   |\n"
      ],
      "metadata": {
        "id": "NrS5Hu35okQk"
      }
    },
    {
      "cell_type": "markdown",
      "source": [
        "# Q6. What is a discrete uniform distribution?"
      ],
      "metadata": {
        "id": "FLmi5gF7okN6"
      }
    },
    {
      "cell_type": "markdown",
      "source": [
        "A Discrete Uniform Distribution is a probability distribution where all possible outcomes of a discrete random variable are equally likely.\n",
        "\n",
        "A discrete random variable\n",
        "𝑋\n",
        "X has a discrete uniform distribution if:\n",
        "\n",
        "𝑃\n",
        "(\n",
        "𝑋\n",
        "=\n",
        "𝑥\n",
        "𝑖\n",
        ")\n",
        "=\n",
        "1/\n",
        "𝑛\n",
        "for\n",
        "𝑖\n",
        "=\n",
        "1\n",
        ",\n",
        "2\n",
        ",\n",
        ".\n",
        ".\n",
        ".\n",
        ",\n",
        "𝑛\n",
        "\n",
        "Where:\n",
        "\n",
        "  - 𝑥\n",
        "  1\n",
        "  ,\n",
        "  𝑥\n",
        "  2\n",
        "  ,\n",
        "  .\n",
        "  .\n",
        "  .\n",
        "  ,\n",
        "  𝑥\n",
        "  𝑛\n",
        "  are the\n",
        "  𝑛\n",
        "  n distinct values that\n",
        "  X can take\n",
        "\n",
        "  - 𝑃\n",
        "  (\n",
        "  𝑋\n",
        "  =\n",
        "  𝑥\n",
        "  𝑖\n",
        "  )\n",
        "  ​\n",
        "   is the same for every value\n",
        "\n",
        "Examples:\n",
        "  Fair Die Roll:\n",
        "\n",
        "  𝑋\n",
        "  ∈\n",
        "  {\n",
        "  1\n",
        "  ,\n",
        "  2\n",
        "  ,\n",
        "  3\n",
        "  ,\n",
        "  4\n",
        "  ,\n",
        "  5\n",
        "  ,\n",
        "  6\n",
        "  }\n",
        "  X∈{1,2,3,4,5,6}\n",
        "\n",
        "  𝑃\n",
        "  (\n",
        "  𝑋\n",
        "  =\n",
        "  𝑘\n",
        "  )\n",
        "  =\n",
        "  1\n",
        "  6\n",
        "  P(X=k)=\n",
        "  6\n",
        "  1\n",
        "  ​\n",
        "    for each\n",
        "  𝑘\n",
        "  k\n",
        "\n",
        "  Lottery with Equal Chance:\n",
        "\n",
        "  If a winner is picked randomly from 10 tickets, each ticket has a\n",
        "  1\n",
        "  10\n",
        "  10\n",
        "  1\n",
        "  ​\n",
        "    chance.\n",
        "\n"
      ],
      "metadata": {
        "id": "wiL3l1O-yzI2"
      }
    },
    {
      "cell_type": "markdown",
      "source": [
        "# 7. What are the key properties of a Bernoulli distribution?"
      ],
      "metadata": {
        "id": "SbgNKH3PokLU"
      }
    },
    {
      "cell_type": "markdown",
      "source": [
        "- Two outcomes: Success (1) with probability\n",
        "𝑝, and Failure (0) with probability\n",
        "1\n",
        "−\n",
        "𝑝\n",
        "\n",
        "\n",
        "- Mean:\n",
        "𝐸\n",
        "[\n",
        "𝑋\n",
        "]\n",
        "=\n",
        "𝑝\n",
        "\n",
        "\n",
        "- Variance:\n",
        "Var\n",
        "(\n",
        "𝑋\n",
        ")\n",
        "=\n",
        "𝑝\n",
        "(\n",
        "1\n",
        "−\n",
        "𝑝\n",
        ")\n",
        "\n",
        "\n",
        "- Used to model binary outcomes (e.g., yes/no, win/loss)"
      ],
      "metadata": {
        "id": "Qve4jAfNokIw"
      }
    },
    {
      "cell_type": "markdown",
      "source": [
        "# 8. What is the binomial distribution, and how is it used in probability?"
      ],
      "metadata": {
        "id": "Wr58MTxb57EH"
      }
    },
    {
      "cell_type": "markdown",
      "source": [
        "- Models the number of successes in\n",
        "𝑛\n",
        "independent Bernoulli trials\n",
        "\n",
        "- Parameters:\n",
        "𝑛\n",
        "(trials),\n",
        "𝑝\n",
        "(success probability)\n",
        "\n",
        "  \n",
        "- Used in quality control, polling, clinical trials"
      ],
      "metadata": {
        "id": "m5cld0Ze57Bh"
      }
    },
    {
      "cell_type": "markdown",
      "source": [
        "# 9. What is the Poisson distribution and where is it applied?"
      ],
      "metadata": {
        "id": "4Y0LftaNokGG"
      }
    },
    {
      "cell_type": "markdown",
      "source": [
        "  Models the number of events occurring in a fixed interval of time or space\n",
        "\n",
        "  Parameter:\n",
        "  𝜆\n",
        "  λ (average rate)\n",
        "\n",
        "  PMF:\n",
        "\n",
        "  𝑃\n",
        "  (\n",
        "  𝑋\n",
        "  =\n",
        "  𝑘\n",
        "  )\n",
        "  =\n",
        "  (𝑒^\n",
        "  −\n",
        "  𝜆 *\n",
        "  𝜆^\n",
        "  𝑘)/\n",
        "  𝑘\n",
        "  !\n",
        "  ​\n",
        "  \n",
        "  Used for rare events: e.g., customer arrivals, calls per minute"
      ],
      "metadata": {
        "id": "gDZ8e6L_okEQ"
      }
    },
    {
      "cell_type": "markdown",
      "source": [
        "# 10. What is a continuous uniform distribution?"
      ],
      "metadata": {
        "id": "KLDmalbc9fdQ"
      }
    },
    {
      "cell_type": "markdown",
      "source": [
        "- A distribution where all values in an interval\n",
        "[\n",
        "𝑎\n",
        ",\n",
        "𝑏\n",
        "]\n",
        "are equally likely\n",
        "\n",
        "- PDF:\n",
        "\n",
        "- 𝑓\n",
        "(\n",
        "𝑥\n",
        ")\n",
        "=\n",
        "1/\n",
        "(𝑏\n",
        "−\n",
        "𝑎)\n",
        "for\n",
        "𝑎\n",
        "≤\n",
        "𝑥\n",
        "≤\n",
        "𝑏\n",
        "\n",
        "- Mean:\n",
        "(𝑎+\n",
        "𝑏)/\n",
        "2\n",
        "\n",
        "- Variance:\n",
        "(\n",
        "𝑏\n",
        "−\n",
        "𝑎\n",
        ")^\n",
        "2/\n",
        "12\n",
        "​\n",
        "- Used in simulations and random number generation\n",
        "\n"
      ],
      "metadata": {
        "id": "zRgPWN6LokDR"
      }
    },
    {
      "cell_type": "markdown",
      "source": [
        "# 11. What are the characteristics of a normal distribution?"
      ],
      "metadata": {
        "id": "OAPesaC_9hc2"
      }
    },
    {
      "cell_type": "markdown",
      "source": [
        "- Symmetrical, bell-shaped curve\n",
        "\n",
        "- Defined by mean\n",
        "𝜇\n",
        "μ and standard deviation\n",
        "𝜎\n",
        "σ\n",
        "\n",
        "  Properties:\n",
        "\n",
        "- 68% within 1σ, 95% within 2σ, 99.7% within 3σ\n",
        "\n",
        "- Used in natural and social sciences due to Central Limit Theorem"
      ],
      "metadata": {
        "id": "x5G0723A9hah"
      }
    },
    {
      "cell_type": "markdown",
      "source": [
        "# 12. What is the standard normal distribution, and why is it important?"
      ],
      "metadata": {
        "id": "sBpVPPq39hYK"
      }
    },
    {
      "cell_type": "markdown",
      "source": [
        "- A special case of the normal distribution with\n",
        "𝜇\n",
        "=\n",
        "0\n",
        "μ=0,\n",
        "𝜎\n",
        "=\n",
        "1\n",
        "σ=1\n",
        "\n",
        "- Denoted as\n",
        "𝑍\n",
        "∼\n",
        "𝑁\n",
        "(\n",
        "0\n",
        ",\n",
        "1\n",
        ")\n",
        "Z∼N(0,1)\n",
        "\n",
        "- Important for calculating Z-scores and conducting hypothesis tests"
      ],
      "metadata": {
        "id": "iCcBR94y9hWD"
      }
    },
    {
      "cell_type": "markdown",
      "source": [
        "# 13. What is the Central Limit Theorem (CLT), and why is it critical in statistics?"
      ],
      "metadata": {
        "id": "n2AVomgK9hTt"
      }
    },
    {
      "cell_type": "markdown",
      "source": [
        "- States that the sampling distribution of the sample mean becomes approximately normal as the sample size increases\n",
        "\n",
        "- Applies regardless of the original distribution (if sample size is large)\n",
        "\n",
        "- Fundamental for constructing confidence intervals and performing hypothesis testing"
      ],
      "metadata": {
        "id": "yMP5Hb-89hRX"
      }
    },
    {
      "cell_type": "markdown",
      "source": [
        "# 14. How does the Central Limit Theorem relate to the normal distribution?"
      ],
      "metadata": {
        "id": "TQBjsQ3H9hPB"
      }
    },
    {
      "cell_type": "markdown",
      "source": [
        "- CLT explains why the normal distribution appears so often\n",
        "\n",
        "- Sample means from any distribution approach a normal distribution as\n",
        "𝑛\n",
        "→\n",
        "∞\n",
        "\n",
        "\n",
        "- Allows use of normal-based inference even when the population is not normal\n",
        "\n"
      ],
      "metadata": {
        "id": "SCe2ziFv9hMd"
      }
    },
    {
      "cell_type": "markdown",
      "source": [
        "# 15. What is the application of Z statistics in hypothesis testing?"
      ],
      "metadata": {
        "id": "qImwyhRkG90o"
      }
    },
    {
      "cell_type": "markdown",
      "source": [
        "Used to test claims about population means when the standard deviation is known\n",
        "\n",
        "Z-statistic formula:\n",
        "\n",
        "𝑍\n",
        "=\n",
        "𝑥\n",
        "ˉ\n",
        "−\n",
        "𝜇\n",
        "𝜎\n",
        "/\n",
        "𝑛\n",
        "Z=\n",
        "σ/\n",
        "n\n",
        "​\n",
        "\n",
        "x\n",
        "ˉ\n",
        " −μ\n",
        "​\n",
        "\n",
        "Compared to critical Z-values to accept or reject null hypotheses\n",
        "\n"
      ],
      "metadata": {
        "id": "VwvKm1MXG9vr"
      }
    },
    {
      "cell_type": "markdown",
      "source": [
        "# 16. How do you calculate a Z-score, and what does it represent?"
      ],
      "metadata": {
        "id": "M7nlDjAqG9ta"
      }
    },
    {
      "cell_type": "markdown",
      "source": [
        "Z-score formula:\n",
        "\n",
        "𝑍\n",
        "=\n",
        "𝑋\n",
        "−\n",
        "𝜇\n",
        "𝜎\n",
        "Z=\n",
        "σ\n",
        "X−μ\n",
        "​\n",
        "\n",
        "Represents the number of standard deviations a value\n",
        "𝑋\n",
        "X is from the mean\n",
        "\n",
        "Helps identify how unusual or typical a value is\n",
        "\n"
      ],
      "metadata": {
        "id": "LT2ky30jG9qe"
      }
    },
    {
      "cell_type": "markdown",
      "source": [
        "# 17. What are point estimates and interval estimates in statistics?"
      ],
      "metadata": {
        "id": "76jZXAcCG9nn"
      }
    },
    {
      "cell_type": "markdown",
      "source": [
        "Point Estimate: A single value used to estimate a parameter (e.g., sample mean\n",
        "𝑥\n",
        "ˉ\n",
        "x\n",
        "ˉ\n",
        " )\n",
        "\n",
        "Interval Estimate: A range (like a confidence interval) likely to contain the true parameter"
      ],
      "metadata": {
        "id": "RAz4v5ErG9iM"
      }
    },
    {
      "cell_type": "markdown",
      "source": [
        "# 18. What is the significance of confidence intervals in statistical analysis?"
      ],
      "metadata": {
        "id": "s7SfYqdeG9fz"
      }
    },
    {
      "cell_type": "markdown",
      "source": [
        "Provide a range of plausible values for an unknown population parameter\n",
        "\n",
        "Express uncertainty of estimates\n",
        "\n",
        "E.g., 95% CI means: If we repeat the experiment 100 times, ~95 of those intervals would contain the true parameter"
      ],
      "metadata": {
        "id": "kxnPihRrG9de"
      }
    },
    {
      "cell_type": "markdown",
      "source": [
        "# 19. What is the relationship between a Z-score and a confidence interval?"
      ],
      "metadata": {
        "id": "mQNEo1-dG9bG"
      }
    },
    {
      "cell_type": "markdown",
      "source": [
        "Z-scores determine the margin of error in a confidence interval\n",
        "\n",
        "CI formula (when\n",
        "𝜎\n",
        "σ known):\n",
        "\n",
        "𝑥\n",
        "ˉ\n",
        "±\n",
        "𝑍\n",
        "𝛼\n",
        "/\n",
        "2\n",
        "⋅\n",
        "𝜎\n",
        "𝑛\n",
        "x\n",
        "ˉ\n",
        " ±Z\n",
        "α/2\n",
        "​\n",
        " ⋅\n",
        "n\n",
        "​\n",
        "\n",
        "σ\n",
        "​\n",
        "\n",
        "𝑍\n",
        "𝛼\n",
        "/\n",
        "2\n",
        "Z\n",
        "α/2\n",
        "​\n",
        "  depends on the desired confidence level (e.g., 1.96 for 95%)"
      ],
      "metadata": {
        "id": "P2vS304xG9X-"
      }
    },
    {
      "cell_type": "markdown",
      "source": [
        "# 20. How are Z-scores used to compare different distributions?"
      ],
      "metadata": {
        "id": "8VqniNdaG9U5"
      }
    },
    {
      "cell_type": "markdown",
      "source": [
        "Standardize values from different distributions for fair comparison\n",
        "\n",
        "Example: Compare test scores from different exams with different scales by converting to Z-scores"
      ],
      "metadata": {
        "id": "pFoSKCQaImFz"
      }
    },
    {
      "cell_type": "markdown",
      "source": [
        "# 21. What are the assumptions for applying the Central Limit Theorem?"
      ],
      "metadata": {
        "id": "ZD31ZiXuImC-"
      }
    },
    {
      "cell_type": "markdown",
      "source": [
        "Samples are independent\n",
        "\n",
        "Drawn from the same distribution\n",
        "\n",
        "Sample size is sufficiently large (usually\n",
        "𝑛\n",
        "≥\n",
        "30\n",
        "n≥30)\n",
        "\n",
        "Finite mean and variance\n",
        "\n"
      ],
      "metadata": {
        "id": "UVD5ToXIIl_f"
      }
    },
    {
      "cell_type": "markdown",
      "source": [
        "# 22. What is the concept of expected value in a probability distribution?"
      ],
      "metadata": {
        "id": "HwFMM2m-Il8a"
      }
    },
    {
      "cell_type": "markdown",
      "source": [
        "The long-run average value of a random variable\n",
        "\n",
        "Discrete:\n",
        "\n",
        "𝐸\n",
        "[\n",
        "𝑋\n",
        "]\n",
        "=\n",
        "∑\n",
        "𝑥\n",
        "𝑖\n",
        "𝑃\n",
        "(\n",
        "𝑥\n",
        "𝑖\n",
        ")\n",
        "E[X]=∑x\n",
        "i\n",
        "​\n",
        " P(x\n",
        "i\n",
        "​\n",
        " )\n",
        "Continuous:\n",
        "\n",
        "𝐸\n",
        "[\n",
        "𝑋\n",
        "]\n",
        "=\n",
        "∫\n",
        "𝑥\n",
        "𝑓\n",
        "(\n",
        "𝑥\n",
        ")\n",
        "𝑑\n",
        "𝑥\n",
        "E[X]=∫xf(x)dx\n"
      ],
      "metadata": {
        "id": "TEdQhqxmI4Mm"
      }
    },
    {
      "cell_type": "markdown",
      "source": [
        "# 23. How does a probability distribution relate to the expected outcome of a random variable?"
      ],
      "metadata": {
        "id": "ahsJ2SqYI4BX"
      }
    },
    {
      "cell_type": "markdown",
      "source": [
        "The probability distribution gives all possible values a random variable can take and their probabilities\n",
        "\n",
        "The expected value is the weighted average of these values — it summarizes the distribution into a single central value\n",
        "\n"
      ],
      "metadata": {
        "id": "cDordJKvI39Q"
      }
    },
    {
      "cell_type": "code",
      "execution_count": null,
      "metadata": {
        "id": "rkaGqVp5iji4"
      },
      "outputs": [],
      "source": []
    }
  ]
}