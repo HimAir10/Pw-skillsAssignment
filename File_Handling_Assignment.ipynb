{
  "nbformat": 4,
  "nbformat_minor": 0,
  "metadata": {
    "colab": {
      "provenance": [],
      "authorship_tag": "ABX9TyPvUQrTn3Gi5Bh5RSt04nC3",
      "include_colab_link": true
    },
    "kernelspec": {
      "name": "python3",
      "display_name": "Python 3"
    },
    "language_info": {
      "name": "python"
    }
  },
  "cells": [
    {
      "cell_type": "markdown",
      "metadata": {
        "id": "view-in-github",
        "colab_type": "text"
      },
      "source": [
        "<a href=\"https://colab.research.google.com/github/HimAir10/Pw-skillsAssignment/blob/main/File_Handling_Assignment.ipynb\" target=\"_parent\"><img src=\"https://colab.research.google.com/assets/colab-badge.svg\" alt=\"Open In Colab\"/></a>"
      ]
    },
    {
      "cell_type": "code",
      "execution_count": null,
      "metadata": {
        "id": "i8qGiWsuCAsv"
      },
      "outputs": [],
      "source": []
    },
    {
      "cell_type": "markdown",
      "source": [
        "1. Difference between interpreted and compiled languages?\n",
        "\n",
        "Compiled: Translates code to machine language before execution (e.g., C, C++).\n",
        "Interpreted: Translates code line-by-line during execution (e.g., Python, JavaScript)."
      ],
      "metadata": {
        "id": "KT9XKI48CDCy"
      }
    },
    {
      "cell_type": "markdown",
      "source": [
        "2. What is exception handling in Python\n",
        "\n",
        "It’s a mechanism to catch and handle runtime errors using try, except, finally, and else blocks."
      ],
      "metadata": {
        "id": "7VTZOISzCDFT"
      }
    },
    {
      "cell_type": "markdown",
      "source": [
        "3. Purpose of the finally block\n",
        "\n",
        "Ensures execution of code regardless of whether an exception occurred.\n",
        "\n",
        "4. What is logging in Python\n",
        "It's a way to track events and errors using the logging module.\n",
        "\n",
        "5. Significance of __del__ method\n",
        "\n",
        "A destructor method called when an object is deleted, used to release resources.\n",
        "\n",
        "6. Difference between import and from ... import\n",
        "\n",
        "import module: Access via module.name.\n",
        "from module import name: Access name directly.\n",
        "\n",
        "7. Handling multiple exceptions\n",
        "\n",
        "Use multiple except blocks or tuple:\n",
        "try: ...\n",
        "except (TypeError, ValueError): ...\n",
        "\n",
        "8. Purpose of the with statement\n",
        "\n",
        "Ensures proper resource management and automatic file closing.\n",
        "\n",
        "9. Multithreading vs. Multiprocessing\n",
        "\n",
        "Multithreading: Multiple threads in one process (shares memory).\n",
        "Multiprocessing: Separate processes (independent memory).\n",
        "\n",
        "10. Advantages of logging\n",
        "\n",
        "Debugging, auditing, error tracking, and monitoring.\n",
        "\n",
        "11. Memory management in Python\n",
        "\n",
        "Uses reference counting and a garbage collector for automatic memory deallocation.\n",
        "\n",
        "12. Basic steps in exception handling\n",
        "\n",
        "Try block\n",
        "Except block\n",
        "Else block (optional)\n",
        "Finally block (optional)\n",
        "\n",
        "13. Why memory management is important\n",
        "\n",
        "Prevents memory leaks and improves performance.\n",
        "\n",
        "14. Role of try and except\n",
        "\n",
        "Catch and handle exceptions to prevent program crashes.\n",
        "\n",
        "15. How Python garbage collection works\n",
        "\n",
        "Tracks object references and reclaims memory of unused objects.\n",
        "\n",
        "16. Purpose of else in exception handling\n",
        "\n",
        "Runs if no exceptions are raised in the try block.\n",
        "\n",
        "17. Common logging levels\n",
        "\n",
        "DEBUG, INFO, WARNING, ERROR, CRITICAL\n",
        "\n",
        "18. Difference: os.fork() vs. multiprocessing\n",
        "\n",
        "os.fork() is Unix-only, lower-level.\n",
        "multiprocessing is cross-platform and Pythonic.\n",
        "\n",
        "19. Importance of closing a file\n",
        "\n",
        "Ensures data is written to disk and releases system resources.\n",
        "\n",
        "20. Difference: file.read() vs. file.readline()\n",
        "\n",
        "read(): Whole file.\n",
        "readline(): One line at a time.\n",
        "\n",
        "21. Use of logging module\n",
        "\n",
        "Logs messages at different severity levels to files or console.\n",
        "\n",
        "22. Use of os module in file handling\n",
        "\n",
        "Accesses file system: checking existence, paths, file manipulations.\n",
        "\n",
        "23. Challenges of memory management\n",
        "\n",
        "Circular references, memory leaks in C extensions, performance trade-offs.\n",
        "\n",
        "24. Raising exceptions manually\n",
        "\n",
        "raise ValueError(\"Invalid input\")\n",
        "\n",
        "25. Importance of multithreading\n",
        "\n",
        "Useful for I/O-bound tasks, UI responsiveness, concurrency without multiprocessing overhead."
      ],
      "metadata": {
        "id": "IaxIMK8CCDH6"
      }
    },
    {
      "cell_type": "code",
      "source": [
        "with open('file.txt', 'w') as f:\n",
        "    f.write(\"Hello, World!\")\n"
      ],
      "metadata": {
        "id": "j9Avn3xuD74s"
      },
      "execution_count": 1,
      "outputs": []
    },
    {
      "cell_type": "code",
      "source": [
        "with open('file.txt', 'r') as f:\n",
        "    for line in f:\n",
        "        print(line.strip())\n"
      ],
      "metadata": {
        "colab": {
          "base_uri": "https://localhost:8080/"
        },
        "id": "pWCMxSbgD7cK",
        "outputId": "d78075de-5047-47f7-8361-fec3819f4472"
      },
      "execution_count": 2,
      "outputs": [
        {
          "output_type": "stream",
          "name": "stdout",
          "text": [
            "Hello, World!\n"
          ]
        }
      ]
    },
    {
      "cell_type": "code",
      "source": [
        "try:\n",
        "    with open('nofile.txt', 'r') as f:\n",
        "        data = f.read()\n",
        "except FileNotFoundError:\n",
        "    print(\"File not found.\")\n"
      ],
      "metadata": {
        "colab": {
          "base_uri": "https://localhost:8080/"
        },
        "id": "LwWfC7GpEDSP",
        "outputId": "911a8979-a27b-4bd2-8d9a-5bfbb64adb61"
      },
      "execution_count": 3,
      "outputs": [
        {
          "output_type": "stream",
          "name": "stdout",
          "text": [
            "File not found.\n"
          ]
        }
      ]
    },
    {
      "cell_type": "code",
      "source": [
        "with open('source.txt', 'r') as src, open('dest.txt', 'w') as dst:\n",
        "    dst.write(src.read())\n"
      ],
      "metadata": {
        "colab": {
          "base_uri": "https://localhost:8080/",
          "height": 156
        },
        "id": "NjiqFQ5nEE_P",
        "outputId": "f5e5f4c2-facf-456e-f4aa-b1bdc1625652"
      },
      "execution_count": 4,
      "outputs": [
        {
          "output_type": "error",
          "ename": "FileNotFoundError",
          "evalue": "[Errno 2] No such file or directory: 'source.txt'",
          "traceback": [
            "\u001b[0;31m---------------------------------------------------------------------------\u001b[0m",
            "\u001b[0;31mFileNotFoundError\u001b[0m                         Traceback (most recent call last)",
            "\u001b[0;32m<ipython-input-4-182c17512a25>\u001b[0m in \u001b[0;36m<cell line: 0>\u001b[0;34m()\u001b[0m\n\u001b[0;32m----> 1\u001b[0;31m \u001b[0;32mwith\u001b[0m \u001b[0mopen\u001b[0m\u001b[0;34m(\u001b[0m\u001b[0;34m'source.txt'\u001b[0m\u001b[0;34m,\u001b[0m \u001b[0;34m'r'\u001b[0m\u001b[0;34m)\u001b[0m \u001b[0;32mas\u001b[0m \u001b[0msrc\u001b[0m\u001b[0;34m,\u001b[0m \u001b[0mopen\u001b[0m\u001b[0;34m(\u001b[0m\u001b[0;34m'dest.txt'\u001b[0m\u001b[0;34m,\u001b[0m \u001b[0;34m'w'\u001b[0m\u001b[0;34m)\u001b[0m \u001b[0;32mas\u001b[0m \u001b[0mdst\u001b[0m\u001b[0;34m:\u001b[0m\u001b[0;34m\u001b[0m\u001b[0;34m\u001b[0m\u001b[0m\n\u001b[0m\u001b[1;32m      2\u001b[0m     \u001b[0mdst\u001b[0m\u001b[0;34m.\u001b[0m\u001b[0mwrite\u001b[0m\u001b[0;34m(\u001b[0m\u001b[0msrc\u001b[0m\u001b[0;34m.\u001b[0m\u001b[0mread\u001b[0m\u001b[0;34m(\u001b[0m\u001b[0;34m)\u001b[0m\u001b[0;34m)\u001b[0m\u001b[0;34m\u001b[0m\u001b[0;34m\u001b[0m\u001b[0m\n",
            "\u001b[0;31mFileNotFoundError\u001b[0m: [Errno 2] No such file or directory: 'source.txt'"
          ]
        }
      ]
    },
    {
      "cell_type": "code",
      "source": [
        "try:\n",
        "    result = 10 / 0\n",
        "except ZeroDivisionError:\n",
        "    print(\"Cannot divide by zero.\")\n"
      ],
      "metadata": {
        "colab": {
          "base_uri": "https://localhost:8080/"
        },
        "id": "yrGuR1xHEGoE",
        "outputId": "1b4e246d-22de-4d98-deb8-a33c3602a375"
      },
      "execution_count": 5,
      "outputs": [
        {
          "output_type": "stream",
          "name": "stdout",
          "text": [
            "Cannot divide by zero.\n"
          ]
        }
      ]
    },
    {
      "cell_type": "code",
      "source": [
        "import logging\n",
        "logging.basicConfig(filename='errors.log', level=logging.ERROR)\n",
        "try:\n",
        "    x = 10 / 0\n",
        "except ZeroDivisionError as e:\n",
        "    logging.error(\"Division by zero: %s\", e)\n"
      ],
      "metadata": {
        "colab": {
          "base_uri": "https://localhost:8080/"
        },
        "id": "RZgfwhOPEKk3",
        "outputId": "ef884735-b744-4b18-c9d4-b7dfc9a68fb9"
      },
      "execution_count": 6,
      "outputs": [
        {
          "output_type": "stream",
          "name": "stderr",
          "text": [
            "ERROR:root:Division by zero: division by zero\n"
          ]
        }
      ]
    },
    {
      "cell_type": "code",
      "source": [
        "import logging\n",
        "logging.basicConfig(level=logging.DEBUG)\n",
        "logging.info(\"Information\")\n",
        "logging.warning(\"Warning\")\n",
        "logging.error(\"Error\")\n"
      ],
      "metadata": {
        "colab": {
          "base_uri": "https://localhost:8080/"
        },
        "id": "wutmxJdjEM5W",
        "outputId": "c59f45c7-6125-4d44-fd64-8c46748a5ab1"
      },
      "execution_count": 7,
      "outputs": [
        {
          "output_type": "stream",
          "name": "stderr",
          "text": [
            "WARNING:root:Warning\n",
            "ERROR:root:Error\n"
          ]
        }
      ]
    },
    {
      "cell_type": "code",
      "source": [
        "try:\n",
        "    with open('unknown.txt', 'r') as f:\n",
        "        print(f.read())\n",
        "except FileNotFoundError:\n",
        "    print(\"Could not open the file.\")\n"
      ],
      "metadata": {
        "colab": {
          "base_uri": "https://localhost:8080/"
        },
        "id": "EnX1kNDTEOgP",
        "outputId": "c4fa6ef8-c837-4608-e012-41a86342a042"
      },
      "execution_count": 8,
      "outputs": [
        {
          "output_type": "stream",
          "name": "stdout",
          "text": [
            "Could not open the file.\n"
          ]
        }
      ]
    },
    {
      "cell_type": "code",
      "source": [
        "with open('data.txt', 'r') as f:\n",
        "    lines = f.readlines()\n"
      ],
      "metadata": {
        "colab": {
          "base_uri": "https://localhost:8080/",
          "height": 156
        },
        "id": "oUeZdOArEP1i",
        "outputId": "8ee3e7b7-0126-4f42-d048-880ac6deafaa"
      },
      "execution_count": 9,
      "outputs": [
        {
          "output_type": "error",
          "ename": "FileNotFoundError",
          "evalue": "[Errno 2] No such file or directory: 'data.txt'",
          "traceback": [
            "\u001b[0;31m---------------------------------------------------------------------------\u001b[0m",
            "\u001b[0;31mFileNotFoundError\u001b[0m                         Traceback (most recent call last)",
            "\u001b[0;32m<ipython-input-9-3440b7de2d09>\u001b[0m in \u001b[0;36m<cell line: 0>\u001b[0;34m()\u001b[0m\n\u001b[0;32m----> 1\u001b[0;31m \u001b[0;32mwith\u001b[0m \u001b[0mopen\u001b[0m\u001b[0;34m(\u001b[0m\u001b[0;34m'data.txt'\u001b[0m\u001b[0;34m,\u001b[0m \u001b[0;34m'r'\u001b[0m\u001b[0;34m)\u001b[0m \u001b[0;32mas\u001b[0m \u001b[0mf\u001b[0m\u001b[0;34m:\u001b[0m\u001b[0;34m\u001b[0m\u001b[0;34m\u001b[0m\u001b[0m\n\u001b[0m\u001b[1;32m      2\u001b[0m     \u001b[0mlines\u001b[0m \u001b[0;34m=\u001b[0m \u001b[0mf\u001b[0m\u001b[0;34m.\u001b[0m\u001b[0mreadlines\u001b[0m\u001b[0;34m(\u001b[0m\u001b[0;34m)\u001b[0m\u001b[0;34m\u001b[0m\u001b[0;34m\u001b[0m\u001b[0m\n",
            "\u001b[0;31mFileNotFoundError\u001b[0m: [Errno 2] No such file or directory: 'data.txt'"
          ]
        }
      ]
    },
    {
      "cell_type": "code",
      "source": [
        "with open('file.txt', 'a') as f:\n",
        "    f.write(\"More content\\n\")\n"
      ],
      "metadata": {
        "id": "SG6AmkoXERRa"
      },
      "execution_count": 10,
      "outputs": []
    },
    {
      "cell_type": "code",
      "source": [
        "data = {'a': 1}\n",
        "try:\n",
        "    print(data['b'])\n",
        "except KeyError:\n",
        "    print(\"Key not found.\")\n"
      ],
      "metadata": {
        "colab": {
          "base_uri": "https://localhost:8080/"
        },
        "id": "J9lUtCjOETKW",
        "outputId": "871a2a20-75a3-48bd-f6c8-b19cbb3b62e7"
      },
      "execution_count": 11,
      "outputs": [
        {
          "output_type": "stream",
          "name": "stdout",
          "text": [
            "Key not found.\n"
          ]
        }
      ]
    },
    {
      "cell_type": "code",
      "source": [
        "try:\n",
        "    x = int(\"text\")\n",
        "except ValueError:\n",
        "    print(\"Value error\")\n",
        "except TypeError:\n",
        "    print(\"Type error\")\n"
      ],
      "metadata": {
        "colab": {
          "base_uri": "https://localhost:8080/"
        },
        "id": "2WiH0_2IEVDE",
        "outputId": "8872019a-40b5-4588-858d-d789308e5d12"
      },
      "execution_count": 12,
      "outputs": [
        {
          "output_type": "stream",
          "name": "stdout",
          "text": [
            "Value error\n"
          ]
        }
      ]
    },
    {
      "cell_type": "code",
      "source": [
        "import os\n",
        "if os.path.exists(\"file.txt\"):\n",
        "    with open(\"file.txt\") as f:\n",
        "        print(f.read())\n",
        "else:\n",
        "    print(\"File doesn't exist\")\n"
      ],
      "metadata": {
        "colab": {
          "base_uri": "https://localhost:8080/"
        },
        "id": "sCWKsj-zEWlb",
        "outputId": "ea5910fd-4ccf-4d18-8045-3062ade7b0c0"
      },
      "execution_count": 13,
      "outputs": [
        {
          "output_type": "stream",
          "name": "stdout",
          "text": [
            "Hello, World!More content\n",
            "\n"
          ]
        }
      ]
    },
    {
      "cell_type": "code",
      "source": [
        "import logging\n",
        "logging.basicConfig(filename='log.txt', level=logging.INFO)\n",
        "logging.info(\"Program started\")\n",
        "try:\n",
        "    1 / 0\n",
        "except ZeroDivisionError:\n",
        "    logging.error(\"Division by zero\")\n"
      ],
      "metadata": {
        "colab": {
          "base_uri": "https://localhost:8080/"
        },
        "id": "AvPyCB9WEYxU",
        "outputId": "d46b1750-6452-4c27-a17c-a9014620174a"
      },
      "execution_count": 14,
      "outputs": [
        {
          "output_type": "stream",
          "name": "stderr",
          "text": [
            "ERROR:root:Division by zero\n"
          ]
        }
      ]
    },
    {
      "cell_type": "code",
      "source": [
        "with open(\"file.txt\", \"r\") as f:\n",
        "    content = f.read()\n",
        "    if content:\n",
        "        print(content)\n",
        "    else:\n",
        "        print(\"File is empty\")\n"
      ],
      "metadata": {
        "colab": {
          "base_uri": "https://localhost:8080/"
        },
        "id": "MJNhbIW0Eaa3",
        "outputId": "b6f0f93d-df3e-463f-9d48-3722f148d3ed"
      },
      "execution_count": 15,
      "outputs": [
        {
          "output_type": "stream",
          "name": "stdout",
          "text": [
            "Hello, World!More content\n",
            "\n"
          ]
        }
      ]
    },
    {
      "cell_type": "code",
      "source": [
        "from memory_profiler import profile\n",
        "\n",
        "@profile\n",
        "def compute():\n",
        "    a = [i for i in range(100000)]\n",
        "    return sum(a)\n",
        "\n",
        "compute()\n"
      ],
      "metadata": {
        "colab": {
          "base_uri": "https://localhost:8080/",
          "height": 378
        },
        "id": "EXzL4yoPEbuo",
        "outputId": "2cf5b681-c4b2-497b-9d07-9263c518ac90"
      },
      "execution_count": 16,
      "outputs": [
        {
          "output_type": "error",
          "ename": "ModuleNotFoundError",
          "evalue": "No module named 'memory_profiler'",
          "traceback": [
            "\u001b[0;31m---------------------------------------------------------------------------\u001b[0m",
            "\u001b[0;31mModuleNotFoundError\u001b[0m                       Traceback (most recent call last)",
            "\u001b[0;32m<ipython-input-16-d1e7c8aa94cf>\u001b[0m in \u001b[0;36m<cell line: 0>\u001b[0;34m()\u001b[0m\n\u001b[0;32m----> 1\u001b[0;31m \u001b[0;32mfrom\u001b[0m \u001b[0mmemory_profiler\u001b[0m \u001b[0;32mimport\u001b[0m \u001b[0mprofile\u001b[0m\u001b[0;34m\u001b[0m\u001b[0;34m\u001b[0m\u001b[0m\n\u001b[0m\u001b[1;32m      2\u001b[0m \u001b[0;34m\u001b[0m\u001b[0m\n\u001b[1;32m      3\u001b[0m \u001b[0;34m@\u001b[0m\u001b[0mprofile\u001b[0m\u001b[0;34m\u001b[0m\u001b[0;34m\u001b[0m\u001b[0m\n\u001b[1;32m      4\u001b[0m \u001b[0;32mdef\u001b[0m \u001b[0mcompute\u001b[0m\u001b[0;34m(\u001b[0m\u001b[0;34m)\u001b[0m\u001b[0;34m:\u001b[0m\u001b[0;34m\u001b[0m\u001b[0;34m\u001b[0m\u001b[0m\n\u001b[1;32m      5\u001b[0m     \u001b[0ma\u001b[0m \u001b[0;34m=\u001b[0m \u001b[0;34m[\u001b[0m\u001b[0mi\u001b[0m \u001b[0;32mfor\u001b[0m \u001b[0mi\u001b[0m \u001b[0;32min\u001b[0m \u001b[0mrange\u001b[0m\u001b[0;34m(\u001b[0m\u001b[0;36m100000\u001b[0m\u001b[0;34m)\u001b[0m\u001b[0;34m]\u001b[0m\u001b[0;34m\u001b[0m\u001b[0;34m\u001b[0m\u001b[0m\n",
            "\u001b[0;31mModuleNotFoundError\u001b[0m: No module named 'memory_profiler'",
            "",
            "\u001b[0;31m---------------------------------------------------------------------------\u001b[0;32m\nNOTE: If your import is failing due to a missing package, you can\nmanually install dependencies using either !pip or !apt.\n\nTo view examples of installing some common dependencies, click the\n\"Open Examples\" button below.\n\u001b[0;31m---------------------------------------------------------------------------\u001b[0m\n"
          ],
          "errorDetails": {
            "actions": [
              {
                "action": "open_url",
                "actionText": "Open Examples",
                "url": "/notebooks/snippets/importing_libraries.ipynb"
              }
            ]
          }
        }
      ]
    },
    {
      "cell_type": "code",
      "source": [
        "nums = [1, 2, 3]\n",
        "with open(\"nums.txt\", \"w\") as f:\n",
        "    for num in nums:\n",
        "        f.write(f\"{num}\\n\")\n"
      ],
      "metadata": {
        "id": "yxkW84waEdDM"
      },
      "execution_count": 17,
      "outputs": []
    },
    {
      "cell_type": "code",
      "source": [
        "import logging\n",
        "from logging.handlers import RotatingFileHandler\n",
        "\n",
        "handler = RotatingFileHandler(\"app.log\", maxBytes=1024*1024, backupCount=3)\n",
        "logging.basicConfig(handlers=[handler], level=logging.INFO)\n"
      ],
      "metadata": {
        "id": "TaQ5XKYDEfDP"
      },
      "execution_count": 18,
      "outputs": []
    },
    {
      "cell_type": "code",
      "source": [
        "try:\n",
        "    lst = [1]\n",
        "    print(lst[2])\n",
        "    d = {}\n",
        "    print(d['x'])\n",
        "except IndexError:\n",
        "    print(\"IndexError caught\")\n",
        "except KeyError:\n",
        "    print(\"KeyError caught\")\n"
      ],
      "metadata": {
        "colab": {
          "base_uri": "https://localhost:8080/"
        },
        "id": "P53H3hWIEgys",
        "outputId": "4d8a4683-37ea-41e1-c807-f855f9644011"
      },
      "execution_count": 19,
      "outputs": [
        {
          "output_type": "stream",
          "name": "stdout",
          "text": [
            "IndexError caught\n"
          ]
        }
      ]
    },
    {
      "cell_type": "code",
      "source": [
        "with open(\"file.txt\", \"r\") as f:\n",
        "    print(f.read())\n"
      ],
      "metadata": {
        "colab": {
          "base_uri": "https://localhost:8080/"
        },
        "id": "eJi58IPIEjNe",
        "outputId": "5e76ceb2-8ef8-4a4b-fc93-d9e3634058d5"
      },
      "execution_count": 20,
      "outputs": [
        {
          "output_type": "stream",
          "name": "stdout",
          "text": [
            "Hello, World!More content\n",
            "\n"
          ]
        }
      ]
    },
    {
      "cell_type": "code",
      "source": [
        "word = \"the\"\n",
        "with open(\"file.txt\", \"r\") as f:\n",
        "    content = f.read()\n",
        "    print(content.count(word))\n"
      ],
      "metadata": {
        "colab": {
          "base_uri": "https://localhost:8080/"
        },
        "id": "zJfHxKGqEkba",
        "outputId": "b599e6cb-9dff-4829-8ea6-e566bd6ff5d1"
      },
      "execution_count": 21,
      "outputs": [
        {
          "output_type": "stream",
          "name": "stdout",
          "text": [
            "0\n"
          ]
        }
      ]
    },
    {
      "cell_type": "code",
      "source": [
        "import os\n",
        "if os.stat(\"file.txt\").st_size == 0:\n",
        "    print(\"Empty file\")\n",
        "else:\n",
        "    print(\"Not empty\")\n"
      ],
      "metadata": {
        "colab": {
          "base_uri": "https://localhost:8080/"
        },
        "id": "mI8adbxSEnhb",
        "outputId": "14c2fb71-9d26-4503-d97a-06f4851c53d4"
      },
      "execution_count": 22,
      "outputs": [
        {
          "output_type": "stream",
          "name": "stdout",
          "text": [
            "Not empty\n"
          ]
        }
      ]
    },
    {
      "cell_type": "code",
      "source": [
        "import logging\n",
        "logging.basicConfig(filename='file_error.log', level=logging.ERROR)\n",
        "try:\n",
        "    with open(\"nofile.txt\", \"r\") as f:\n",
        "        print(f.read())\n",
        "except Exception as e:\n",
        "    logging.error(\"File error: %s\", e)\n"
      ],
      "metadata": {
        "colab": {
          "base_uri": "https://localhost:8080/"
        },
        "id": "3l8GbzI3Eo41",
        "outputId": "1e1f9f02-984b-4b70-b103-3e427ec73dab"
      },
      "execution_count": 23,
      "outputs": [
        {
          "output_type": "stream",
          "name": "stderr",
          "text": [
            "ERROR:root:File error: [Errno 2] No such file or directory: 'nofile.txt'\n"
          ]
        }
      ]
    },
    {
      "cell_type": "code",
      "source": [],
      "metadata": {
        "id": "WtgqLowiEqtT"
      },
      "execution_count": null,
      "outputs": []
    }
  ]
}