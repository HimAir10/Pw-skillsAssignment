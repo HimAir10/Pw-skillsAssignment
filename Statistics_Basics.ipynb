{
  "nbformat": 4,
  "nbformat_minor": 0,
  "metadata": {
    "colab": {
      "provenance": [],
      "authorship_tag": "ABX9TyNlDhEg0B5zxzQvqCNgU7hN",
      "include_colab_link": true
    },
    "kernelspec": {
      "name": "python3",
      "display_name": "Python 3"
    },
    "language_info": {
      "name": "python"
    }
  },
  "cells": [
    {
      "cell_type": "markdown",
      "metadata": {
        "id": "view-in-github",
        "colab_type": "text"
      },
      "source": [
        "<a href=\"https://colab.research.google.com/github/HimAir10/Pw-skillsAssignment/blob/main/Statistics_Basics.ipynb\" target=\"_parent\"><img src=\"https://colab.research.google.com/assets/colab-badge.svg\" alt=\"Open In Colab\"/></a>"
      ]
    },
    {
      "cell_type": "markdown",
      "source": [
        "# Theory Questions"
      ],
      "metadata": {
        "id": "2B_KD-KfnjPb"
      }
    },
    {
      "cell_type": "markdown",
      "source": [
        "1. What is statistics, and why is it important?\n",
        "\n",
        "  Statistics is the science of collecting, organizing, analyzing, interpreting, and presenting data.\n",
        "  Importance: It helps in decision-making, discovering trends, making predictions, and supporting research in almost every field."
      ],
      "metadata": {
        "id": "cdmUz-YdnjOH"
      }
    },
    {
      "cell_type": "markdown",
      "source": [
        "2. What are the two main types of statistics?\n",
        "\n",
        "  Descriptive Statistics: Summarize and describe features of a dataset.\n",
        "  \n",
        "  Inferential Statistics: Make predictions or inferences about a population based on a sample."
      ],
      "metadata": {
        "id": "QOwvMeOtnjMj"
      }
    },
    {
      "cell_type": "markdown",
      "source": [
        "3. What are descriptive statistics?\n",
        "\n",
        "  Descriptive statistics summarize data using:\n",
        "\n",
        "  Measures of central tendency (mean, median, mode)\n",
        "\n",
        "  Measures of spread (range, variance, standard deviation)\n",
        "\n",
        "  Graphs (histograms, pie charts)\n",
        "\n"
      ],
      "metadata": {
        "id": "P1ygNKiWnjLg"
      }
    },
    {
      "cell_type": "markdown",
      "source": [
        "4. What is inferential statistics?\n",
        "\n",
        "  Inferential statistics draw conclusions about a population from a sample using:\n",
        "\n",
        "  Hypothesis testing\n",
        "\n",
        "  Confidence intervals\n",
        "\n",
        "  Regression analysis\n",
        "\n"
      ],
      "metadata": {
        "id": "-WZ5x_T_njKN"
      }
    },
    {
      "cell_type": "markdown",
      "source": [
        "5. What is sampling in statistics?\n",
        "\n",
        "  Sampling is the process of selecting a subset (sample) from a larger group (population) to estimate characteristics of the whole population."
      ],
      "metadata": {
        "id": "nj8AFOHSnjIx"
      }
    },
    {
      "cell_type": "markdown",
      "source": [
        "6. What are the different types of sampling methods?\n",
        "\n",
        "  Random Sampling\n",
        "\n",
        "  Systematic Sampling\n",
        "\n",
        "  Stratified Sampling\n",
        "\n",
        "  Cluster Sampling\n",
        "\n",
        "  Convenience Sampling\n",
        "\n",
        "  Judgmental or Purposive Sampling"
      ],
      "metadata": {
        "id": "3mICxxJTnjH7"
      }
    },
    {
      "cell_type": "markdown",
      "source": [
        "7. What is the difference between random and non-random sampling?\n",
        "\n",
        "| Type                | Description                                | Example                      |\n",
        "| ------------------- | ------------------------------------------ | ---------------------------- |\n",
        "| Random Sampling     | Every member has equal chance of selection | Lottery draw                 |\n",
        "| Non-Random Sampling | Selection based on convenience/judgment    | Surveying only nearby people |\n"
      ],
      "metadata": {
        "id": "vmwuZIOVnjHY"
      }
    },
    {
      "cell_type": "markdown",
      "source": [
        "8. Define and give examples of qualitative and quantitative data.\n",
        "\n",
        "| Type         | Definition               | Example                |\n",
        "| ------------ | ------------------------ | ---------------------- |\n",
        "| Qualitative  | Descriptive, categorical | Colors, gender, brands |\n",
        "| Quantitative | Numerical, measurable    | Age, income, marks     |\n"
      ],
      "metadata": {
        "id": "ctDDfzCAni_B"
      }
    },
    {
      "cell_type": "markdown",
      "source": [
        "9. What are the different types of data in statistics?\n",
        "\n",
        "  Qualitative (Categorical)\n",
        "\n",
        "  Nominal\n",
        "\n",
        "  Ordinal\n",
        "\n",
        "  Quantitative (Numerical)\n",
        "\n",
        "  Discrete\n",
        "\n",
        "  Continuous\n",
        "\n"
      ],
      "metadata": {
        "id": "6N7ocGwdni8s"
      }
    },
    {
      "cell_type": "markdown",
      "source": [
        "10. Explain nominal, ordinal, interval, and ratio levels of measurement.\n",
        "\n",
        "| Level    | Characteristics                          | Example                  |\n",
        "| -------- | ---------------------------------------- | ------------------------ |\n",
        "| Nominal  | Categories only (no order)               | Gender, colors           |\n",
        "| Ordinal  | Categories with meaningful order         | Rank, satisfaction level |\n",
        "| Interval | Ordered, equal spacing, **no true zero** | Temperature in °C        |\n",
        "| Ratio    | Like interval, but with a **true zero**  | Height, weight, age      |\n"
      ],
      "metadata": {
        "id": "QIx9qqicni6F"
      }
    },
    {
      "cell_type": "markdown",
      "source": [
        "11. What is the measure of central tendency?\n",
        "\n",
        "  It represents a central value in a dataset.\n",
        "  The three common measures are mean, median, and mode."
      ],
      "metadata": {
        "id": "-_veFm6onizH"
      }
    },
    {
      "cell_type": "markdown",
      "source": [
        "12. Define mean, median, and mode.\n",
        "\n",
        "| Measure | Definition                                     |\n",
        "| ------- | ---------------------------------------------- |\n",
        "| Mean    | Arithmetic average                             |\n",
        "| Median  | Middle value when data is sorted               |\n",
        "| Mode    | Most frequently occurring value in the dataset |\n"
      ],
      "metadata": {
        "id": "N9y9oY0S66gz"
      }
    },
    {
      "cell_type": "markdown",
      "source": [
        "13. What is the significance of the measure of central tendency?\n",
        "\n",
        "  It simplifies complex data by giving a single value that represents the entire dataset, helping in comparison, understanding patterns, and decision-making.\n",
        "\n"
      ],
      "metadata": {
        "id": "5fkwIhVg66fP"
      }
    },
    {
      "cell_type": "markdown",
      "source": [
        "14. What is variance, and how is it calculated?\n",
        "\n",
        "Variance measures the spread of data from the mean.\n",
        "\n",
        "Variance\n",
        "=\n",
        "1\n",
        "𝑛\n",
        "∑\n",
        "(\n",
        "𝑥\n",
        "𝑖\n",
        "−\n",
        "𝑥\n",
        "ˉ\n",
        ")\n",
        "2\n",
        "Variance=\n",
        "n\n",
        "1\n",
        "​\n",
        " ∑(x\n",
        "i\n",
        "​\n",
        " −\n",
        "x\n",
        "ˉ\n",
        " )\n",
        "2\n",
        "\n"
      ],
      "metadata": {
        "id": "8ChDQCy666dr"
      }
    },
    {
      "cell_type": "markdown",
      "source": [
        "15. What is standard deviation, and why is it important?\n",
        "\n",
        "  Standard deviation is the square root of variance.\n",
        "  It tells how much the data deviates from the mean.\n",
        "  Useful in understanding data consistency and risk in finance, experiments, etc."
      ],
      "metadata": {
        "id": "GcdLRWJb66VQ"
      }
    },
    {
      "cell_type": "markdown",
      "source": [
        "16. Define and explain the term range in statistics.\n",
        "\n",
        "  Range = Maximum value − Minimum value\n",
        "  It shows the spread of the dataset in simplest form."
      ],
      "metadata": {
        "id": "tril5KUl66OH"
      }
    },
    {
      "cell_type": "markdown",
      "source": [
        "17. What is the difference between variance and standard deviation?\n",
        "\n",
        "| Measure            | Definition                       |\n",
        "| ------------------ | -------------------------------- |\n",
        "| Variance           | Average of squared deviations    |\n",
        "| Standard Deviation | Square root of variance          |\n",
        "| Units              | Variance is in **squared units** |\n",
        "|                    | SD is in **original units**      |\n"
      ],
      "metadata": {
        "id": "rqnqf3sz66M-"
      }
    },
    {
      "cell_type": "markdown",
      "source": [
        "18. What is skewness in a dataset?\n",
        "\n",
        "  Skewness measures the asymmetry of data distribution.\n",
        "\n",
        "  Positive skew: tail on right\n",
        "\n",
        "  Negative skew: tail on left\n",
        "\n",
        "  Zero skew: symmetrical distribution\n",
        "\n"
      ],
      "metadata": {
        "id": "-sKoQnvJ66L8"
      }
    },
    {
      "cell_type": "markdown",
      "source": [
        "19. What does it mean if a dataset is positively or negatively skewed?\n",
        "\n",
        "| Skew Type         | Description                 | Mean vs Median vs Mode |\n",
        "| ----------------- | --------------------------- | ---------------------- |\n",
        "| Positively skewed | Few high values, right tail | Mean > Median > Mode   |\n",
        "| Negatively skewed | Few low values, left tail   | Mean < Median < Mode   |\n"
      ],
      "metadata": {
        "id": "b_FiDid166Et"
      }
    },
    {
      "cell_type": "markdown",
      "source": [
        "20. Define and explain kurtosis.\n",
        "\n",
        "  Kurtosis measures the \"tailedness\" of a distribution:\n",
        "\n",
        "  Leptokurtic: heavy tails, sharp peak (outliers)\n",
        "\n",
        "  Mesokurtic: normal (bell curve)\n",
        "\n",
        "  Platykurtic: light tails, flat peak"
      ],
      "metadata": {
        "id": "ybL0D8wG66Dt"
      }
    },
    {
      "cell_type": "markdown",
      "source": [
        "21. What is the purpose of covariance?\n",
        "\n",
        "  Covariance measures the direction of relationship between two variables:\n",
        "\n",
        "  Positive: both increase together\n",
        "\n",
        "  Negative: one increases, the other decreases\n",
        "  Helps identify whether variables move together or apart.\n",
        "\n"
      ],
      "metadata": {
        "id": "pb97-TwQ6547"
      }
    },
    {
      "cell_type": "markdown",
      "source": [
        "22. What does correlation measure in statistics?\n",
        "\n",
        "  Correlation measures the strength and direction of a linear relationship between two variables.\n",
        "\n",
        "  Value range: −1 to +1\n",
        "\n",
        "  +1: Perfect positive correlation (both increase together)\n",
        "\n",
        "  −1: Perfect negative correlation (one increases, other decreases)\n",
        "\n",
        "  0: No linear relationship\n",
        "\n",
        "  It is a scale-free, standardized measure — often calculated using Pearson's correlation coefficient.\n",
        "\n"
      ],
      "metadata": {
        "id": "er6V9igx652Y"
      }
    },
    {
      "cell_type": "markdown",
      "source": [
        "23. What is the difference between covariance and correlation?\n",
        "\n",
        "| Feature       | Covariance                                     | Correlation                              |\n",
        "| ------------- | ---------------------------------------------- | ---------------------------------------- |\n",
        "| Definition    | Measures direction of linear relationship      | Measures both direction **and strength** |\n",
        "| Range         | Unbounded (any real number)                    | Bounded (−1 to +1)                       |\n",
        "| Units         | Depends on variables’ units (not standardized) | Unitless (standardized)                  |\n",
        "| Comparability | Hard to compare across datasets                | Easily comparable across datasets        |\n",
        "| Formula       | Based on raw deviations                        | Normalized covariance (Cov/SD₁×SD₂)      |\n"
      ],
      "metadata": {
        "id": "ZMKLXvgH8W2l"
      }
    },
    {
      "cell_type": "markdown",
      "source": [
        "24. What are some real-world applications of statistics?\n",
        "\n",
        "Statistics is used in almost every field for decision-making, predictions, and data analysis. Here are key examples:\n",
        "\n",
        "-- Education\n",
        "Analyzing student performance\n",
        "Designing grading systems and adaptive learning\n",
        "\n",
        "-- Business & Marketing\n",
        "Market research and customer segmentation\n",
        "A/B testing and demand forecasting\n",
        "\n",
        "-- Healthcare\n",
        "Clinical trials and treatment effectiveness\n",
        "Predicting disease risks and analyzing patient data\n",
        "\n",
        "-- Government & Public Policy\n",
        "Population census, employment rates\n",
        "Budget planning and policy-making\n",
        "\n",
        "-- Finance\n",
        "Risk analysis and stock market forecasting\n",
        "Investment portfolio management\n",
        "\n",
        "-- Sports\n",
        "Player performance analysis\n",
        "Strategic planning using historical match data\n",
        "\n",
        "-- Technology & Machine Learning\n",
        "Model training and evaluation (standard deviation, mean squared error)\n",
        "Data preprocessing (normalization, outlier detection)\n",
        "\n",
        "-- Environment\n",
        "Climate trend analysis\n",
        "Pollution monitoring and prediction models"
      ],
      "metadata": {
        "id": "knso6JMS8Wzu"
      }
    },
    {
      "cell_type": "markdown",
      "source": [
        "# Practical Questions"
      ],
      "metadata": {
        "id": "UTojom2L88dF"
      }
    },
    {
      "cell_type": "code",
      "execution_count": 1,
      "metadata": {
        "id": "012aU9IICdZH"
      },
      "outputs": [],
      "source": [
        "import numpy as np\n",
        "import statistics\n",
        "import pandas as pd"
      ]
    },
    {
      "cell_type": "code",
      "source": [
        "#Q1.\n",
        "arr = [1,2,3,4,5]\n",
        "arr1 = [1,2,2,4,5]\n",
        "print(np.mean(arr))\n",
        "print(np.median(arr))\n",
        "print(statistics.mode(arr1))"
      ],
      "metadata": {
        "colab": {
          "base_uri": "https://localhost:8080/"
        },
        "id": "XKnl57UqCmMG",
        "outputId": "1de1f899-6593-4155-913c-b7d2477e0fc7"
      },
      "execution_count": 2,
      "outputs": [
        {
          "output_type": "stream",
          "name": "stdout",
          "text": [
            "3.0\n",
            "3.0\n",
            "2\n"
          ]
        }
      ]
    },
    {
      "cell_type": "code",
      "source": [
        "#Q2.\n",
        "x1 = [1,3,5,6,7,8]\n",
        "x2 = [2,4,6,7,8,9]\n",
        "\n",
        "df = pd.DataFrame({'x1':x1,'x2':x2})\n",
        "print(\"variance of dataset\",np.var(df))\n",
        "print(\"standard deviation of dataset\",np.std(df))"
      ],
      "metadata": {
        "colab": {
          "base_uri": "https://localhost:8080/"
        },
        "id": "U2pSb9kZC5XH",
        "outputId": "6127d85e-b261-4088-f07b-e83a03022a9f"
      },
      "execution_count": 3,
      "outputs": [
        {
          "output_type": "stream",
          "name": "stdout",
          "text": [
            "variance of dataset x1    5.666667\n",
            "x2    5.666667\n",
            "dtype: float64\n",
            "standard deviation of dataset x1    2.380476\n",
            "x2    2.380476\n",
            "dtype: float64\n"
          ]
        },
        {
          "output_type": "stream",
          "name": "stderr",
          "text": [
            "/usr/local/lib/python3.11/dist-packages/numpy/_core/fromnumeric.py:4006: FutureWarning: The behavior of DataFrame.var with axis=None is deprecated, in a future version this will reduce over both axes and return a scalar. To retain the old behavior, pass axis=0 (or do not pass axis)\n",
            "  return var(axis=axis, dtype=dtype, out=out, ddof=ddof, **kwargs)\n",
            "/usr/local/lib/python3.11/dist-packages/numpy/_core/fromnumeric.py:3800: FutureWarning: The behavior of DataFrame.std with axis=None is deprecated, in a future version this will reduce over both axes and return a scalar. To retain the old behavior, pass axis=0 (or do not pass axis)\n",
            "  return std(axis=axis, dtype=dtype, out=out, ddof=ddof, **kwargs)\n"
          ]
        }
      ]
    },
    {
      "cell_type": "code",
      "source": [
        "#Q3.\n",
        "import pandas as pd\n",
        "\n",
        "\n",
        "data = {\n",
        "    'Student_ID': [101, 102, 103],\n",
        "    'Name': ['Asha', 'Ravi', 'Neha'],\n",
        "    'Gender': ['Female', 'Male', 'Female'],\n",
        "    'Grade_Level': ['12th', '11th', '10th'],\n",
        "    'Satisfaction_Rating': ['Satisfied', 'Neutral', 'Very Satisfied'],\n",
        "    'Temperature_C': [25, 30, 20],\n",
        "    'Marks_Percent': [92, 78, 88],\n",
        "    'Age_Years': [17, 16, 15]\n",
        "}\n",
        "\n",
        "df = pd.DataFrame(data)\n",
        "\n",
        "print(\"Dataset:\\n\")\n",
        "print(df)\n",
        "\n",
        "\n",
        "level_of_measurement = {\n",
        "    'Student_ID': 'Nominal',\n",
        "    'Name': 'Nominal',\n",
        "    'Gender': 'Nominal',\n",
        "    'Grade_Level': 'Ordinal',\n",
        "    'Satisfaction_Rating': 'Ordinal',\n",
        "    'Temperature_C': 'Interval',\n",
        "    'Marks_Percent': 'Ratio',\n",
        "    'Age_Years': 'Ratio'\n",
        "}\n",
        "\n",
        "print(\"\\nLevel of Measurement:\")\n",
        "for column, level in level_of_measurement.items():\n",
        "    print(f\"{column}: {level}\")\n"
      ],
      "metadata": {
        "colab": {
          "base_uri": "https://localhost:8080/"
        },
        "id": "xmUtgfmY9nj2",
        "outputId": "577ce692-47f3-4353-81ed-b051a0d0ef20"
      },
      "execution_count": 4,
      "outputs": [
        {
          "output_type": "stream",
          "name": "stdout",
          "text": [
            "Dataset:\n",
            "\n",
            "   Student_ID  Name  Gender Grade_Level Satisfaction_Rating  Temperature_C  \\\n",
            "0         101  Asha  Female        12th           Satisfied             25   \n",
            "1         102  Ravi    Male        11th             Neutral             30   \n",
            "2         103  Neha  Female        10th      Very Satisfied             20   \n",
            "\n",
            "   Marks_Percent  Age_Years  \n",
            "0             92         17  \n",
            "1             78         16  \n",
            "2             88         15  \n",
            "\n",
            "Level of Measurement:\n",
            "Student_ID: Nominal\n",
            "Name: Nominal\n",
            "Gender: Nominal\n",
            "Grade_Level: Ordinal\n",
            "Satisfaction_Rating: Ordinal\n",
            "Temperature_C: Interval\n",
            "Marks_Percent: Ratio\n",
            "Age_Years: Ratio\n"
          ]
        }
      ]
    },
    {
      "cell_type": "code",
      "source": [
        "#Q4.\n",
        "import random\n",
        "population = [i for i in range(100)]\n",
        "\n",
        "#simple random sampling\n",
        "sample = random.sample(population,20)\n",
        "print(sample)\n",
        "\n",
        "#stratified sampling\n",
        "population1 = {'Male':['M1','M2','M3','M4','M5'],\n",
        "               'Female':['F1','F2','F3','F4','F5']}\n",
        "sample1 =[]\n",
        "for group in population1:\n",
        "  sample1.extend(random.sample(population1[group],2))\n",
        "print(sample1)"
      ],
      "metadata": {
        "colab": {
          "base_uri": "https://localhost:8080/"
        },
        "id": "3I93fZIvD7_Q",
        "outputId": "8a3e03d7-85f4-43dc-f798-82de1eac4cc7"
      },
      "execution_count": 9,
      "outputs": [
        {
          "output_type": "stream",
          "name": "stdout",
          "text": [
            "[48, 56, 4, 28, 54, 36, 62, 23, 0, 60, 6, 96, 10, 3, 13, 94, 92, 53, 31, 81]\n",
            "['M5', 'M2', 'F4', 'F3']\n"
          ]
        }
      ]
    },
    {
      "cell_type": "code",
      "source": [
        "#Q5.\n",
        "import numpy as np\n",
        "x1 = np.random.randint(1,50,10)\n",
        "x2 = np.random.randint(1,50,10)\n",
        "\n",
        "import pandas as pd\n",
        "df = pd.DataFrame({'x1':x1,'x2':x2})\n",
        "range = df[['x1','x2']].max()-df[['x1','x2']].min()\n",
        "\n",
        "print(range)\n"
      ],
      "metadata": {
        "id": "8VRk8CRutGSE",
        "colab": {
          "base_uri": "https://localhost:8080/"
        },
        "outputId": "0beb1ac0-4b39-4022-fc01-252784285aec"
      },
      "execution_count": 11,
      "outputs": [
        {
          "output_type": "stream",
          "name": "stdout",
          "text": [
            "x1    32\n",
            "x2    45\n",
            "dtype: int64\n"
          ]
        }
      ]
    },
    {
      "cell_type": "code",
      "source": [
        "#Q6.\n",
        "import matplotlib.pyplot as plt\n",
        "x1 = np.random.randint(1,5,10)\n",
        "df1 = pd.DataFrame({'x1':x1})\n",
        "\n",
        "import seaborn as sns\n",
        "sns.histplot(df1['x1'],kde=True)"
      ],
      "metadata": {
        "id": "7zRX89OAuTyg",
        "colab": {
          "base_uri": "https://localhost:8080/",
          "height": 467
        },
        "outputId": "01defecc-f2db-40a2-8f4b-db7072566a12"
      },
      "execution_count": 22,
      "outputs": [
        {
          "output_type": "execute_result",
          "data": {
            "text/plain": [
              "<Axes: xlabel='x1', ylabel='Count'>"
            ]
          },
          "metadata": {},
          "execution_count": 22
        },
        {
          "output_type": "display_data",
          "data": {
            "text/plain": [
              "<Figure size 640x480 with 1 Axes>"
            ],
            "image/png": "[encoded data removed]"
          },
          "metadata": {}
        }
      ]
    },
    {
      "cell_type": "code",
      "source": [
        "import matplotlib.pyplot as plt\n",
        "import seaborn as sns\n",
        "\n",
        "data = [10, 20, 20, 30, 30, 30, 40, 50, 100]\n",
        "\n",
        "sns.histplot(data, kde=True)\n",
        "plt.title(\"KDE Plot\")\n",
        "plt.xlabel(\"Value\")\n",
        "plt.ylabel(\"Density\")\n",
        "plt.show()"
      ],
      "metadata": {
        "colab": {
          "base_uri": "https://localhost:8080/",
          "height": 472
        },
        "id": "W3bcpdzGvu8z",
        "outputId": "9763447b-82ce-4480-f64d-3357e421ee77"
      },
      "execution_count": 24,
      "outputs": [
        {
          "output_type": "display_data",
          "data": {
            "text/plain": [
              "<Figure size 640x480 with 1 Axes>"
            ],
            "image/png": "[encoded data removed]"
          },
          "metadata": {}
        }
      ]
    },
    {
      "cell_type": "code",
      "source": [
        "#Q7.\n",
        "from scipy.stats import skew, kurtosis\n",
        "\n",
        "skewness = skew(df1['x1'])\n",
        "kurtosis = df1['x1'].kurtosis()\n",
        "print(skewness)\n",
        "print(kurtosis)"
      ],
      "metadata": {
        "colab": {
          "base_uri": "https://localhost:8080/"
        },
        "id": "GvLQXxZYwbQc",
        "outputId": "6527643f-1ccb-425f-aec3-f05c39bc8ad5"
      },
      "execution_count": 26,
      "outputs": [
        {
          "output_type": "stream",
          "name": "stdout",
          "text": [
            "0.035466672126296235\n",
            "-1.2376937835226238\n"
          ]
        }
      ]
    },
    {
      "cell_type": "code",
      "source": [
        "#Q8.\n",
        "x1 = [-100,-180,-3,-34,-260,-55,-66,-51,-80]\n",
        "x2 = [100,28,30,240,51,180,60,70,80]\n",
        "df2 = pd.DataFrame({'x1':x1,'x2':x2})\n",
        "\n",
        "skewness1 = skew(df2['x1'])\n",
        "skewness2 = skew(df2['x2'])\n",
        "print(skewness1)\n",
        "print(skewness2)\n"
      ],
      "metadata": {
        "colab": {
          "base_uri": "https://localhost:8080/"
        },
        "id": "AmF47j39xNnh",
        "outputId": "8705b5ad-e1ed-46bd-c15b-e9f4cc0221ed"
      },
      "execution_count": 27,
      "outputs": [
        {
          "output_type": "stream",
          "name": "stdout",
          "text": [
            "-1.131424250273876\n",
            "1.1427370588933665\n"
          ]
        }
      ]
    },
    {
      "cell_type": "code",
      "source": [
        "sns.kdeplot(df2[['x1','x2']],fill = True)"
      ],
      "metadata": {
        "colab": {
          "base_uri": "https://localhost:8080/",
          "height": 448
        },
        "id": "tyQbPRvAxrTi",
        "outputId": "8eca5cdf-e5d2-4a02-d3e9-d7db67156413"
      },
      "execution_count": null,
      "outputs": [
        {
          "output_type": "execute_result",
          "data": {
            "text/plain": [
              "<Axes: ylabel='Density'>"
            ]
          },
          "metadata": {},
          "execution_count": 75
        },
        {
          "output_type": "display_data",
          "data": {
            "text/plain": [
              "<Figure size 640x480 with 1 Axes>"
            ],
            "image/png": "[encoded data removed]"
          },
          "metadata": {}
        }
      ]
    },
    {
      "cell_type": "code",
      "source": [
        "#Q9.\n",
        "import statistics\n",
        "statistics.covariance(df2['x1'],df2['x2'])"
      ],
      "metadata": {
        "colab": {
          "base_uri": "https://localhost:8080/"
        },
        "id": "ifqjQBXSzJ6T",
        "outputId": "0ff1f88b-25e8-404c-c316-66311150cf80"
      },
      "execution_count": null,
      "outputs": [
        {
          "output_type": "execute_result",
          "data": {
            "text/plain": [
              "2112.652777777778"
            ]
          },
          "metadata": {},
          "execution_count": 77
        }
      ]
    },
    {
      "cell_type": "code",
      "source": [
        "#Q10.\n",
        "statistics.correlation(df2['x1'],df2['x2'])"
      ],
      "metadata": {
        "colab": {
          "base_uri": "https://localhost:8080/"
        },
        "id": "pRDZs1iyzlir",
        "outputId": "7378a10c-5c82-4802-b583-dff01a802f63"
      },
      "execution_count": null,
      "outputs": [
        {
          "output_type": "execute_result",
          "data": {
            "text/plain": [
              "0.36906045975979074"
            ]
          },
          "metadata": {},
          "execution_count": 79
        }
      ]
    },
    {
      "cell_type": "code",
      "source": [
        "#Q11.\n",
        "sns.scatterplot(df2[['x1','x2']])"
      ],
      "metadata": {
        "colab": {
          "base_uri": "https://localhost:8080/",
          "height": 448
        },
        "id": "8pCcZmDnzuWz",
        "outputId": "efe6a529-7873-47b7-8a31-28b2451f952a"
      },
      "execution_count": 28,
      "outputs": [
        {
          "output_type": "execute_result",
          "data": {
            "text/plain": [
              "<Axes: >"
            ]
          },
          "metadata": {},
          "execution_count": 28
        },
        {
          "output_type": "display_data",
          "data": {
            "text/plain": [
              "<Figure size 640x480 with 1 Axes>"
            ],
            "image/png": "[encoded data removed]"
          },
          "metadata": {}
        }
      ]
    },
    {
      "cell_type": "code",
      "source": [
        "#Q12.\n",
        "import random\n",
        "\n",
        "#systematic sampling\n",
        "population1 = [i for i in range(1,101)]\n",
        "sample_size = 10\n",
        "k = len(population1) // sample_size\n",
        "start = random.randint(0, k - 1)\n",
        "systematic_sample = population1[start::k]\n",
        "print(\"Start index:\", start)\n",
        "\n",
        "print(\"Systematic Sampled data:\", systematic_sample)\n",
        "#simple random sampling\n",
        "random_sample = random.sample(population1,10)\n",
        "print('simple random sampled data',random_sample)"
      ],
      "metadata": {
        "colab": {
          "base_uri": "https://localhost:8080/"
        },
        "id": "mGq8W5T2z3Bp",
        "outputId": "3ebfb0c2-9874-4d40-e5ea-2de13a1762ca"
      },
      "execution_count": 2,
      "outputs": [
        {
          "output_type": "stream",
          "name": "stdout",
          "text": [
            "Start index: 9\n",
            "Systematic Sampled data: [10, 20, 30, 40, 50, 60, 70, 80, 90, 100]\n",
            "simple random sampled data [67, 7, 84, 77, 42, 99, 57, 16, 85, 65]\n"
          ]
        }
      ]
    },
    {
      "cell_type": "code",
      "source": [
        "#Q13.\n",
        "\n",
        "# Class intervals and frequencies\n",
        "classes = [(0, 10), (10, 20), (20, 30), (30, 40), (40, 50)]\n",
        "frequencies = [5, 8, 15, 10, 7]\n",
        "\n",
        "# Calculate midpoints\n",
        "midpoints = [(l + u) / 2 for l, u in classes]\n",
        "\n",
        "# Mean calculation\n",
        "total_freq = sum(frequencies)\n",
        "mean = sum(f * x for f, x in zip(frequencies, midpoints)) / total_freq\n",
        "\n",
        "print(\"Mean:\", mean)\n",
        "\n",
        "# Cumulative frequency\n",
        "cumulative_freq = [sum(frequencies[:i+1]) for i in range(len(frequencies))]\n",
        "N = total_freq\n",
        "\n",
        "# Median class index\n",
        "for i, cf in enumerate(cumulative_freq):\n",
        "    if cf >= N / 2:\n",
        "        median_class_index = i\n",
        "        break\n",
        "\n",
        "L = classes[median_class_index][0]\n",
        "CF = cumulative_freq[median_class_index - 1] if median_class_index != 0 else 0\n",
        "f = frequencies[median_class_index]\n",
        "h = classes[median_class_index][1] - classes[median_class_index][0]\n",
        "\n",
        "median = L + ((N / 2 - CF) / f) * h\n",
        "print(\"Median:\", median)\n",
        "\n",
        "# Mode class index\n",
        "modal_index = frequencies.index(max(frequencies))\n",
        "f1 = frequencies[modal_index]\n",
        "f0 = frequencies[modal_index - 1] if modal_index > 0 else 0\n",
        "f2 = frequencies[modal_index + 1] if modal_index < len(frequencies) - 1 else 0\n",
        "L = classes[modal_index][0]\n",
        "h = classes[modal_index][1] - classes[modal_index][0]\n",
        "\n",
        "mode = L + ((f1 - f0) / (2 * f1 - f0 - f2)) * h if (2 * f1 - f0 - f2) != 0 else None\n",
        "print(\"Mode:\", mode)\n"
      ],
      "metadata": {
        "colab": {
          "base_uri": "https://localhost:8080/"
        },
        "id": "ST6eb8cL1cmi",
        "outputId": "8f96a5dc-9728-495d-c676-4abf71c75438"
      },
      "execution_count": 5,
      "outputs": [
        {
          "output_type": "stream",
          "name": "stdout",
          "text": [
            "Mean: 26.333333333333332\n",
            "Median: 26.333333333333332\n",
            "Mode: 25.833333333333336\n"
          ]
        }
      ]
    },
    {
      "cell_type": "code",
      "source": [
        "import numpy as np\n",
        "import pandas as pd\n",
        "import seaborn as sns\n",
        "import matplotlib.pyplot as plt\n",
        "import seaborn as sns\n",
        "sns.get_dataset_names()"
      ],
      "metadata": {
        "colab": {
          "base_uri": "https://localhost:8080/"
        },
        "id": "lRsBoWCY2At7",
        "outputId": "3748a14a-e9dc-4e4e-dda5-122df50e6ea6"
      },
      "execution_count": 7,
      "outputs": [
        {
          "output_type": "execute_result",
          "data": {
            "text/plain": [
              "['anagrams',\n",
              " 'anscombe',\n",
              " 'attention',\n",
              " 'brain_networks',\n",
              " 'car_crashes',\n",
              " 'diamonds',\n",
              " 'dots',\n",
              " 'dowjones',\n",
              " 'exercise',\n",
              " 'flights',\n",
              " 'fmri',\n",
              " 'geyser',\n",
              " 'glue',\n",
              " 'healthexp',\n",
              " 'iris',\n",
              " 'mpg',\n",
              " 'penguins',\n",
              " 'planets',\n",
              " 'seaice',\n",
              " 'taxis',\n",
              " 'tips',\n",
              " 'titanic']"
            ]
          },
          "metadata": {},
          "execution_count": 7
        }
      ]
    },
    {
      "cell_type": "code",
      "source": [
        "#Q15.\n",
        "df = sns.load_dataset('tips')\n",
        "df.describe()"
      ],
      "metadata": {
        "id": "FY7VXRTIDO-R",
        "colab": {
          "base_uri": "https://localhost:8080/",
          "height": 300
        },
        "outputId": "05b6cca3-753d-4d49-e1d7-eb4c5b57d642"
      },
      "execution_count": 8,
      "outputs": [
        {
          "output_type": "execute_result",
          "data": {
            "text/plain": [
              "       total_bill         tip        size\n",
              "count  244.000000  244.000000  244.000000\n",
              "mean    19.785943    2.998279    2.569672\n",
              "std      8.902412    1.383638    0.951100\n",
              "min      3.070000    1.000000    1.000000\n",
              "25%     13.347500    2.000000    2.000000\n",
              "50%     17.795000    2.900000    2.000000\n",
              "75%     24.127500    3.562500    3.000000\n",
              "max     50.810000   10.000000    6.000000"
            ],
            "text/html": [
              "\n",
              "  <div id=\"df-77d3bd78-44b2-4e8e-b1ad-9bf5f3a84e03\" class=\"colab-df-container\">\n",
              "    <div>\n",
              "<style scoped>\n",
              "    .dataframe tbody tr th:only-of-type {\n",
              "        vertical-align: middle;\n",
              "    }\n",
              "\n",
              "    .dataframe tbody tr th {\n",
              "        vertical-align: top;\n",
              "    }\n",
              "\n",
              "    .dataframe thead th {\n",
              "        text-align: right;\n",
              "    }\n",
              "</style>\n",
              "<table border=\"1\" class=\"dataframe\">\n",
              "  <thead>\n",
              "    <tr style=\"text-align: right;\">\n",
              "      <th></th>\n",
              "      <th>total_bill</th>\n",
              "      <th>tip</th>\n",
              "      <th>size</th>\n",
              "    </tr>\n",
              "  </thead>\n",
              "  <tbody>\n",
              "    <tr>\n",
              "      <th>count</th>\n",
              "      <td>244.000000</td>\n",
              "      <td>244.000000</td>\n",
              "      <td>244.000000</td>\n",
              "    </tr>\n",
              "    <tr>\n",
              "      <th>mean</th>\n",
              "      <td>19.785943</td>\n",
              "      <td>2.998279</td>\n",
              "      <td>2.569672</td>\n",
              "    </tr>\n",
              "    <tr>\n",
              "      <th>std</th>\n",
              "      <td>8.902412</td>\n",
              "      <td>1.383638</td>\n",
              "      <td>0.951100</td>\n",
              "    </tr>\n",
              "    <tr>\n",
              "      <th>min</th>\n",
              "      <td>3.070000</td>\n",
              "      <td>1.000000</td>\n",
              "      <td>1.000000</td>\n",
              "    </tr>\n",
              "    <tr>\n",
              "      <th>25%</th>\n",
              "      <td>13.347500</td>\n",
              "      <td>2.000000</td>\n",
              "      <td>2.000000</td>\n",
              "    </tr>\n",
              "    <tr>\n",
              "      <th>50%</th>\n",
              "      <td>17.795000</td>\n",
              "      <td>2.900000</td>\n",
              "      <td>2.000000</td>\n",
              "    </tr>\n",
              "    <tr>\n",
              "      <th>75%</th>\n",
              "      <td>24.127500</td>\n",
              "      <td>3.562500</td>\n",
              "      <td>3.000000</td>\n",
              "    </tr>\n",
              "    <tr>\n",
              "      <th>max</th>\n",
              "      <td>50.810000</td>\n",
              "      <td>10.000000</td>\n",
              "      <td>6.000000</td>\n",
              "    </tr>\n",
              "  </tbody>\n",
              "</table>\n",
              "</div>\n",
              "    <div class=\"colab-df-buttons\">\n",
              "\n",
              "  <div class=\"colab-df-container\">\n",
              "    <button class=\"colab-df-convert\" onclick=\"convertToInteractive('df-77d3bd78-44b2-4e8e-b1ad-9bf5f3a84e03')\"\n",
              "            title=\"Convert this dataframe to an interactive table.\"\n",
              "            style=\"display:none;\">\n",
              "\n",
              "  <svg xmlns=\"http://www.w3.org/2000/svg\" height=\"24px\" viewBox=\"0 -960 960 960\">\n",
              "    <path d=\"M120-120v-720h720v720H120Zm60-500h600v-160H180v160Zm220 220h160v-160H400v160Zm0 220h160v-160H400v160ZM180-400h160v-160H180v160Zm440 0h160v-160H620v160ZM180-180h160v-160H180v160Zm440 0h160v-160H620v160Z\"/>\n",
              "  </svg>\n",
              "    </button>\n",
              "\n",
              "  <style>\n",
              "    .colab-df-container {\n",
              "      display:flex;\n",
              "      gap: 12px;\n",
              "    }\n",
              "\n",
              "    .colab-df-convert {\n",
              "      background-color: #E8F0FE;\n",
              "      border: none;\n",
              "      border-radius: 50%;\n",
              "      cursor: pointer;\n",
              "      display: none;\n",
              "      fill: #1967D2;\n",
              "      height: 32px;\n",
              "      padding: 0 0 0 0;\n",
              "      width: 32px;\n",
              "    }\n",
              "\n",
              "    .colab-df-convert:hover {\n",
              "      background-color: #E2EBFA;\n",
              "      box-shadow: 0px 1px 2px rgba(60, 64, 67, 0.3), 0px 1px 3px 1px rgba(60, 64, 67, 0.15);\n",
              "      fill: #174EA6;\n",
              "    }\n",
              "\n",
              "    .colab-df-buttons div {\n",
              "      margin-bottom: 4px;\n",
              "    }\n",
              "\n",
              "    [theme=dark] .colab-df-convert {\n",
              "      background-color: #3B4455;\n",
              "      fill: #D2E3FC;\n",
              "    }\n",
              "\n",
              "    [theme=dark] .colab-df-convert:hover {\n",
              "      background-color: #434B5C;\n",
              "      box-shadow: 0px 1px 3px 1px rgba(0, 0, 0, 0.15);\n",
              "      filter: drop-shadow(0px 1px 2px rgba(0, 0, 0, 0.3));\n",
              "      fill: #FFFFFF;\n",
              "    }\n",
              "  </style>\n",
              "\n",
              "    <script>\n",
              "      const buttonEl =\n",
              "        document.querySelector('#df-77d3bd78-44b2-4e8e-b1ad-9bf5f3a84e03 button.colab-df-convert');\n",
              "      buttonEl.style.display =\n",
              "        google.colab.kernel.accessAllowed ? 'block' : 'none';\n",
              "\n",
              "      async function convertToInteractive(key) {\n",
              "        const element = document.querySelector('#df-77d3bd78-44b2-4e8e-b1ad-9bf5f3a84e03');\n",
              "        const dataTable =\n",
              "          await google.colab.kernel.invokeFunction('convertToInteractive',\n",
              "                                                    [key], {});\n",
              "        if (!dataTable) return;\n",
              "\n",
              "        const docLinkHtml = 'Like what you see? Visit the ' +\n",
              "          '<a target=\"_blank\" href=https://colab.research.google.com/notebooks/data_table.ipynb>data table notebook</a>'\n",
              "          + ' to learn more about interactive tables.';\n",
              "        element.innerHTML = '';\n",
              "        dataTable['output_type'] = 'display_data';\n",
              "        await google.colab.output.renderOutput(dataTable, element);\n",
              "        const docLink = document.createElement('div');\n",
              "        docLink.innerHTML = docLinkHtml;\n",
              "        element.appendChild(docLink);\n",
              "      }\n",
              "    </script>\n",
              "  </div>\n",
              "\n",
              "\n",
              "    <div id=\"df-cd87ee58-0bab-4f86-8f23-50c0ee0589a3\">\n",
              "      <button class=\"colab-df-quickchart\" onclick=\"quickchart('df-cd87ee58-0bab-4f86-8f23-50c0ee0589a3')\"\n",
              "                title=\"Suggest charts\"\n",
              "                style=\"display:none;\">\n",
              "\n",
              "<svg xmlns=\"http://www.w3.org/2000/svg\" height=\"24px\"viewBox=\"0 0 24 24\"\n",
              "     width=\"24px\">\n",
              "    <g>\n",
              "        <path d=\"M19 3H5c-1.1 0-2 .9-2 2v14c0 1.1.9 2 2 2h14c1.1 0 2-.9 2-2V5c0-1.1-.9-2-2-2zM9 17H7v-7h2v7zm4 0h-2V7h2v10zm4 0h-2v-4h2v4z\"/>\n",
              "    </g>\n",
              "</svg>\n",
              "      </button>\n",
              "\n",
              "<style>\n",
              "  .colab-df-quickchart {\n",
              "      --bg-color: #E8F0FE;\n",
              "      --fill-color: #1967D2;\n",
              "      --hover-bg-color: #E2EBFA;\n",
              "      --hover-fill-color: #174EA6;\n",
              "      --disabled-fill-color: #AAA;\n",
              "      --disabled-bg-color: #DDD;\n",
              "  }\n",
              "\n",
              "  [theme=dark] .colab-df-quickchart {\n",
              "      --bg-color: #3B4455;\n",
              "      --fill-color: #D2E3FC;\n",
              "      --hover-bg-color: #434B5C;\n",
              "      --hover-fill-color: #FFFFFF;\n",
              "      --disabled-bg-color: #3B4455;\n",
              "      --disabled-fill-color: #666;\n",
              "  }\n",
              "\n",
              "  .colab-df-quickchart {\n",
              "    background-color: var(--bg-color);\n",
              "    border: none;\n",
              "    border-radius: 50%;\n",
              "    cursor: pointer;\n",
              "    display: none;\n",
              "    fill: var(--fill-color);\n",
              "    height: 32px;\n",
              "    padding: 0;\n",
              "    width: 32px;\n",
              "  }\n",
              "\n",
              "  .colab-df-quickchart:hover {\n",
              "    background-color: var(--hover-bg-color);\n",
              "    box-shadow: 0 1px 2px rgba(60, 64, 67, 0.3), 0 1px 3px 1px rgba(60, 64, 67, 0.15);\n",
              "    fill: var(--button-hover-fill-color);\n",
              "  }\n",
              "\n",
              "  .colab-df-quickchart-complete:disabled,\n",
              "  .colab-df-quickchart-complete:disabled:hover {\n",
              "    background-color: var(--disabled-bg-color);\n",
              "    fill: var(--disabled-fill-color);\n",
              "    box-shadow: none;\n",
              "  }\n",
              "\n",
              "  .colab-df-spinner {\n",
              "    border: 2px solid var(--fill-color);\n",
              "    border-color: transparent;\n",
              "    border-bottom-color: var(--fill-color);\n",
              "    animation:\n",
              "      spin 1s steps(1) infinite;\n",
              "  }\n",
              "\n",
              "  @keyframes spin {\n",
              "    0% {\n",
              "      border-color: transparent;\n",
              "      border-bottom-color: var(--fill-color);\n",
              "      border-left-color: var(--fill-color);\n",
              "    }\n",
              "    20% {\n",
              "      border-color: transparent;\n",
              "      border-left-color: var(--fill-color);\n",
              "      border-top-color: var(--fill-color);\n",
              "    }\n",
              "    30% {\n",
              "      border-color: transparent;\n",
              "      border-left-color: var(--fill-color);\n",
              "      border-top-color: var(--fill-color);\n",
              "      border-right-color: var(--fill-color);\n",
              "    }\n",
              "    40% {\n",
              "      border-color: transparent;\n",
              "      border-right-color: var(--fill-color);\n",
              "      border-top-color: var(--fill-color);\n",
              "    }\n",
              "    60% {\n",
              "      border-color: transparent;\n",
              "      border-right-color: var(--fill-color);\n",
              "    }\n",
              "    80% {\n",
              "      border-color: transparent;\n",
              "      border-right-color: var(--fill-color);\n",
              "      border-bottom-color: var(--fill-color);\n",
              "    }\n",
              "    90% {\n",
              "      border-color: transparent;\n",
              "      border-bottom-color: var(--fill-color);\n",
              "    }\n",
              "  }\n",
              "</style>\n",
              "\n",
              "      <script>\n",
              "        async function quickchart(key) {\n",
              "          const quickchartButtonEl =\n",
              "            document.querySelector('#' + key + ' button');\n",
              "          quickchartButtonEl.disabled = true;  // To prevent multiple clicks.\n",
              "          quickchartButtonEl.classList.add('colab-df-spinner');\n",
              "          try {\n",
              "            const charts = await google.colab.kernel.invokeFunction(\n",
              "                'suggestCharts', [key], {});\n",
              "          } catch (error) {\n",
              "            console.error('Error during call to suggestCharts:', error);\n",
              "          }\n",
              "          quickchartButtonEl.classList.remove('colab-df-spinner');\n",
              "          quickchartButtonEl.classList.add('colab-df-quickchart-complete');\n",
              "        }\n",
              "        (() => {\n",
              "          let quickchartButtonEl =\n",
              "            document.querySelector('#df-cd87ee58-0bab-4f86-8f23-50c0ee0589a3 button');\n",
              "          quickchartButtonEl.style.display =\n",
              "            google.colab.kernel.accessAllowed ? 'block' : 'none';\n",
              "        })();\n",
              "      </script>\n",
              "    </div>\n",
              "\n",
              "    </div>\n",
              "  </div>\n"
            ],
            "application/vnd.google.colaboratory.intrinsic+json": {
              "type": "dataframe",
              "summary": "{\n  \"name\": \"df\",\n  \"rows\": 8,\n  \"fields\": [\n    {\n      \"column\": \"total_bill\",\n      \"properties\": {\n        \"dtype\": \"number\",\n        \"std\": 80.57800601480773,\n        \"min\": 3.07,\n        \"max\": 244.0,\n        \"num_unique_values\": 8,\n        \"samples\": [\n          19.78594262295082,\n          17.795,\n          244.0\n        ],\n        \"semantic_type\": \"\",\n        \"description\": \"\"\n      }\n    },\n    {\n      \"column\": \"tip\",\n      \"properties\": {\n        \"dtype\": \"number\",\n        \"std\": 85.10953159599222,\n        \"min\": 1.0,\n        \"max\": 244.0,\n        \"num_unique_values\": 8,\n        \"samples\": [\n          2.99827868852459,\n          2.9,\n          244.0\n        ],\n        \"semantic_type\": \"\",\n        \"description\": \"\"\n      }\n    },\n    {\n      \"column\": \"size\",\n      \"properties\": {\n        \"dtype\": \"number\",\n        \"std\": 85.39686221774684,\n        \"min\": 0.9510998047322332,\n        \"max\": 244.0,\n        \"num_unique_values\": 7,\n        \"samples\": [\n          244.0,\n          2.569672131147541,\n          3.0\n        ],\n        \"semantic_type\": \"\",\n        \"description\": \"\"\n      }\n    }\n  ]\n}"
            }
          },
          "metadata": {},
          "execution_count": 8
        }
      ]
    },
    {
      "cell_type": "code",
      "source": [
        "#Q16.\n",
        "plt.boxplot(df['total_bill'])"
      ],
      "metadata": {
        "colab": {
          "base_uri": "https://localhost:8080/",
          "height": 573
        },
        "id": "j75czsc3DYzi",
        "outputId": "538b4dbf-68b7-4c49-c146-16b85107e450"
      },
      "execution_count": 9,
      "outputs": [
        {
          "output_type": "execute_result",
          "data": {
            "text/plain": [
              "{'whiskers': [<matplotlib.lines.Line2D at 0x7eefe3611890>,\n",
              "  <matplotlib.lines.Line2D at 0x7eefe35f7a90>],\n",
              " 'caps': [<matplotlib.lines.Line2D at 0x7eefe36131d0>,\n",
              "  <matplotlib.lines.Line2D at 0x7eefe3613ed0>],\n",
              " 'boxes': [<matplotlib.lines.Line2D at 0x7eefe73e0c10>],\n",
              " 'medians': [<matplotlib.lines.Line2D at 0x7eefe3620b90>],\n",
              " 'fliers': [<matplotlib.lines.Line2D at 0x7eefe3621710>],\n",
              " 'means': []}"
            ]
          },
          "metadata": {},
          "execution_count": 9
        },
        {
          "output_type": "display_data",
          "data": {
            "text/plain": [
              "<Figure size 640x480 with 1 Axes>"
            ],
            "image/png": "[encoded data removed]"
          },
          "metadata": {}
        }
      ]
    },
    {
      "cell_type": "code",
      "source": [
        "#Q17.\n",
        "q3 = df.total_bill.quantile(0.75)\n",
        "q1 = df.total_bill.quantile(0.25)\n",
        "iqr = q3-q1\n",
        "upper_limit = q3 + 1.5*iqr\n",
        "print(iqr)\n"
      ],
      "metadata": {
        "colab": {
          "base_uri": "https://localhost:8080/"
        },
        "id": "A4oTh1arDeyY",
        "outputId": "d3c13a79-4520-4556-c855-29065d4c28a4"
      },
      "execution_count": 10,
      "outputs": [
        {
          "output_type": "stream",
          "name": "stdout",
          "text": [
            "10.779999999999998\n"
          ]
        }
      ]
    },
    {
      "cell_type": "code",
      "source": [
        "df['total_bill'].quantile([0.25,.50,0.75])"
      ],
      "metadata": {
        "colab": {
          "base_uri": "https://localhost:8080/",
          "height": 178
        },
        "id": "M0PTOpsNEPZT",
        "outputId": "57a8517b-ceb9-4181-e6d2-91723662caf1"
      },
      "execution_count": null,
      "outputs": [
        {
          "output_type": "execute_result",
          "data": {
            "text/plain": [
              "0.25    13.3475\n",
              "0.50    17.7950\n",
              "0.75    24.1275\n",
              "Name: total_bill, dtype: float64"
            ],
            "text/html": [
              "<div>\n",
              "<style scoped>\n",
              "    .dataframe tbody tr th:only-of-type {\n",
              "        vertical-align: middle;\n",
              "    }\n",
              "\n",
              "    .dataframe tbody tr th {\n",
              "        vertical-align: top;\n",
              "    }\n",
              "\n",
              "    .dataframe thead th {\n",
              "        text-align: right;\n",
              "    }\n",
              "</style>\n",
              "<table border=\"1\" class=\"dataframe\">\n",
              "  <thead>\n",
              "    <tr style=\"text-align: right;\">\n",
              "      <th></th>\n",
              "      <th>total_bill</th>\n",
              "    </tr>\n",
              "  </thead>\n",
              "  <tbody>\n",
              "    <tr>\n",
              "      <th>0.25</th>\n",
              "      <td>13.3475</td>\n",
              "    </tr>\n",
              "    <tr>\n",
              "      <th>0.50</th>\n",
              "      <td>17.7950</td>\n",
              "    </tr>\n",
              "    <tr>\n",
              "      <th>0.75</th>\n",
              "      <td>24.1275</td>\n",
              "    </tr>\n",
              "  </tbody>\n",
              "</table>\n",
              "</div><br><label><b>dtype:</b> float64</label>"
            ]
          },
          "metadata": {},
          "execution_count": 21
        }
      ]
    },
    {
      "cell_type": "code",
      "source": [
        "#Q19.\n",
        "np.std(df[['total_bill','tip']])"
      ],
      "metadata": {
        "colab": {
          "base_uri": "https://localhost:8080/",
          "height": 203
        },
        "id": "Pl6onIOuEgB0",
        "outputId": "80e0ea4b-1032-4225-833f-1b0b5dfda013"
      },
      "execution_count": 11,
      "outputs": [
        {
          "output_type": "stream",
          "name": "stderr",
          "text": [
            "/usr/local/lib/python3.11/dist-packages/numpy/_core/fromnumeric.py:3800: FutureWarning: The behavior of DataFrame.std with axis=None is deprecated, in a future version this will reduce over both axes and return a scalar. To retain the old behavior, pass axis=0 (or do not pass axis)\n",
            "  return std(axis=axis, dtype=dtype, out=out, ddof=ddof, **kwargs)\n"
          ]
        },
        {
          "output_type": "execute_result",
          "data": {
            "text/plain": [
              "total_bill    8.884151\n",
              "tip           1.380800\n",
              "dtype: float64"
            ],
            "text/html": [
              "<div>\n",
              "<style scoped>\n",
              "    .dataframe tbody tr th:only-of-type {\n",
              "        vertical-align: middle;\n",
              "    }\n",
              "\n",
              "    .dataframe tbody tr th {\n",
              "        vertical-align: top;\n",
              "    }\n",
              "\n",
              "    .dataframe thead th {\n",
              "        text-align: right;\n",
              "    }\n",
              "</style>\n",
              "<table border=\"1\" class=\"dataframe\">\n",
              "  <thead>\n",
              "    <tr style=\"text-align: right;\">\n",
              "      <th></th>\n",
              "      <th>0</th>\n",
              "    </tr>\n",
              "  </thead>\n",
              "  <tbody>\n",
              "    <tr>\n",
              "      <th>total_bill</th>\n",
              "      <td>8.884151</td>\n",
              "    </tr>\n",
              "    <tr>\n",
              "      <th>tip</th>\n",
              "      <td>1.380800</td>\n",
              "    </tr>\n",
              "  </tbody>\n",
              "</table>\n",
              "</div><br><label><b>dtype:</b> float64</label>"
            ]
          },
          "metadata": {},
          "execution_count": 11
        }
      ]
    },
    {
      "cell_type": "code",
      "source": [
        "#Q20.\n",
        "sns.heatmap(df.cov(numeric_only= True), annot = True)"
      ],
      "metadata": {
        "colab": {
          "base_uri": "https://localhost:8080/",
          "height": 448
        },
        "id": "cyw-deogE58q",
        "outputId": "54c80f87-88ff-452e-ea8d-8585724d04b9"
      },
      "execution_count": null,
      "outputs": [
        {
          "output_type": "execute_result",
          "data": {
            "text/plain": [
              "<Axes: >"
            ]
          },
          "metadata": {},
          "execution_count": 26
        },
        {
          "output_type": "display_data",
          "data": {
            "text/plain": [
              "<Figure size 640x480 with 2 Axes>"
            ],
            "image/png": "[encoded data removed]"
          },
          "metadata": {}
        }
      ]
    },
    {
      "cell_type": "code",
      "source": [
        "#Q21.\n",
        "sns.heatmap(df.corr(numeric_only=True),annot=True)"
      ],
      "metadata": {
        "colab": {
          "base_uri": "https://localhost:8080/",
          "height": 453
        },
        "id": "m-0WSrb2FM6O",
        "outputId": "9161381c-33b1-4ddb-b079-2c747e5abaa8"
      },
      "execution_count": null,
      "outputs": [
        {
          "output_type": "execute_result",
          "data": {
            "text/plain": [
              "<Axes: >"
            ]
          },
          "metadata": {},
          "execution_count": 27
        },
        {
          "output_type": "display_data",
          "data": {
            "text/plain": [
              "<Figure size 640x480 with 2 Axes>"
            ],
            "image/png": "[encoded data removed]"
          },
          "metadata": {}
        }
      ]
    },
    {
      "cell_type": "code",
      "source": [
        "#Q23\n",
        "import numpy as np\n",
        "import matplotlib.pyplot as plt\n",
        "import seaborn as sns\n",
        "from scipy.stats import skew, kurtosis\n",
        "\n",
        "np.random.seed(42)\n",
        "data_normal = np.random.normal(loc=0, scale=1, size=1000)\n",
        "data_skewed = np.random.exponential(scale=2, size=1000)\n",
        "\n",
        "\n",
        "def plot_distribution(data, title):\n",
        "    sk = skew(data)\n",
        "    kt = kurtosis(data, fisher=True)\n",
        "\n",
        "    plt.figure(figsize=(8, 4))\n",
        "    sns.histplot(data, bins=30, kde=True, color='skyblue')\n",
        "    plt.title(f\"{title}\\nSkewness: {sk:.2f}, Kurtosis: {kt:.2f}\")\n",
        "    plt.xlabel('Value')\n",
        "    plt.ylabel('Frequency')\n",
        "    plt.grid(True)\n",
        "    plt.show()\n",
        "\n",
        "\n",
        "plot_distribution(data_normal, \"Normal Distribution\")\n",
        "plot_distribution(data_skewed, \"Exponential (Skewed) Distribution\")\n"
      ],
      "metadata": {
        "colab": {
          "base_uri": "https://localhost:8080/",
          "height": 845
        },
        "id": "uS6FGF9KFu-I",
        "outputId": "578d85d0-b459-4303-9be6-a9c8c17bd2dc"
      },
      "execution_count": 12,
      "outputs": [
        {
          "output_type": "display_data",
          "data": {
            "text/plain": [
              "<Figure size 800x400 with 1 Axes>"
            ],
            "image/png": "[encoded data removed]"
          },
          "metadata": {}
        },
        {
          "output_type": "display_data",
          "data": {
            "text/plain": [
              "<Figure size 800x400 with 1 Axes>"
            ],
            "image/png": "[encoded data removed]"
          },
          "metadata": {}
        }
      ]
    },
    {
      "cell_type": "code",
      "source": [
        "#Q24.\n",
        "import pandas as pd\n",
        "from scipy.stats import pearsonr, spearmanr\n",
        "\n",
        "\n",
        "data = {\n",
        "    'Hours_Studied': [2, 4, 6, 8, 10],\n",
        "    'Exam_Score': [50, 55, 65, 80, 85]\n",
        "}\n",
        "\n",
        "df = pd.DataFrame(data)\n",
        "\n",
        "print(\"Dataset:\\n\")\n",
        "print(df)\n",
        "\n",
        "# Pearson correlation\n",
        "pearson_corr, _ = pearsonr(df['Hours_Studied'], df['Exam_Score'])\n",
        "print(f\"\\n Pearson Correlation Coefficient: {pearson_corr:.4f}\")\n",
        "\n",
        "# Spearman correlation\n",
        "spearman_corr, _ = spearmanr(df['Hours_Studied'], df['Exam_Score'])\n",
        "print(f\"Spearman Correlation Coefficient: {spearman_corr:.4f}\")\n"
      ],
      "metadata": {
        "id": "mqrCcrtyF_fL",
        "colab": {
          "base_uri": "https://localhost:8080/"
        },
        "outputId": "f21dcd9d-bf03-4518-be16-7af56cec2a98"
      },
      "execution_count": 15,
      "outputs": [
        {
          "output_type": "stream",
          "name": "stdout",
          "text": [
            "Dataset:\n",
            "\n",
            "   Hours_Studied  Exam_Score\n",
            "0              2          50\n",
            "1              4          55\n",
            "2              6          65\n",
            "3              8          80\n",
            "4             10          85\n",
            "\n",
            " Pearson Correlation Coefficient: 0.9851\n",
            "Spearman Correlation Coefficient: 1.0000\n"
          ]
        }
      ]
    },
    {
      "cell_type": "code",
      "source": [],
      "metadata": {
        "id": "Q2m2FHAoBOlc"
      },
      "execution_count": null,
      "outputs": []
    }
  ]
}