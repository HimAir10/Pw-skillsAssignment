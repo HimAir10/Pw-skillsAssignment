{
  "nbformat": 4,
  "nbformat_minor": 0,
  "metadata": {
    "colab": {
      "provenance": []
    },
    "kernelspec": {
      "name": "python3",
      "display_name": "Python 3"
    },
    "language_info": {
      "name": "python"
    }
  },
  "cells": [
    {
      "cell_type": "code",
      "source": [],
      "metadata": {
        "id": "AOql0Vnjy9sV"
      },
      "execution_count": null,
      "outputs": []
    },
    {
      "cell_type": "markdown",
      "source": [
        "# **Theory Questions**\n"
      ],
      "metadata": {
        "id": "7LEAwuowy_ce"
      }
    },
    {
      "cell_type": "markdown",
      "source": [
        "What is the difference between a function and a method in Python?"
      ],
      "metadata": {
        "id": "ZJtMhfYQz5IS"
      }
    },
    {
      "cell_type": "markdown",
      "source": [
        "| Feature    | **Function**                                   | **Method**                                                      |\n",
        "| ---------- | ---------------------------------------------- | --------------------------------------------------------------- |\n",
        "| Definition | A block of code that performs a specific task. | A function that is associated with an object (usually a class). |\n",
        "| Syntax     | Defined using `def` outside of a class.        | Defined inside a class and called on an object.                 |\n",
        "| Called on  | Called independently.                          | Called using an object (e.g., `object.method()`).               |\n",
        "| Belongs to | Global scope or module.                        | Belongs to a class or object.                                   |\n",
        "\n"
      ],
      "metadata": {
        "id": "aFnAedxDzvWU"
      }
    },
    {
      "cell_type": "markdown",
      "source": [
        "Example"
      ],
      "metadata": {
        "id": "_tlyiHOQ0HI4"
      }
    },
    {
      "cell_type": "code",
      "source": [
        "def greet(name):\n",
        "    return f\"Hello, {name}!\"\n",
        "\n",
        "print(greet(\"Himanshu\"))  # Output: Hello, Himanshu!\n"
      ],
      "metadata": {
        "id": "qrnL-yday9p-",
        "colab": {
          "base_uri": "https://localhost:8080/"
        },
        "outputId": "08e5285f-bf3d-4cf3-b554-3e671c2a48db"
      },
      "execution_count": null,
      "outputs": [
        {
          "output_type": "stream",
          "name": "stdout",
          "text": [
            "Hello, Himanshu!\n"
          ]
        }
      ]
    },
    {
      "cell_type": "code",
      "source": [
        "class Greeter:\n",
        "    def greet(self, name):\n",
        "        return f\"Hello, {name}!\"\n",
        "\n",
        "g = Greeter()\n",
        "print(g.greet(\"Himanshu\"))  # Output: Hello, Himanshu!\n"
      ],
      "metadata": {
        "id": "8kYiYIIBy9np",
        "colab": {
          "base_uri": "https://localhost:8080/"
        },
        "outputId": "8eedc864-8d5e-42f8-bb63-a829cc92ef61"
      },
      "execution_count": null,
      "outputs": [
        {
          "output_type": "stream",
          "name": "stdout",
          "text": [
            "Hello, Himanshu!\n"
          ]
        }
      ]
    },
    {
      "cell_type": "markdown",
      "source": [
        "2. Explain the concept of function arguments and parameters in Python."
      ],
      "metadata": {
        "id": "YAbAc7vX1I3A"
      }
    },
    {
      "cell_type": "markdown",
      "source": [
        "In Python, parameters and arguments are related but distinct concepts used in functions:\n",
        "\n",
        "Term\t      Description\n",
        "\n",
        "Parameter\tA variable listed inside the parentheses in a function definition.\n",
        "\n",
        "Argument\tA value passed to the function when it is called.\n"
      ],
      "metadata": {
        "id": "F5i83_c-1Pda"
      }
    },
    {
      "cell_type": "code",
      "source": [
        "# Here, name is a parameter\n",
        "def greet(name):\n",
        "    print(f\"Hello, {name}!\")\n",
        "\n",
        "# \"Himanshu\" is the argument\n",
        "greet(\"Himanshu\")\n"
      ],
      "metadata": {
        "id": "awg0Qsz2y9lk",
        "colab": {
          "base_uri": "https://localhost:8080/"
        },
        "outputId": "79079532-09f8-4774-bd64-f56d9b9531db"
      },
      "execution_count": null,
      "outputs": [
        {
          "output_type": "stream",
          "name": "stdout",
          "text": [
            "Hello, Himanshu!\n"
          ]
        }
      ]
    },
    {
      "cell_type": "markdown",
      "source": [
        "3. What are the different ways to define and call a function in Python?"
      ],
      "metadata": {
        "id": "AC9J8zQm2FgN"
      }
    },
    {
      "cell_type": "markdown",
      "source": [
        "Function Definition in Python\n",
        "Python provides two main ways to define functions:\n",
        "\n",
        "Using the def keyword:\n",
        "\n",
        "This is the most common way to define a named function.\n",
        "\n",
        "Using the lambda keyword:\n",
        "\n",
        "This defines an anonymous (unnamed) function, typically for short, simple operations.\n"
      ],
      "metadata": {
        "id": "E4vZ2tWS2TAS"
      }
    },
    {
      "cell_type": "markdown",
      "source": [
        "4. What is the purpose of the return' statement in a Python function?"
      ],
      "metadata": {
        "id": "uysqLqJA4R9z"
      }
    },
    {
      "cell_type": "markdown",
      "source": [
        "The return statement is used to send a result back from a function to the caller.\n",
        "\n",
        "Key Purposes:\n",
        "Return a value from a function\n",
        "It lets the function produce a result that can be used elsewhere.\n",
        "\n",
        "End the function’s execution\n",
        "When return is executed, the function immediately exits.\n",
        "\n",
        "Return multiple values\n",
        "Python functions can return multiple values as a tuple."
      ],
      "metadata": {
        "id": "-8OlWyio4msN"
      }
    },
    {
      "cell_type": "markdown",
      "source": [
        "5. What are Iterators in Python and How Do They Differ from Iterables?"
      ],
      "metadata": {
        "id": "bqu5jUKcPpMy"
      }
    },
    {
      "cell_type": "markdown",
      "source": [
        "Iterable:\n",
        "An iterable is any Python object capable of returning its members one at a time. Examples include lists, tuples, strings, sets, and dictionaries.\n",
        "\n",
        "Iterator:\n",
        "An iterator is an object that remembers the state as you traverse through it. It implements the __iter__() and __next__() methods."
      ],
      "metadata": {
        "id": "7L-fJj1RQBya"
      }
    },
    {
      "cell_type": "markdown",
      "source": [
        "6. Explain the Concept of Generators in Python and How They Are Defined\n",
        "\n",
        "Generators:\n",
        "A generator is a special type of iterator that yields values one at a time using the yield keyword instead of return.\n",
        "\n",
        "They do not store values in memory, which makes them memory-efficient for large datasets."
      ],
      "metadata": {
        "id": "D96bAYuxQbqh"
      }
    },
    {
      "cell_type": "markdown",
      "source": [
        "7. What Are the Advantages of Using Generators Over Regular Functions?"
      ],
      "metadata": {
        "id": "tGyo-KJlQ2Ku"
      }
    },
    {
      "cell_type": "markdown",
      "source": [
        "| Advantage                | Description                                                              |\n",
        "| ------------------------ | ------------------------------------------------------------------------ |\n",
        "**Memory Efficiency**  | Generates values one at a time — doesn't store the whole list in memory. |\n",
        "**Lazy Evaluation**    | Values are produced **on demand**, which is faster for large data.       |\n",
        "**Better Performance** | Ideal for looping over large datasets like logs or files.                |\n",
        "**Cleaner Syntax**     | Simplifies code using `yield` instead of managing state manually.        |\n"
      ],
      "metadata": {
        "id": "JyKYvyu-Q51E"
      }
    },
    {
      "cell_type": "markdown",
      "source": [
        "8. What is a Lambda Function in Python and When is it Typically Used?\n",
        "\n",
        "Lambda Function:\n",
        "A lambda function is a small anonymous function (i.e., without a name) defined using the lambda keyword. It can have any number of arguments but only one expression.\n",
        "\n"
      ],
      "metadata": {
        "id": "S2jb9a4_RKLg"
      }
    },
    {
      "cell_type": "markdown",
      "source": [
        "9. Explain the Purpose and Usage of the map() Function in Python\n",
        "\n",
        "Purpose:\n",
        "The map() function applies a given function to each item in an iterable (like a list, tuple, etc.) and returns a map object (which is an iterator)."
      ],
      "metadata": {
        "id": "FsUV2Uu8RfG3"
      }
    },
    {
      "cell_type": "markdown",
      "source": [
        "10. What is the Difference Between map(), filter(), and reduce() Functions in Python?\n",
        "\n",
        "These are all higher-order functions from functional programming that operate on iterables.\n",
        "\n",
        "| Feature       | `map()`                 | `filter()`                          | `reduce()`                             |\n",
        "| ------------- | ----------------------- | ----------------------------------- | -------------------------------------- |\n",
        "| Purpose       | Transforms each element | Filters elements based on condition | Reduces iterable to a single value     |\n",
        "| Returns       | Map object (iterator)   | Filter object (iterator)            | A single value                         |\n",
        "| Function Type | Must return a value     | Must return True/False              | Must take 2 inputs and return 1 output |\n",
        "| Module Needed | Built-in                | Built-in                            | `functools.reduce` must be imported    |\n"
      ],
      "metadata": {
        "id": "Q1gJ1QFdRpEy"
      }
    },
    {
      "cell_type": "markdown",
      "source": [
        "# Practical Questions"
      ],
      "metadata": {
        "id": "6TJ2TebiZKOd"
      }
    },
    {
      "cell_type": "code",
      "execution_count": null,
      "metadata": {
        "colab": {
          "base_uri": "https://localhost:8080/"
        },
        "id": "TgSPEGrCwrux",
        "outputId": "87cae2fd-7789-4970-bc90-5583eb77816e"
      },
      "outputs": [
        {
          "output_type": "stream",
          "name": "stdout",
          "text": [
            "Enter the 1 element of list8\n",
            "Enter the 2 element of list9\n",
            "Enter the 3 element of list6\n",
            "Enter the 4 element of list4\n",
            "Enter the 5 element of list7\n",
            "18\n",
            "[8, 9, 6, 4, 7]\n"
          ]
        }
      ],
      "source": [
        "\n",
        "def funct(a):\n",
        "  sum=0\n",
        "  for i in a:\n",
        "    if i%2==0:\n",
        "      sum = sum+i\n",
        "\n",
        "  return sum\n",
        "\n",
        "\n",
        "\n",
        "\n",
        "lis_t =[]\n",
        "for i in range(1,6):\n",
        "  lis_t.append(int(input(f\"Enter the {i} element of list\")))\n",
        "\n",
        "print(funct(lis_t))\n",
        "\n",
        "print(lis_t)\n",
        "\n"
      ]
    },
    {
      "cell_type": "code",
      "source": [],
      "metadata": {
        "id": "eCa-rziL4Jcl"
      },
      "execution_count": null,
      "outputs": []
    },
    {
      "cell_type": "code",
      "source": [
        "def funct(a):\n",
        "  a=a[::-1]\n",
        "  return a\n",
        "\n",
        "strin= \"Himanshu\"\n",
        "print(funct(strin))"
      ],
      "metadata": {
        "colab": {
          "base_uri": "https://localhost:8080/"
        },
        "id": "NjwX92nr1DBQ",
        "outputId": "e7ca08c3-bd07-4ccb-d35e-614645e9e182"
      },
      "execution_count": null,
      "outputs": [
        {
          "output_type": "stream",
          "name": "stdout",
          "text": [
            "uhsnamiH\n"
          ]
        }
      ]
    },
    {
      "cell_type": "code",
      "source": [
        "def funct(a):\n",
        "  new_list = []\n",
        "  for i in a:\n",
        "    new_list.append(i**2)\n",
        "\n",
        "  return new_list\n",
        "\n",
        "a = [1,2,4,5,6,7]\n",
        "funct(a)"
      ],
      "metadata": {
        "colab": {
          "base_uri": "https://localhost:8080/"
        },
        "id": "YnY3pDxf3cod",
        "outputId": "33a0b880-62b7-4ff0-a374-b24188ab23b3"
      },
      "execution_count": null,
      "outputs": [
        {
          "output_type": "execute_result",
          "data": {
            "text/plain": [
              "[1, 4, 16, 25, 36, 49]"
            ]
          },
          "metadata": {},
          "execution_count": 3
        }
      ]
    },
    {
      "cell_type": "code",
      "source": [
        "def check_prime(num):\n",
        "  if num<=1:\n",
        "    print(\"0 and 1 are not prime numbers\")\n",
        "  for i in range(2, int(num**0.5)+1):\n",
        "    if num%i==0:\n",
        "      return print(\"Number is not prime\")\n",
        "\n",
        "\n",
        "  print(\"Number is Prime\")\n",
        "num = int(input(\"Enter the number\"))\n",
        "if num<=200:\n",
        "  check_prime(num)\n",
        "else:\n",
        "  print(\"Please Enter number between 1 to 200\")\n"
      ],
      "metadata": {
        "colab": {
          "base_uri": "https://localhost:8080/"
        },
        "id": "Lqa4lypm4PrM",
        "outputId": "17a06c95-36b0-4361-f777-54d80727e108"
      },
      "execution_count": null,
      "outputs": [
        {
          "output_type": "stream",
          "name": "stdout",
          "text": [
            "Enter the number17\n",
            "Number is Prime\n"
          ]
        }
      ]
    },
    {
      "cell_type": "code",
      "source": [
        "def gen_funct(n):\n",
        "  for i in range(n):\n",
        "    yield 2**i\n",
        "\n",
        "gen = gen_funct(5)"
      ],
      "metadata": {
        "id": "lgftTIqzEH2f"
      },
      "execution_count": null,
      "outputs": []
    },
    {
      "cell_type": "code",
      "source": [
        "gen"
      ],
      "metadata": {
        "colab": {
          "base_uri": "https://localhost:8080/"
        },
        "id": "qI5VAlNS-ugH",
        "outputId": "05450a39-72fa-4e1c-d815-4e985d5ae4de"
      },
      "execution_count": null,
      "outputs": [
        {
          "output_type": "execute_result",
          "data": {
            "text/plain": [
              "<generator object gen_funct at 0x784c0b2a6dc0>"
            ]
          },
          "metadata": {},
          "execution_count": 6
        }
      ]
    },
    {
      "cell_type": "code",
      "source": [
        "print(next(gen))\n",
        "print(next(gen))\n",
        "print(next(gen))\n",
        "print(next(gen))\n",
        "print(next(gen))\n"
      ],
      "metadata": {
        "colab": {
          "base_uri": "https://localhost:8080/"
        },
        "id": "fGyNIRHnJD00",
        "outputId": "d60904c9-e6f2-4844-dda3-4eb6c3b0e8d1"
      },
      "execution_count": null,
      "outputs": [
        {
          "output_type": "stream",
          "name": "stdout",
          "text": [
            "1\n",
            "2\n",
            "4\n",
            "8\n",
            "16\n"
          ]
        }
      ]
    },
    {
      "cell_type": "code",
      "source": [
        "mylist = [(1,2,4),(2,3,4),(4,1,4),(2,0,2)]\n",
        "n = len(mylist)\n",
        "for i in range(n):\n",
        "  for j in range(0,n-i-1):\n",
        "\n",
        "\n",
        "    if mylist[j][1]>mylist[j+1][1]:\n",
        "\n",
        "      temp = mylist[j+1]\n",
        "      mylist[j+1] = mylist[j]\n",
        "      mylist[j] = temp\n",
        "\n",
        "\n",
        "print(mylist)"
      ],
      "metadata": {
        "colab": {
          "base_uri": "https://localhost:8080/"
        },
        "id": "CbKMhbliJGah",
        "outputId": "1bdcf5ee-3343-44bc-f478-f974947b3b0e"
      },
      "execution_count": null,
      "outputs": [
        {
          "output_type": "stream",
          "name": "stdout",
          "text": [
            "[(2, 0, 2), (4, 1, 4), (1, 2, 4), (2, 3, 4)]\n"
          ]
        }
      ]
    },
    {
      "cell_type": "code",
      "source": [
        "my_list = [(1,2,4),(2,3,4),(4,1,4),(2,0,2)]\n",
        "my_list.sort(key=lambda x: x[1])\n",
        "print(my_list)\n"
      ],
      "metadata": {
        "colab": {
          "base_uri": "https://localhost:8080/"
        },
        "id": "vAnOSsrFKPID",
        "outputId": "a2aa1669-2536-4d13-d292-a984ecfa829d"
      },
      "execution_count": null,
      "outputs": [
        {
          "output_type": "stream",
          "name": "stdout",
          "text": [
            "[(2, 0, 2), (4, 1, 4), (1, 2, 4), (2, 3, 4)]\n"
          ]
        }
      ]
    },
    {
      "cell_type": "code",
      "source": [
        "lis_t = [20,25,30]\n",
        "fahrenheit = list(map(lambda x: (x*9/5)+32,lis_t))\n",
        "print(fahrenheit)"
      ],
      "metadata": {
        "colab": {
          "base_uri": "https://localhost:8080/"
        },
        "id": "oCk0ySpXQihM",
        "outputId": "d042ea86-bca3-4af1-e8ee-db8b3b41c356"
      },
      "execution_count": null,
      "outputs": [
        {
          "output_type": "stream",
          "name": "stdout",
          "text": [
            "[68.0, 77.0, 86.0]\n"
          ]
        }
      ]
    },
    {
      "cell_type": "code",
      "source": [
        "string = 'Himanshu'\n",
        "vowels = 'aeiouAEIOU'\n",
        "result = list(filter(lambda x: x not in vowels,string))\n",
        "print(\"\".join(result))\n"
      ],
      "metadata": {
        "colab": {
          "base_uri": "https://localhost:8080/"
        },
        "id": "SlnGLdyZZc6Q",
        "outputId": "056c3e97-6df0-4034-b757-0279d23cb6fc"
      },
      "execution_count": null,
      "outputs": [
        {
          "output_type": "stream",
          "name": "stdout",
          "text": [
            "Hmnsh\n"
          ]
        }
      ]
    },
    {
      "cell_type": "code",
      "source": [
        "orders = [\n",
        "    [34587, \"Learning Python, Mark Lutz\", 4, 40.95],\n",
        "    [98762, \"Programming Python, Mark Lutz\", 5, 56.80],\n",
        "    [77226, \"Head First Python, Paul Barry\", 3, 32.95],\n",
        "    [88112, \"Einführung in Python3, Bernd Klein\", 3, 24.99]\n",
        "]\n",
        "\n",
        "# Use map and lambda to process each order\n",
        "result = list(map(\n",
        "    lambda order: (\n",
        "        order[0],\n",
        "        round(order[2] * order[3] + 10 if order[2] * order[3] < 100 else order[2] * order[3], 2)\n",
        "    ),\n",
        "    orders\n",
        "))\n",
        "\n",
        "print(result)\n"
      ],
      "metadata": {
        "colab": {
          "base_uri": "https://localhost:8080/"
        },
        "id": "iUuX4uXPaac_",
        "outputId": "ba45fb9b-e6f3-4dec-fb52-d6fb39afcf51"
      },
      "execution_count": null,
      "outputs": [
        {
          "output_type": "stream",
          "name": "stdout",
          "text": [
            "[(34587, 163.8), (98762, 284.0), (77226, 108.85), (88112, 84.97)]\n"
          ]
        }
      ]
    },
    {
      "cell_type": "code",
      "source": [],
      "metadata": {
        "id": "_-4UcYfjrqjO"
      },
      "execution_count": null,
      "outputs": []
    }
  ]
}