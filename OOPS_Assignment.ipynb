{
  "nbformat": 4,
  "nbformat_minor": 0,
  "metadata": {
    "colab": {
      "provenance": [],
      "authorship_tag": "ABX9TyNqmiC+vIpHuI8I0st69yxR",
      "include_colab_link": true
    },
    "kernelspec": {
      "name": "python3",
      "display_name": "Python 3"
    },
    "language_info": {
      "name": "python"
    }
  },
  "cells": [
    {
      "cell_type": "markdown",
      "metadata": {
        "id": "view-in-github",
        "colab_type": "text"
      },
      "source": [
        "<a href=\"https://colab.research.google.com/github/HimAir10/Pw-skillsAssignment/blob/main/OOPS_Assignment.ipynb\" target=\"_parent\"><img src=\"https://colab.research.google.com/assets/colab-badge.svg\" alt=\"Open In Colab\"/></a>"
      ]
    },
    {
      "cell_type": "markdown",
      "source": [
        "# **Theory** **Questions**"
      ],
      "metadata": {
        "id": "pqYoygw7yLpC"
      }
    },
    {
      "cell_type": "markdown",
      "source": [
        "Q1. What is Object-Oriented Programming (OOP)?"
      ],
      "metadata": {
        "id": "OCkri0Urub95"
      }
    },
    {
      "cell_type": "markdown",
      "source": [
        "OOP is a object oriented programming,it is a concept to create classes insead of working on a same function for every task, oops helps to create separate classes for different tasks,\n",
        "Ex- A institution has its admission form and they give this to the requested students so original form a institution have is example of \"class\" and the copy it serves to the students js \"object\"."
      ],
      "metadata": {
        "id": "FvZ-51Tys9Kd"
      }
    },
    {
      "cell_type": "markdown",
      "source": [
        "Q2. What is a class in OOP?"
      ],
      "metadata": {
        "id": "jBruwhJru3N5"
      }
    },
    {
      "cell_type": "markdown",
      "source": [
        "A class in OOP is a blueprint of the task which we going to perform, Blueprint means that it should cover each and every component of the product which we are going to build, also class contains variables(attributes),methods, magic methods, which combinely helps in successfully building a class"
      ],
      "metadata": {
        "id": "Mjzpl52Yu5ky"
      }
    },
    {
      "cell_type": "markdown",
      "source": [
        "Q3. What is an object in OOP?"
      ],
      "metadata": {
        "id": "9kJzB5Ikv9MS"
      }
    },
    {
      "cell_type": "markdown",
      "source": [
        "An Object in OOPS is something which is instance of a class\n",
        "meaning that an object is holding all the variables and methods of class for a specific values."
      ],
      "metadata": {
        "id": "TuGkFoIwv-pp"
      }
    },
    {
      "cell_type": "markdown",
      "source": [
        " 4. What is the difference between abstraction and encapsulation?"
      ],
      "metadata": {
        "id": "KY6AmKxzv-sL"
      }
    },
    {
      "cell_type": "markdown",
      "source": [
        "Abstraction - it is something that helps in hiding complex implementation hiding unneeded details and exposing the abstract classes and it is only implemented in subclass and\n",
        "cannot be instantiated but its subclass can be instantiated.\n",
        "\n",
        "Encapsulation- It is bundling of class methods and attributes of a class and prevent their access and can only be done with the help of methods.\n",
        "Imagine Class as a Capsule or a pill and methods are inside it,You can't see or change what's inside unless the capsule gives you a way (like a method)."
      ],
      "metadata": {
        "id": "7UQVZtP0v-uw"
      }
    },
    {
      "cell_type": "markdown",
      "source": [
        "5. What are dunder methods in Python?"
      ],
      "metadata": {
        "id": "1jwdZwOav-xW"
      }
    },
    {
      "cell_type": "markdown",
      "source": [
        "Dunder methods are the magic methods derived by the built in classes in python.\n"
      ],
      "metadata": {
        "id": "os4WUvY-v_BS"
      }
    },
    {
      "cell_type": "markdown",
      "source": [
        "6. Explain the concept of inheritance in OOP."
      ],
      "metadata": {
        "id": "Dl6HqOReuf9W"
      }
    },
    {
      "cell_type": "markdown",
      "source": [
        "Inheritance in the oops is a concept to inherit the attributes and method of a parent class into a child class, by inheritance a child class will recieve all the properties of parent class include with the properties of self."
      ],
      "metadata": {
        "id": "S0jFV5W9ugty"
      }
    },
    {
      "cell_type": "markdown",
      "source": [
        "7. What is polymorphism in OOP?"
      ],
      "metadata": {
        "id": "PuQdnzXnug6F"
      }
    },
    {
      "cell_type": "markdown",
      "source": [
        "Polymorphism means \"many forms\". In OOP, it allows objects of different classes to be treated as objects of a common superclass.\n",
        "class Animal:\n",
        "    def speak(self):\n",
        "        pass\n",
        "\n",
        "class Dog(Animal):\n",
        "    def speak(self):\n",
        "        return \"Bark\"\n",
        "\n",
        "class Cat(Animal):\n",
        "    def speak(self):\n",
        "        return \"Meow\"\n",
        "\n",
        "def animal_sound(animal):\n",
        "    print(animal.speak())\n",
        "\n",
        "animal_sound(Dog())  # Bark\n",
        "animal_sound(Cat())  # Meow\n",
        "Polymorphism lets us call the same method on different objects and get class-specific behavior.\n",
        "\n"
      ],
      "metadata": {
        "id": "yYv_WY4qulKT"
      }
    },
    {
      "cell_type": "markdown",
      "source": [
        "8. How is encapsulation achieved in Python?\n",
        "\n",
        "Encapsulation is the bundling of data and methods that operate on the data. It also involves restricting direct access to some of an object's components.\n",
        "\n",
        "In Python:\n",
        "\n",
        "Prefix an attribute with a single underscore _ to indicate it’s protected.\n",
        "Prefix with double underscore __ to make it private (name mangling)."
      ],
      "metadata": {
        "id": "z7nB3UVbuiCv"
      }
    },
    {
      "cell_type": "markdown",
      "source": [
        "9. What is a constructor in Python?\n",
        "\n",
        "A constructor is a special method used to initialize objects. In Python, it's the __init__ method.\n",
        "\n",
        "Example:\n",
        "\n",
        "class Car:\n",
        "    def __init__(self, brand, year):\n",
        "        self.brand = brand\n",
        "        self.year = year\n",
        "When you create an object like Car(\"Toyota\", 2020), Python automatically calls __init__.\n",
        "\n"
      ],
      "metadata": {
        "id": "Xw0I9dHrxb0B"
      }
    },
    {
      "cell_type": "markdown",
      "source": [
        "10. What are class and static methods in Python?\n",
        "\n",
        "Class methods: Operate on the class itself, not instances.\n",
        "Static methods: Don’t operate on class or instance — utility functions.\n",
        "Class method:\n",
        "\n",
        "class MyClass:\n",
        "    count = 0\n",
        "\n",
        "    @classmethod\n",
        "    def increment(cls):\n",
        "        cls.count += 1\n",
        "Static method:\n",
        "\n",
        "class Math:\n",
        "    @staticmethod\n",
        "    def add(a, b):\n",
        "        return a + b"
      ],
      "metadata": {
        "id": "nns28GEwxcBD"
      }
    },
    {
      "cell_type": "markdown",
      "source": [
        "11. What is method overloading in Python?\n",
        "\n",
        "Method overloading means defining multiple methods with the same name but different parameters.\n",
        "🔸 Python does not support true method overloading — the last definition overrides the previous ones.\n",
        "\n",
        "Workaround:\n",
        "\n",
        "class Example:\n",
        "    def greet(self, name=None):\n",
        "        if name:\n",
        "            print(f\"Hello, {name}!\")\n",
        "        else:\n",
        "            print(\"Hello!\")"
      ],
      "metadata": {
        "id": "5xjVebRDxdC5"
      }
    },
    {
      "cell_type": "markdown",
      "source": [
        "12. What is method overriding in OOP?\n",
        "Method overriding occurs when a subclass provides a specific implementation of a method already defined in its superclass.\n",
        "\n",
        "Example:\n",
        "\n",
        "class Parent:\n",
        "    def show(self):\n",
        "        print(\"Parent method\")\n",
        "\n",
        "class Child(Parent):\n",
        "    def show(self):  # overrides Parent.show\n",
        "        print(\"Child method\")\n",
        "\n",
        "obj = Child()\n",
        "obj.show()  # Output: Child method"
      ],
      "metadata": {
        "id": "aFnae4wxxdGn"
      }
    },
    {
      "cell_type": "markdown",
      "source": [
        "# **Practical Questions**"
      ],
      "metadata": {
        "id": "OXSSIlPPyWYW"
      }
    },
    {
      "cell_type": "code",
      "execution_count": null,
      "metadata": {
        "colab": {
          "base_uri": "https://localhost:8080/"
        },
        "id": "EFWIG_BaAJqN",
        "outputId": "c07d5b7d-f431-43bc-92ee-c14b3f9abf3b"
      },
      "outputs": [
        {
          "output_type": "stream",
          "name": "stdout",
          "text": [
            "Dog barking\n"
          ]
        }
      ],
      "source": [
        "class Animal:\n",
        "  def bark(self):\n",
        "    print(\"Animal Speaking\")\n",
        "\n",
        "class Dog(Animal):\n",
        "  def bark(self):\n",
        "    print(\"Dog barking\")\n",
        "\n",
        "d = Dog()\n",
        "d.bark()\n"
      ]
    },
    {
      "cell_type": "code",
      "source": [
        "import abc\n",
        "class Shape:\n",
        "\n",
        "  @abc.abstractmethod\n",
        "  def area(self):\n",
        "    pass\n",
        "\n",
        "class Circle(Shape):\n",
        "  def __init__(self,radius):\n",
        "    self.radius = radius\n",
        "  def area(self):\n",
        "    return 3.14*(self.radius**2)\n",
        "\n",
        "class Rectangle(Shape):\n",
        "  def __init__(self,length,breadth):\n",
        "    self.length = length\n",
        "    self.breadth = breadth\n",
        "  def area(self):\n",
        "    return self.length*self.breadth"
      ],
      "metadata": {
        "id": "lYGD8p-4Pkbd"
      },
      "execution_count": null,
      "outputs": []
    },
    {
      "cell_type": "code",
      "source": [
        "circle = Circle(5)\n",
        "print(circle.area())\n",
        "rectangle = Rectangle(4,5)\n",
        "print(rectangle.area())"
      ],
      "metadata": {
        "colab": {
          "base_uri": "https://localhost:8080/"
        },
        "id": "6lmvqbfUQCgb",
        "outputId": "3af35083-b7ea-41e9-bd51-1d5cbd650fee"
      },
      "execution_count": null,
      "outputs": [
        {
          "output_type": "stream",
          "name": "stdout",
          "text": [
            "78.5\n",
            "20\n"
          ]
        }
      ]
    },
    {
      "cell_type": "code",
      "source": [
        "class Vehicle:\n",
        "  def __init__(self, type):\n",
        "    self.type = type\n",
        "  def vehicle_info(self):\n",
        "    print('Vehicle is of type',self.type)\n",
        "\n",
        "class Car(Vehicle):\n",
        "  def car_info(self):\n",
        "    print(\"Car has 4 wheels\")\n",
        "\n",
        "class ElectricCar(Car):\n",
        "  def __init__(self,battery,type):\n",
        "    self.battery = battery\n",
        "    self.type = type\n",
        "  def Electric_carinfo(self):\n",
        "    print(\"It has battery of\",self.battery,\"kwh\")\n"
      ],
      "metadata": {
        "id": "Jl9mCfWBAOtH"
      },
      "execution_count": null,
      "outputs": []
    },
    {
      "cell_type": "code",
      "source": [
        "s1 = ElectricCar(50,'Electric')\n",
        "s1.vehicle_info()\n",
        "s1.car_info()\n",
        "s1.Electric_carinfo()"
      ],
      "metadata": {
        "colab": {
          "base_uri": "https://localhost:8080/"
        },
        "id": "auFu2fc5KNcJ",
        "outputId": "ef65a739-d796-4659-912e-e63a1c5c9352"
      },
      "execution_count": null,
      "outputs": [
        {
          "output_type": "stream",
          "name": "stdout",
          "text": [
            "Vehicle is of type Electric\n",
            "Car has 4 wheels\n",
            "It has battery of 50 kwh\n"
          ]
        }
      ]
    },
    {
      "cell_type": "code",
      "source": [
        "class Bird:\n",
        "\n",
        "  def fly(self):\n",
        "    print(\"Bird is flying\")\n",
        "\n",
        "class Sparrow(Bird):\n",
        "  def fly(self):\n",
        "    print(\"Sparrow is flying\")\n",
        "\n",
        "class Penguin(Bird):\n",
        "  def fly(self):\n",
        "    print(\"Penguin is not flying\")\n",
        "\n",
        "sparrow = Sparrow()\n",
        "sparrow.fly()\n",
        "penguin = Penguin()\n",
        "penguin.fly()"
      ],
      "metadata": {
        "id": "6Mq-6dX0KXuv",
        "colab": {
          "base_uri": "https://localhost:8080/"
        },
        "outputId": "c80549a2-3b14-4248-fbbf-65dff973fe27"
      },
      "execution_count": null,
      "outputs": [
        {
          "output_type": "stream",
          "name": "stdout",
          "text": [
            "Sparrow is flying\n",
            "Penguin is not flying\n"
          ]
        }
      ]
    },
    {
      "cell_type": "code",
      "source": [
        "class Bank:\n",
        "  def __init__(self,balance):\n",
        "    self.__balance = balance\n",
        "\n",
        "  def deposit(self,amount):\n",
        "    self.__balance += amount\n",
        "\n",
        "  def withdraw(self,amount):\n",
        "    if self.__balance>=amount:\n",
        "      self.__balance -= amount\n",
        "    else:\n",
        "      print(\"Insufficient balance Can't withdraw\")\n",
        "\n",
        "  def get_balance(self):\n",
        "    return self.__balance"
      ],
      "metadata": {
        "id": "LV7sKoCdVJp8"
      },
      "execution_count": null,
      "outputs": []
    },
    {
      "cell_type": "code",
      "source": [
        "cust1 = Bank(1000)\n",
        "cust1.deposit(500)\n",
        "\n",
        "print(cust1.get_balance())"
      ],
      "metadata": {
        "colab": {
          "base_uri": "https://localhost:8080/"
        },
        "id": "hyzvbcdgcAH7",
        "outputId": "fa0d71d2-9dea-43b7-d259-043d615ecb55"
      },
      "execution_count": null,
      "outputs": [
        {
          "output_type": "stream",
          "name": "stdout",
          "text": [
            "1500\n"
          ]
        }
      ]
    },
    {
      "cell_type": "code",
      "source": [
        "cust1.withdraw(200)"
      ],
      "metadata": {
        "id": "4hwDX7gMcD1c"
      },
      "execution_count": null,
      "outputs": []
    },
    {
      "cell_type": "code",
      "source": [
        "cust1.get_balance()"
      ],
      "metadata": {
        "colab": {
          "base_uri": "https://localhost:8080/"
        },
        "id": "ytalXGaOcQps",
        "outputId": "b952c0ca-f91c-42c4-b430-f1416a256557"
      },
      "execution_count": null,
      "outputs": [
        {
          "output_type": "execute_result",
          "data": {
            "text/plain": [
              "1300"
            ]
          },
          "metadata": {},
          "execution_count": 31
        }
      ]
    },
    {
      "cell_type": "code",
      "source": [
        "class Instrument:\n",
        "    def play(self):\n",
        "        print(\"Instrument is playing\")\n",
        "\n",
        "class Guitar(Instrument):\n",
        "    def play(self):\n",
        "        print(\"Guitar is playing\")\n",
        "\n",
        "class Piano(Instrument):\n",
        "    def play(self):\n",
        "        print(\"Piano is playing\")\n",
        "\n",
        "# Runtime polymorphism:\n",
        "def perform(instrument: Instrument):\n",
        "    instrument.play()\n",
        "\n",
        "# Calling play() on different objects\n",
        "instruments = [Guitar(), Piano()]\n",
        "\n",
        "for inst in instruments:\n",
        "    perform(inst)\n"
      ],
      "metadata": {
        "colab": {
          "base_uri": "https://localhost:8080/"
        },
        "id": "ujxddbQWcpza",
        "outputId": "857e784d-b20b-4967-f677-696c69632378"
      },
      "execution_count": null,
      "outputs": [
        {
          "output_type": "stream",
          "name": "stdout",
          "text": [
            "Guitar is playing\n",
            "Piano is playing\n"
          ]
        }
      ]
    },
    {
      "cell_type": "code",
      "source": [
        "class MathOperations:\n",
        "  def __init__(self,x,y):\n",
        "    self.x = x\n",
        "    self.y = y\n",
        "    self.add = x+y\n",
        "\n",
        "  @classmethod\n",
        "  def add(cls):\n",
        "    return cls.add\n",
        "\n",
        "  @staticmethod\n",
        "  def subtract(x,y):\n",
        "    return x-y\n",
        "\n",
        "o1 = MathOperations(5,6)\n",
        "print(o1.add)\n",
        "print(MathOperations.subtract(6,5))"
      ],
      "metadata": {
        "colab": {
          "base_uri": "https://localhost:8080/"
        },
        "id": "0uIGUkGjenMK",
        "outputId": "cc63e955-d038-46e1-d1cc-4b7cb87d935c"
      },
      "execution_count": null,
      "outputs": [
        {
          "output_type": "stream",
          "name": "stdout",
          "text": [
            "11\n",
            "1\n"
          ]
        }
      ]
    },
    {
      "cell_type": "code",
      "source": [
        "class Person:\n",
        "  count = 0\n",
        "  def __init__(self):\n",
        "    Person.count += 1\n",
        "\n",
        "  @classmethod\n",
        "  def get_count(cls):\n",
        "    return cls.count\n",
        "\n",
        "P1 = Person()\n",
        "print(P1.get_count())\n",
        "P2 = Person()\n",
        "print(P2.get_count())\n",
        "P3 = Person()\n",
        "print(P3.get_count())"
      ],
      "metadata": {
        "colab": {
          "base_uri": "https://localhost:8080/"
        },
        "id": "N0-yCb3EoqAD",
        "outputId": "b3854d1c-abc3-4e37-f53b-79d473deaabe"
      },
      "execution_count": null,
      "outputs": [
        {
          "output_type": "stream",
          "name": "stdout",
          "text": [
            "1\n",
            "2\n",
            "3\n"
          ]
        }
      ]
    },
    {
      "cell_type": "code",
      "source": [
        "class Fraction:\n",
        "  def __init__(self,numerator,denominator):\n",
        "    self.numerator = numerator\n",
        "    self.denominator = denominator\n",
        "\n",
        "  def\n"
      ],
      "metadata": {
        "id": "ZwjdTRUZiEqN"
      },
      "execution_count": null,
      "outputs": []
    },
    {
      "cell_type": "code",
      "source": [
        "class Vector:\n",
        "    def __init__(self,x,y):\n",
        "        self.x = x\n",
        "        self.y = y\n",
        "    def __add__(self,other):\n",
        "        return Vector(self.x+other.x, self.y+other.y)\n",
        "    def __str__(self):\n",
        "        return f\"({self.x}, {self.y})\""
      ],
      "metadata": {
        "id": "PDESHvsnr2Z9"
      },
      "execution_count": null,
      "outputs": []
    },
    {
      "cell_type": "code",
      "source": [
        "v1 = Vector(4,5)\n",
        "v2 = Vector(6,7)\n",
        "v3 = v1+v2\n",
        "print(v3)"
      ],
      "metadata": {
        "colab": {
          "base_uri": "https://localhost:8080/"
        },
        "id": "B1U8NRUtv6kl",
        "outputId": "83fca07f-3ba7-4d27-84f4-edf59305e35f"
      },
      "execution_count": null,
      "outputs": [
        {
          "output_type": "stream",
          "name": "stdout",
          "text": [
            "(10, 12)\n"
          ]
        }
      ]
    },
    {
      "cell_type": "code",
      "source": [
        "class Person:\n",
        "  def __init__(self,name,age):\n",
        "    self.name = name\n",
        "    self.age = age\n",
        "  def greet(self):\n",
        "    print(f'Hello my name is {self.name} and i am {self.age} years old.')"
      ],
      "metadata": {
        "id": "JloxyWfsv_3e"
      },
      "execution_count": null,
      "outputs": []
    },
    {
      "cell_type": "code",
      "source": [
        "p1 = Person('Himanshu',21)"
      ],
      "metadata": {
        "id": "Cswr4gyFw0gL"
      },
      "execution_count": null,
      "outputs": []
    },
    {
      "cell_type": "code",
      "source": [
        "p1.greet()"
      ],
      "metadata": {
        "colab": {
          "base_uri": "https://localhost:8080/"
        },
        "id": "u06pUNuExUDO",
        "outputId": "505c64c4-3cd9-4416-dd35-54a0b8552514"
      },
      "execution_count": null,
      "outputs": [
        {
          "output_type": "stream",
          "name": "stdout",
          "text": [
            "Hello my name is Himanshu and i am 21 years old.\n"
          ]
        }
      ]
    },
    {
      "cell_type": "code",
      "source": [
        "class Student:\n",
        "  def __init__(self,name,grades):\n",
        "    self.name = name\n",
        "    self.grades = grades\n",
        "\n",
        "  def average_grades(self):\n",
        "    return sum(self.grades)/len(self.grades)\n",
        "\n",
        "stud1 = Student('Himanshu',[70,80,90])\n",
        "print(stud1.average_grades())"
      ],
      "metadata": {
        "colab": {
          "base_uri": "https://localhost:8080/"
        },
        "id": "xD3GoyhDxWQA",
        "outputId": "e9b3513a-6d2f-412f-877b-dbfe7a6e197a"
      },
      "execution_count": null,
      "outputs": [
        {
          "output_type": "stream",
          "name": "stdout",
          "text": [
            "80.0\n"
          ]
        }
      ]
    },
    {
      "cell_type": "code",
      "source": [
        "class Rectange:\n",
        "  def set_dimension(self):\n",
        "    self.length = int(input(\"Enter the length:\"))\n",
        "    self.breadth = int(input(\"Enter the breadth:\"))\n",
        "  def area(self):\n",
        "    self.area = self.length*self.breadth\n",
        "    print(f'Area of the rectangle is {self.area}')\n",
        "\n",
        "area_of_rectangle = Rectange()\n",
        "area_of_rectangle.set_dimension()\n",
        "area_of_rectangle.area()"
      ],
      "metadata": {
        "colab": {
          "base_uri": "https://localhost:8080/"
        },
        "id": "G1l2fxqUcbxZ",
        "outputId": "faa8a490-9705-434e-d78f-76121b779227"
      },
      "execution_count": null,
      "outputs": [
        {
          "output_type": "stream",
          "name": "stdout",
          "text": [
            "Enter the length:5\n",
            "Enter the breadth:7\n",
            "Area of the rectangle is 35\n"
          ]
        }
      ]
    },
    {
      "cell_type": "code",
      "source": [
        "class Employee:\n",
        "  def __init__(self,salary_per_hour,hours_worked):\n",
        "    self.salary_per_hour = salary_per_hour\n",
        "    self.hours_worked = hours_worked\n",
        "\n",
        "  def calculate_salary(self):\n",
        "    salary = (self.salary_per_hour)*(self.hours_worked)\n",
        "    return salary\n",
        "\n",
        "class Manager(Employee):\n",
        "  def __init__(self,salary_per_hour,hours_worked,bonus_amount):\n",
        "    super().__init__(salary_per_hour,hours_worked)\n",
        "    self.bonus_amount = bonus_amount\n",
        "  def total_salary(self,):\n",
        "    total_salary = self.calculate_salary() + self.bonus_amount\n",
        "    print(\"Your Total salary is:\",total_salary)\n",
        "\n",
        "E1 = Manager(50,48,1000)\n",
        "E1.total_salary()"
      ],
      "metadata": {
        "colab": {
          "base_uri": "https://localhost:8080/"
        },
        "id": "-luEhcOHd2fK",
        "outputId": "a4e24c30-50e4-4491-fd34-56f029d72d19"
      },
      "execution_count": null,
      "outputs": [
        {
          "output_type": "stream",
          "name": "stdout",
          "text": [
            "Your Total salary is: 3400\n"
          ]
        }
      ]
    },
    {
      "cell_type": "code",
      "source": [
        "class Product:\n",
        "  def __init__(self,name,price,quantity):\n",
        "    self.name = name\n",
        "    self.price = price\n",
        "    self.quantity = quantity\n",
        "  def total_price(self):\n",
        "    return (f\"total price of {self.name} is {self.price*self.quantity}\")\n",
        "\n",
        "p1 = Product('pen',10,5)\n",
        "p1.total_price()"
      ],
      "metadata": {
        "colab": {
          "base_uri": "https://localhost:8080/",
          "height": 35
        },
        "id": "C_k4etPlgUrR",
        "outputId": "865be451-e89b-4e19-e970-d66aea377e13"
      },
      "execution_count": null,
      "outputs": [
        {
          "output_type": "execute_result",
          "data": {
            "text/plain": [
              "'total price of pen is 50'"
            ],
            "application/vnd.google.colaboratory.intrinsic+json": {
              "type": "string"
            }
          },
          "metadata": {},
          "execution_count": 15
        }
      ]
    },
    {
      "cell_type": "code",
      "source": [
        "import abc\n",
        "class Animal:\n",
        "\n",
        "  @abc.abstractmethod\n",
        "  def sound(self):\n",
        "    pass\n",
        "\n",
        "class Cow(Animal):\n",
        "\n",
        "  def sound(self):\n",
        "    return \"Cow sounds like 'Moo'\"\n",
        "\n",
        "class Sheep(Animal):\n",
        "\n",
        "  def sound(self):\n",
        "    return \"Sheep sounds like 'Baaa'\"\n",
        "\n",
        "\n",
        "A1 = Cow()\n",
        "print(A1.sound())\n",
        "A2 = Sheep()\n",
        "print(A2.sound())"
      ],
      "metadata": {
        "colab": {
          "base_uri": "https://localhost:8080/"
        },
        "id": "22e1zGKjiCIn",
        "outputId": "4cc6b84a-1b2c-445e-cb02-da43959ceb25"
      },
      "execution_count": null,
      "outputs": [
        {
          "output_type": "stream",
          "name": "stdout",
          "text": [
            "Cow sounds like 'Moo'\n",
            "Sheep sounds like 'Baaa'\n"
          ]
        }
      ]
    },
    {
      "cell_type": "code",
      "source": [
        "class Book:\n",
        "  def __init__(self,title,author,year_published):\n",
        "    self.title = title\n",
        "    self.author = author\n",
        "    self.year_published = year_published\n",
        "  def book_info(self):\n",
        "    print(f\"Title: {self.title}\")\n",
        "    print(f\"Author: {self.author}\")\n",
        "    print(f\"Year Published: {self.year_published}\")\n",
        "\n",
        "B1 = Book('The Alchemist','Paulo Coelho',1988)\n",
        "B1.book_info()"
      ],
      "metadata": {
        "colab": {
          "base_uri": "https://localhost:8080/"
        },
        "id": "4kB7BNR2ita0",
        "outputId": "0ddda31b-ae7e-4eea-c23a-0df269e30a3f"
      },
      "execution_count": null,
      "outputs": [
        {
          "output_type": "stream",
          "name": "stdout",
          "text": [
            "Title: The Alchemist\n",
            "Author: Paulo Coelho\n",
            "Year Published: 1988\n"
          ]
        }
      ]
    },
    {
      "cell_type": "code",
      "source": [
        "class House:\n",
        "  def __init__(self,address,price):\n",
        "    self.address = address\n",
        "    self.price = price\n",
        "\n",
        "class Mansion(House):\n",
        "  def __init__(self,address,price,no_of_rooms):\n",
        "    super().__init__(address,price)\n",
        "    self.no_of_rooms = no_of_rooms\n",
        "\n",
        "  def house_info(self):\n",
        "    print(f\"Address: {self.address}\")\n",
        "    print(f\"Price: {self.price}\")\n",
        "    print(f\"Number of rooms: {self.no_of_rooms}\")\n",
        "\n",
        "M1 = Mansion('123 Main St',1000000,5)\n",
        "M1.house_info()"
      ],
      "metadata": {
        "colab": {
          "base_uri": "https://localhost:8080/"
        },
        "id": "GyvzC9Tej1qb",
        "outputId": "66683c1d-4700-46bc-8ca4-5b8c8b1afae1"
      },
      "execution_count": null,
      "outputs": [
        {
          "output_type": "stream",
          "name": "stdout",
          "text": [
            "Address: 123 Main St\n",
            "Price: 1000000\n",
            "Number of rooms: 5\n"
          ]
        }
      ]
    },
    {
      "cell_type": "code",
      "source": [],
      "metadata": {
        "id": "7TDM43QlkVpu"
      },
      "execution_count": null,
      "outputs": []
    }
  ]
}