{
  "nbformat": 4,
  "nbformat_minor": 0,
  "metadata": {
    "colab": {
      "provenance": [],
      "include_colab_link": true
    },
    "kernelspec": {
      "name": "python3",
      "display_name": "Python 3"
    },
    "language_info": {
      "name": "python"
    }
  },
  "cells": [
    {
      "cell_type": "markdown",
      "metadata": {
        "id": "view-in-github",
        "colab_type": "text"
      },
      "source": [
        "<a href=\"https://colab.research.google.com/github/HimAir10/Pw-skillsAssignment/blob/main/Assignment_Boosting.ipynb\" target=\"_parent\"><img src=\"https://colab.research.google.com/assets/colab-badge.svg\" alt=\"Open In Colab\"/></a>"
      ]
    },
    {
      "cell_type": "markdown",
      "source": [
        "1. What is Boosting in Machine Learning? Explain how it improves weak\n",
        "learners.\n",
        "    -> Boosting in Machine Learning is an ensemble technique that combines multiple weak learners, usually simple models like decision stumps, to form a strong predictive model. It works by training models sequentially, where each new model focuses more on the errors made by the previous ones.\n",
        "\n",
        "    This process reduces bias and variance, as the weak learners collectively compensate for each other’s limitations. By giving higher weights to misclassified instances, boosting ensures that difficult cases are handled better, ultimately improving overall accuracy.\n",
        "\n",
        "2. What is the difference between AdaBoost and Gradient Boosting in terms\n",
        "of how models are trained?\n",
        "    -> AdaBoost and Gradient Boosting both build models sequentially, but they differ in how they correct errors. AdaBoost adjusts the weights of misclassified samples, making the next weak learner focus more on those difficult cases. The final prediction is made by combining all learners with weighted votes.\n",
        "\n",
        "    Gradient Boosting, on the other hand, trains each new model to fit the residual errors of the previous model. It uses gradient descent to minimize a specified loss function, allowing more flexibility in handling regression and classification problems compared to AdaBoost.  \n",
        "\n",
        "3. How does regularization help in XGBoost?\n",
        "    -> Regularization in XGBoost helps prevent overfitting by adding penalty terms to the objective function. These penalties control the complexity of the model by discouraging overly large weights and very deep trees.\n",
        "\n",
        "    By including both L1 (Lasso) and L2 (Ridge) regularization, XGBoost balances sparsity and smoothness in the model. This ensures that the model generalizes better to unseen data while still maintaining high predictive power.\n",
        "\n",
        "4. Why is CatBoost considered efficient for handling categorical data?\n",
        "    -> CatBoost is considered efficient for handling categorical data because it automatically converts categorical features into numerical values using techniques like target statistics and ordered boosting, eliminating the need for manual preprocessing such as one-hot encoding. This reduces data sparsity and training time.\n",
        "\n",
        "    Additionally, CatBoost uses permutation-driven methods to avoid target leakage and overfitting, ensuring more reliable transformations. These built-in mechanisms make it especially powerful and efficient when working with datasets that contain many categorical variables.    \n",
        "\n",
        "5.  What are some real-world applications where boosting techniques are\n",
        "preferred over bagging methods?\n",
        "    -> Boosting techniques are often preferred in real-world applications where high accuracy and fine error correction are critical. For example, in fraud detection, boosting can focus on rare but important fraudulent patterns that bagging might overlook.\n",
        "\n",
        "    Similarly, in medical diagnosis and credit risk assessment, boosting helps capture subtle data patterns by giving more attention to misclassified cases. It is also widely used in ranking problems like search engines and recommendation systems, where precise predictions are more valuable than general robustness.  \n",
        "      "
      ],
      "metadata": {
        "id": "9K2eWgHAapEI"
      }
    },
    {
      "cell_type": "code",
      "execution_count": 1,
      "metadata": {
        "colab": {
          "base_uri": "https://localhost:8080/"
        },
        "id": "On8zXPnPajrL",
        "outputId": "a810e303-f1e5-4d31-ae04-e78caacfc8ec"
      },
      "outputs": [
        {
          "output_type": "stream",
          "name": "stdout",
          "text": [
            "Accuracy =  0.9736842105263158\n"
          ]
        }
      ],
      "source": [
        "# 6).  Write a Python program to:\n",
        "# Train an AdaBoost Classifier on the Breast Cancer dataset\n",
        "# Print the model accuracy\n",
        "\n",
        "from sklearn.datasets import load_breast_cancer\n",
        "from sklearn.model_selection import train_test_split\n",
        "from sklearn.ensemble import AdaBoostClassifier\n",
        "from sklearn.metrics import accuracy_score\n",
        "\n",
        "data = load_breast_cancer()\n",
        "x, y = data.data, data.target\n",
        "\n",
        "x_train, x_test, y_train, y_test = train_test_split(x, y, test_size=0.2, random_state=42)\n",
        "\n",
        "model = AdaBoostClassifier(n_estimators=100, random_state=42)\n",
        "model.fit(x_train, y_train)\n",
        "\n",
        "y_pred = model.predict(x_test)\n",
        "\n",
        "accuracy = accuracy_score(y_test, y_pred)\n",
        "print(\"Accuracy = \", accuracy)"
      ]
    },
    {
      "cell_type": "code",
      "source": [
        "# 7). Write a Python program to:\n",
        "# Train a Gradient Boosting Regressor on the California Housing dataset\n",
        "# Evaluate performance using R-squared score\n",
        "\n",
        "from sklearn.datasets import fetch_california_housing\n",
        "from sklearn.ensemble import GradientBoostingRegressor\n",
        "from sklearn.metrics import r2_score\n",
        "\n",
        "data = fetch_california_housing()\n",
        "x, y = data.data, data.target\n",
        "\n",
        "x_train, x_test, y_train, y_test = train_test_split(x, y, test_size=0.2, random_state=1)\n",
        "\n",
        "model = GradientBoostingRegressor(n_estimators=200, learning_rate=0.1, max_depth=3, random_state=1)\n",
        "model.fit(x_train, y_train)\n",
        "\n",
        "y_pred = model.predict(x_test)\n",
        "\n",
        "r2 = r2_score(y_test, y_pred)\n",
        "print(\"R-squared Score: \", r2)"
      ],
      "metadata": {
        "colab": {
          "base_uri": "https://localhost:8080/"
        },
        "id": "JjLDO7Jbk5Yj",
        "outputId": "09473254-fc4e-453c-eb72-8fe6c6e062a9"
      },
      "execution_count": 2,
      "outputs": [
        {
          "output_type": "stream",
          "name": "stdout",
          "text": [
            "R-squared Score:  0.8003636552408364\n"
          ]
        }
      ]
    },
    {
      "cell_type": "code",
      "source": [
        "# 8). Write a Python program to:\n",
        "# Train an XGBoost Classifier on the Breast Cancer dataset\n",
        "# Tune the learning rate using GridSearchCV\n",
        "# Print the best parameters and accuracy\n",
        "\n",
        "from sklearn.datasets import load_breast_cancer\n",
        "from sklearn.model_selection import GridSearchCV\n",
        "from xgboost import XGBClassifier\n",
        "\n",
        "data = load_breast_cancer()\n",
        "x, y = data.data, data.target\n",
        "\n",
        "x_train, x_test, y_train, y_test = train_test_split(x, y, test_size=0.2, random_state=1)\n",
        "\n",
        "xgb = XGBClassifier(use_label_encoder=False, eval_metric=\"logloss\", random_state=1)\n",
        "\n",
        "param_grid = {\"learning_rate\": [0.01, 0.05, 0.1, 0.2, 0.3]}\n",
        "\n",
        "grid_search = GridSearchCV(estimator=xgb, param_grid=param_grid, cv=5, scoring=\"accuracy\", n_jobs=-1)\n",
        "grid_search.fit(x_train, y_train)\n",
        "print(\"Best Params:\", grid_search.best_params_)"
      ],
      "metadata": {
        "colab": {
          "base_uri": "https://localhost:8080/"
        },
        "id": "2yLVaawnlxSV",
        "outputId": "c907eb68-8591-446d-aa8e-44659fa14216"
      },
      "execution_count": 3,
      "outputs": [
        {
          "output_type": "stream",
          "name": "stdout",
          "text": [
            "Best Params: {'learning_rate': 0.3}\n"
          ]
        },
        {
          "output_type": "stream",
          "name": "stderr",
          "text": [
            "/usr/local/lib/python3.12/dist-packages/xgboost/training.py:183: UserWarning: [17:05:56] WARNING: /workspace/src/learner.cc:738: \n",
            "Parameters: { \"use_label_encoder\" } are not used.\n",
            "\n",
            "  bst.update(dtrain, iteration=i, fobj=obj)\n"
          ]
        }
      ]
    },
    {
      "cell_type": "code",
      "source": [
        "best_model = grid_search.best_estimator_\n",
        "y_pred = best_model.predict(x_test)\n",
        "accuracy = accuracy_score(y_test, y_pred)\n",
        "print(\"XGBoost Accuracy:\", accuracy)"
      ],
      "metadata": {
        "colab": {
          "base_uri": "https://localhost:8080/"
        },
        "id": "Ksl0S_7lnLjD",
        "outputId": "dc7d1f2d-463a-4827-bafc-f0d5af5fa34d"
      },
      "execution_count": 4,
      "outputs": [
        {
          "output_type": "stream",
          "name": "stdout",
          "text": [
            "XGBoost Accuracy: 0.956140350877193\n"
          ]
        }
      ]
    },
    {
      "cell_type": "code",
      "source": [
        "!pip install catboost"
      ],
      "metadata": {
        "colab": {
          "base_uri": "https://localhost:8080/"
        },
        "id": "EJuC_KHuoIYK",
        "outputId": "4cb0b8b6-0376-4acc-eab3-65369afdce1a"
      },
      "execution_count": 5,
      "outputs": [
        {
          "output_type": "stream",
          "name": "stdout",
          "text": [
            "Collecting catboost\n",
            "  Downloading catboost-1.2.8-cp312-cp312-manylinux2014_x86_64.whl.metadata (1.2 kB)\n",
            "Requirement already satisfied: graphviz in /usr/local/lib/python3.12/dist-packages (from catboost) (0.21)\n",
            "Requirement already satisfied: matplotlib in /usr/local/lib/python3.12/dist-packages (from catboost) (3.10.0)\n",
            "Requirement already satisfied: numpy<3.0,>=1.16.0 in /usr/local/lib/python3.12/dist-packages (from catboost) (2.0.2)\n",
            "Requirement already satisfied: pandas>=0.24 in /usr/local/lib/python3.12/dist-packages (from catboost) (2.2.2)\n",
            "Requirement already satisfied: scipy in /usr/local/lib/python3.12/dist-packages (from catboost) (1.16.1)\n",
            "Requirement already satisfied: plotly in /usr/local/lib/python3.12/dist-packages (from catboost) (5.24.1)\n",
            "Requirement already satisfied: six in /usr/local/lib/python3.12/dist-packages (from catboost) (1.17.0)\n",
            "Requirement already satisfied: python-dateutil>=2.8.2 in /usr/local/lib/python3.12/dist-packages (from pandas>=0.24->catboost) (2.9.0.post0)\n",
            "Requirement already satisfied: pytz>=2020.1 in /usr/local/lib/python3.12/dist-packages (from pandas>=0.24->catboost) (2025.2)\n",
            "Requirement already satisfied: tzdata>=2022.7 in /usr/local/lib/python3.12/dist-packages (from pandas>=0.24->catboost) (2025.2)\n",
            "Requirement already satisfied: contourpy>=1.0.1 in /usr/local/lib/python3.12/dist-packages (from matplotlib->catboost) (1.3.3)\n",
            "Requirement already satisfied: cycler>=0.10 in /usr/local/lib/python3.12/dist-packages (from matplotlib->catboost) (0.12.1)\n",
            "Requirement already satisfied: fonttools>=4.22.0 in /usr/local/lib/python3.12/dist-packages (from matplotlib->catboost) (4.59.1)\n",
            "Requirement already satisfied: kiwisolver>=1.3.1 in /usr/local/lib/python3.12/dist-packages (from matplotlib->catboost) (1.4.9)\n",
            "Requirement already satisfied: packaging>=20.0 in /usr/local/lib/python3.12/dist-packages (from matplotlib->catboost) (25.0)\n",
            "Requirement already satisfied: pillow>=8 in /usr/local/lib/python3.12/dist-packages (from matplotlib->catboost) (11.3.0)\n",
            "Requirement already satisfied: pyparsing>=2.3.1 in /usr/local/lib/python3.12/dist-packages (from matplotlib->catboost) (3.2.3)\n",
            "Requirement already satisfied: tenacity>=6.2.0 in /usr/local/lib/python3.12/dist-packages (from plotly->catboost) (8.5.0)\n",
            "Downloading catboost-1.2.8-cp312-cp312-manylinux2014_x86_64.whl (99.2 MB)\n",
            "\u001b[2K   \u001b[90m━━━━━━━━━━━━━━━━━━━━━━━━━━━━━━━━━━━━━━━━\u001b[0m \u001b[32m99.2/99.2 MB\u001b[0m \u001b[31m8.7 MB/s\u001b[0m eta \u001b[36m0:00:00\u001b[0m\n",
            "\u001b[?25hInstalling collected packages: catboost\n",
            "Successfully installed catboost-1.2.8\n"
          ]
        }
      ]
    },
    {
      "cell_type": "code",
      "source": [
        "#  9) Write a Python program to:\n",
        "# Train a CatBoost Classifier\n",
        "# Plot the confusion matrix using seaborn\n",
        "\n",
        "\n",
        "from sklearn.datasets import load_breast_cancer\n",
        "from sklearn.metrics import confusion_matrix, accuracy_score\n",
        "from catboost import CatBoostClassifier\n",
        "import seaborn as sns\n",
        "import matplotlib.pyplot as plt\n",
        "\n",
        "data = load_breast_cancer()\n",
        "x, y = data.data, data.target\n",
        "\n",
        "x_train, x_test, y_train, y_test = train_test_split(x, y, test_size=0.2, random_state=1)\n",
        "\n",
        "model = CatBoostClassifier(iterations=200, learning_rate=0.1, depth=6, verbose=0, random_state=1)\n",
        "model.fit(x_train, y_train)\n",
        "\n",
        "y_pred = model.predict(x_test)\n",
        "y_pred"
      ],
      "metadata": {
        "colab": {
          "base_uri": "https://localhost:8080/"
        },
        "id": "aWm23lcOnbZk",
        "outputId": "61b79061-deee-4e94-cf80-c66e1d13efde"
      },
      "execution_count": 6,
      "outputs": [
        {
          "output_type": "execute_result",
          "data": {
            "text/plain": [
              "array([1, 0, 1, 0, 0, 0, 0, 0, 1, 1, 1, 0, 0, 1, 1, 1, 1, 1, 1, 0, 1, 1,\n",
              "       0, 1, 0, 1, 1, 0, 0, 0, 0, 1, 0, 0, 1, 1, 0, 1, 1, 1, 1, 1, 1, 1,\n",
              "       1, 0, 1, 1, 1, 0, 0, 0, 1, 1, 1, 1, 1, 0, 1, 1, 1, 0, 1, 1, 1, 1,\n",
              "       1, 0, 1, 1, 1, 1, 1, 0, 1, 0, 1, 1, 1, 0, 1, 0, 1, 0, 1, 1, 0, 1,\n",
              "       0, 1, 1, 0, 1, 1, 0, 0, 1, 1, 1, 1, 1, 1, 1, 1, 1, 1, 1, 1, 0, 0,\n",
              "       0, 1, 1, 1])"
            ]
          },
          "metadata": {},
          "execution_count": 6
        }
      ]
    },
    {
      "cell_type": "code",
      "source": [
        "accuracy = accuracy_score(y_test, y_pred)\n",
        "print(\"CatBoost Accuracy:\", accuracy)\n",
        "\n",
        "cm = confusion_matrix(y_test, y_pred)\n",
        "\n",
        "plt.figure(figsize=(8,6))\n",
        "sns.heatmap(cm, annot=True, fmt=\"d\", cmap=\"Blues\", xticklabels=[\"Malignant\", \"Benign\"], yticklabels=[\"Malignant\", \"Benign\"])\n",
        "plt.xlabel(\"Predicted Values\")\n",
        "plt.ylabel(\"Actual Values\")\n",
        "plt.title(\"Confusion Matrix - CatBoost Classifier\")\n",
        "plt.show()"
      ],
      "metadata": {
        "colab": {
          "base_uri": "https://localhost:8080/",
          "height": 582
        },
        "id": "mmAPeplgoBeq",
        "outputId": "c6b1f852-0530-4591-d4c0-66823c618850"
      },
      "execution_count": 7,
      "outputs": [
        {
          "output_type": "stream",
          "name": "stdout",
          "text": [
            "CatBoost Accuracy: 0.9649122807017544\n"
          ]
        },
        {
          "output_type": "display_data",
          "data": {
            "text/plain": [
              "<Figure size 800x600 with 2 Axes>"
            ],
            "image/png": "[encoded data removed]"
          },
          "metadata": {}
        }
      ]
    },
    {
      "cell_type": "markdown",
      "source": [
        "10. You're working for a FinTech company trying to predict loan default using\n",
        "customer demographics and transaction behavior.\n",
        "The dataset is imbalanced, contains missing values, and has both numeric and\n",
        "categorical features.\n",
        "Describe your step-by-step data science pipeline using boosting techniques:\n",
        "● Data preprocessing & handling missing/categorical values\n",
        "● Choice between AdaBoost, XGBoost, or CatBoost\n",
        "● Hyperparameter tuning strategy\n",
        "● Evaluation metrics you'd choose and why\n",
        "● How the business would benefit from your model\n",
        "\n",
        "    ->\n",
        "    Data preprocessing & handling missing/categorical values: I would handle missing values using median/mode imputation or let algorithms like CatBoost manage them natively. For categorical features, CatBoost’s internal encoding or target encoding with K-fold strategy can be applied. Numeric features would be capped for outliers, and imbalance addressed using class weights or threshold tuning instead of naive oversampling.\n",
        "\n",
        "    Choice between AdaBoost, XGBoost, or CatBoost: CatBoost is the best choice here because it directly handles categorical and missing values while reducing leakage. XGBoost is a good alternative if more control or integration is required, with proper encoding and scale_pos_weight. AdaBoost is simpler but less effective on complex, imbalanced financial datasets.\n",
        "\n",
        "    Hyperparameter tuning strategy: I would use stratified cross-validation and early stopping. A randomized or Bayesian search would help tune learning rate, depth, n_estimators, regularization, and sampling ratios. For imbalanced data, class weights or scale_pos_weight would be included, followed by threshold tuning to align with business costs.\n",
        "\n",
        "    Evaluation metrics & why: PR-AUC would be the primary metric since defaults are rare, supported by ROC-AUC for ranking quality. Precision, recall, and F1 at the chosen threshold would highlight trade-offs, while KS-statistic and calibration plots would ensure good probability estimation.\n",
        "\n",
        "    Business benefit: The model would reduce loan default risk by flagging high-risk customers while safely approving low-risk ones. This improves profit margins, supports fair interest pricing, and enhances compliance with explainable outputs, ultimately helping the company manage risk and grow sustainably."
      ],
      "metadata": {
        "id": "TbkmK9y3ov2a"
      }
    },
    {
      "cell_type": "code",
      "source": [],
      "metadata": {
        "id": "l7cQw7NMojgF"
      },
      "execution_count": 7,
      "outputs": []
    }
  ]
}