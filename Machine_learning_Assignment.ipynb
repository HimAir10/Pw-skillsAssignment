{
  "cells": [
    {
      "cell_type": "markdown",
      "metadata": {
        "id": "view-in-github",
        "colab_type": "text"
      },
      "source": [
        "<a href=\"https://colab.research.google.com/github/HimAir10/Pw-skillsAssignment/blob/main/Machine_learning_Assignment.ipynb\" target=\"_parent\"><img src=\"https://colab.research.google.com/assets/colab-badge.svg\" alt=\"Open In Colab\"/></a>"
      ]
    },
    {
      "cell_type": "markdown",
      "source": [
        "# Assignment Questions"
      ],
      "metadata": {
        "id": "uBdr-OR-Wpvo"
      },
      "id": "uBdr-OR-Wpvo"
    },
    {
      "cell_type": "markdown",
      "id": "2e08a50a",
      "metadata": {
        "id": "2e08a50a"
      },
      "source": [
        "1. What is a parameter?\n",
        "\n",
        "  A parameter is a value that is internal to the model and estimated from the data during training. For example, weights in a linear regression model are parameters."
      ]
    },
    {
      "cell_type": "markdown",
      "id": "98273ec5",
      "metadata": {
        "id": "98273ec5"
      },
      "source": [
        "2. What is correlation, What does negative correlation mean??\n",
        "\n",
        "  Correlation is a statistical measure that expresses the extent to which two variables are linearly related.\n",
        "\n",
        "  Negative correlation means that as one variable increases, the other decreases. For example, the more hours you spend watching TV, the lower your exam score might be."
      ]
    },
    {
      "cell_type": "markdown",
      "id": "b4383d50",
      "metadata": {
        "id": "b4383d50"
      },
      "source": [
        "3. Define Machine Learning. What are the main components in Machine Learning?\n",
        "\n",
        "  Machine Learning is a field of computer science that uses algorithms to allow computers to learn from data and make predictions or decisions. Main components include:\n",
        "  1. Data\n",
        "  2. Model\n",
        "  3. Loss Function\n",
        "  4. Optimizer\n",
        "  5. Evaluation Metrics"
      ]
    },
    {
      "cell_type": "markdown",
      "id": "8d62000e",
      "metadata": {
        "id": "8d62000e"
      },
      "source": [
        "4. How does loss value help in determining whether the model is good or not?\n",
        "\n",
        "  A low loss value indicates that the model’s predictions are close to the actual values, meaning the model is performing well."
      ]
    },
    {
      "cell_type": "markdown",
      "id": "a3f6512e",
      "metadata": {
        "id": "a3f6512e"
      },
      "source": [
        "5. What are continuous and categorical variables?\n",
        "\n",
        "  Continuous variables are numerical and can take any value (e.g., height, weight). Categorical variables represent groups or categories (e.g., gender, color)."
      ]
    },
    {
      "cell_type": "markdown",
      "id": "6b6213af",
      "metadata": {
        "id": "6b6213af"
      },
      "source": [
        "6. How do we handle categorical variables in Machine Learning? What are the common techniques?\n",
        "\n",
        "  We use encoding techniques like One-Hot Encoding, Label Encoding, or Ordinal Encoding."
      ]
    },
    {
      "cell_type": "markdown",
      "id": "fdc43287",
      "metadata": {
        "id": "fdc43287"
      },
      "source": [
        "7. What do you mean by training and testing a dataset?\n",
        "\n",
        "  Training a dataset means using it to fit the model. Testing means evaluating the model’s performance on unseen data."
      ]
    },
    {
      "cell_type": "markdown",
      "id": "89ac10d3",
      "metadata": {
        "id": "89ac10d3"
      },
      "source": [
        "8. What is sklearn.preprocessing?\n",
        "\n",
        "  It is a module in scikit-learn that provides functions for preprocessing data (scaling, encoding, etc.)."
      ]
    },
    {
      "cell_type": "markdown",
      "id": "ebc22b2f",
      "metadata": {
        "id": "ebc22b2f"
      },
      "source": [
        "9. What is a Test set?\n",
        "\n",
        "  A test set is a portion of the dataset used to assess the performance of a trained model."
      ]
    },
    {
      "cell_type": "markdown",
      "id": "c7537f43",
      "metadata": {
        "id": "c7537f43"
      },
      "source": [
        "10. How do we split data for model fitting (training and testing) in Python, How do you approach a Machine Learning problem?\n",
        "\n",
        "  We use `train_test_split` from `sklearn.model_selection`.\n",
        "  1. Define problem\n",
        "  2. Collect data\n",
        "  3. Clean data\n",
        "  4. Perform EDA\n",
        "  5. Feature Engineering\n",
        "  6. Train/Test Split\n",
        "  7. Choose Model\n",
        "  8. Train Model\n",
        "  9. Evaluate Model\n",
        "  10. Tune Hyperparameters\n",
        "  11. Deploy"
      ]
    },
    {
      "cell_type": "markdown",
      "id": "621b117e",
      "metadata": {
        "id": "621b117e"
      },
      "source": [
        "11. Why do we have to perform EDA before fitting a model to the data?\n",
        "\n",
        "  EDA (Exploratory Data Analysis) helps understand the dataset, detect anomalies, and guide the feature selection and modeling process."
      ]
    },
    {
      "cell_type": "markdown",
      "id": "432ded32",
      "metadata": {
        "id": "432ded32"
      },
      "source": [
        "12. What is correlation?\n",
        "\n",
        "  It is the statistical relationship between two variables."
      ]
    },
    {
      "cell_type": "markdown",
      "id": "33b0258a",
      "metadata": {
        "id": "33b0258a"
      },
      "source": [
        "13. What does negative correlation mean?\n",
        "\n",
        "  It means one variable increases while the other decreases."
      ]
    },
    {
      "cell_type": "markdown",
      "id": "74383631",
      "metadata": {
        "id": "74383631"
      },
      "source": [
        "14. How can you find correlation between variables in Python?\n",
        "\n",
        "  Using `.corr()` method on a pandas DataFrame."
      ]
    },
    {
      "cell_type": "markdown",
      "id": "e779b2f5",
      "metadata": {
        "id": "e779b2f5"
      },
      "source": [
        "15. What is causation? Explain difference between correlation and causation with an example.\n",
        "\n",
        "  Causation means that one variable causes the change in another. Correlation is just an association. Example: Ice cream sales and drowning incidents are correlated (both increase in summer) but one does not cause the other."
      ]
    },
    {
      "cell_type": "markdown",
      "id": "b3700320",
      "metadata": {
        "id": "b3700320"
      },
      "source": [
        "16. What is an Optimizer? What are different types of optimizers? Explain each with an example.\n",
        "\n",
        "  An optimizer minimizes the loss function during training. Common types:\n",
        "  - SGD: Stochastic Gradient Descent, updates weights using a single batch.\n",
        "  - Adam: Combines momentum and adaptive learning rate.\n",
        "  - RMSProp: Uses a moving average of squared gradients."
      ]
    },
    {
      "cell_type": "markdown",
      "id": "ab480744",
      "metadata": {
        "id": "ab480744"
      },
      "source": [
        "17. What is sklearn.linear_model?\n",
        "\n",
        "  It is a module in scikit-learn that provides linear models like LinearRegression, LogisticRegression, etc."
      ]
    },
    {
      "cell_type": "markdown",
      "id": "0db29797",
      "metadata": {
        "id": "0db29797"
      },
      "source": [
        "18. What does model.fit() do? What arguments must be given?\n",
        "\n",
        "  It trains the model on training data. Arguments: X_train, y_train."
      ]
    },
    {
      "cell_type": "markdown",
      "id": "9832a043",
      "metadata": {
        "id": "9832a043"
      },
      "source": [
        "19. What does model.predict() do? What arguments must be given?\n",
        "\n",
        "  It makes predictions on new data. Arguments: X_test or new input data."
      ]
    },
    {
      "cell_type": "markdown",
      "id": "82dc7d4b",
      "metadata": {
        "id": "82dc7d4b"
      },
      "source": [
        "20. What are continuous and categorical variables?\n",
        "\n",
        "  Continuous: numeric and can take any value (e.g., age). Categorical: fixed groups or labels (e.g., gender)."
      ]
    },
    {
      "cell_type": "markdown",
      "id": "d9926e88",
      "metadata": {
        "id": "d9926e88"
      },
      "source": [
        "21. What is feature scaling? How does it help in Machine Learning?\n",
        "\n",
        "  It normalizes features to a similar range. Helps improve convergence speed and model performance."
      ]
    },
    {
      "cell_type": "markdown",
      "id": "a88d0c8b",
      "metadata": {
        "id": "a88d0c8b"
      },
      "source": [
        "22. How do we perform scaling in Python?\n",
        "\n",
        "  Using `StandardScaler` or `MinMaxScaler` from `sklearn.preprocessing`."
      ]
    },
    {
      "cell_type": "markdown",
      "id": "3ac4b510",
      "metadata": {
        "id": "3ac4b510"
      },
      "source": [
        "23. What is sklearn.preprocessing?\n",
        "\n",
        "  It’s a module for transforming features — includes functions like scaling, normalization, and encoding."
      ]
    },
    {
      "cell_type": "markdown",
      "id": "44107dec",
      "metadata": {
        "id": "44107dec"
      },
      "source": [
        "24. How do we split data for model fitting (training and testing) in Python?\n",
        "  \n",
        "  Using `train_test_split()` from `sklearn.model_selection`."
      ]
    },
    {
      "cell_type": "markdown",
      "id": "9fa1ffff",
      "metadata": {
        "id": "9fa1ffff"
      },
      "source": [
        "25. Explain data encoding?\n",
        "  \n",
        "  Encoding converts categorical variables into numeric formats so that machine learning models can process them."
      ]
    },
    {
      "cell_type": "code",
      "source": [],
      "metadata": {
        "id": "tEGO1D3mVciC"
      },
      "id": "tEGO1D3mVciC",
      "execution_count": null,
      "outputs": []
    }
  ],
  "metadata": {
    "colab": {
      "provenance": [],
      "include_colab_link": true
    }
  },
  "nbformat": 4,
  "nbformat_minor": 5
}